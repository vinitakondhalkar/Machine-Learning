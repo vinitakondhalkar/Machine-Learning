{
 "cells": [
  {
   "cell_type": "code",
   "execution_count": 1,
   "id": "ddfe6817",
   "metadata": {
    "_cell_guid": "b1076dfc-b9ad-4769-8c92-a6c4dae69d19",
    "_uuid": "8f2839f25d086af736a60e9eeb907d3b93b6e0e5",
    "execution": {
     "iopub.execute_input": "2022-08-23T06:28:49.271617Z",
     "iopub.status.busy": "2022-08-23T06:28:49.271004Z",
     "iopub.status.idle": "2022-08-23T06:28:49.298790Z",
     "shell.execute_reply": "2022-08-23T06:28:49.297537Z"
    },
    "papermill": {
     "duration": 0.055511,
     "end_time": "2022-08-23T06:28:49.301642",
     "exception": false,
     "start_time": "2022-08-23T06:28:49.246131",
     "status": "completed"
    },
    "tags": []
   },
   "outputs": [
    {
     "name": "stdout",
     "output_type": "stream",
     "text": [
      "/kaggle/input/the-boston-houseprice-data/boston.csv\n"
     ]
    }
   ],
   "source": [
    "# This Python 3 environment comes with many helpful analytics libraries installed\n",
    "# It is defined by the kaggle/python Docker image: https://github.com/kaggle/docker-python\n",
    "# For example, here's several helpful packages to load\n",
    "\n",
    "import numpy as np # linear algebra\n",
    "import pandas as pd # data processing, CSV file I/O (e.g. pd.read_csv)\n",
    "\n",
    "# Input data files are available in the read-only \"../input/\" directory\n",
    "# For example, running this (by clicking run or pressing Shift+Enter) will list all files under the input directory\n",
    "\n",
    "import os\n",
    "for dirname, _, filenames in os.walk('/kaggle/input'):\n",
    "    for filename in filenames:\n",
    "        print(os.path.join(dirname, filename))\n",
    "\n",
    "# You can write up to 20GB to the current directory (/kaggle/working/) that gets preserved as output when you create a version using \"Save & Run All\" \n",
    "# You can also write temporary files to /kaggle/temp/, but they won't be saved outside of the current session"
   ]
  },
  {
   "cell_type": "markdown",
   "id": "2b2021e6",
   "metadata": {
    "papermill": {
     "duration": 0.01647,
     "end_time": "2022-08-23T06:28:49.337701",
     "exception": false,
     "start_time": "2022-08-23T06:28:49.321231",
     "status": "completed"
    },
    "tags": []
   },
   "source": [
    "# Variance Threshhold****"
   ]
  },
  {
   "cell_type": "code",
   "execution_count": 2,
   "id": "73c32c1f",
   "metadata": {
    "execution": {
     "iopub.execute_input": "2022-08-23T06:28:49.373131Z",
     "iopub.status.busy": "2022-08-23T06:28:49.372629Z",
     "iopub.status.idle": "2022-08-23T06:28:49.378237Z",
     "shell.execute_reply": "2022-08-23T06:28:49.377066Z"
    },
    "papermill": {
     "duration": 0.02616,
     "end_time": "2022-08-23T06:28:49.380611",
     "exception": false,
     "start_time": "2022-08-23T06:28:49.354451",
     "status": "completed"
    },
    "tags": []
   },
   "outputs": [],
   "source": [
    "import pandas as pd"
   ]
  },
  {
   "cell_type": "code",
   "execution_count": 3,
   "id": "71efbddd",
   "metadata": {
    "execution": {
     "iopub.execute_input": "2022-08-23T06:28:49.424272Z",
     "iopub.status.busy": "2022-08-23T06:28:49.423776Z",
     "iopub.status.idle": "2022-08-23T06:28:49.433845Z",
     "shell.execute_reply": "2022-08-23T06:28:49.432670Z"
    },
    "papermill": {
     "duration": 0.033628,
     "end_time": "2022-08-23T06:28:49.436040",
     "exception": false,
     "start_time": "2022-08-23T06:28:49.402412",
     "status": "completed"
    },
    "tags": []
   },
   "outputs": [],
   "source": [
    "data = pd.DataFrame({\"A\":[1,2,4,1,2,4], \"B\":[4,5,6,7,8,9], \"C\":[0,0,0,0,0,0], \"D\":[1,1,1,1,1,1]})\n"
   ]
  },
  {
   "cell_type": "code",
   "execution_count": 4,
   "id": "cd3a0c20",
   "metadata": {
    "execution": {
     "iopub.execute_input": "2022-08-23T06:28:49.482361Z",
     "iopub.status.busy": "2022-08-23T06:28:49.481872Z",
     "iopub.status.idle": "2022-08-23T06:28:49.504279Z",
     "shell.execute_reply": "2022-08-23T06:28:49.503275Z"
    },
    "papermill": {
     "duration": 0.048767,
     "end_time": "2022-08-23T06:28:49.507004",
     "exception": false,
     "start_time": "2022-08-23T06:28:49.458237",
     "status": "completed"
    },
    "tags": []
   },
   "outputs": [
    {
     "data": {
      "text/html": [
       "<div>\n",
       "<style scoped>\n",
       "    .dataframe tbody tr th:only-of-type {\n",
       "        vertical-align: middle;\n",
       "    }\n",
       "\n",
       "    .dataframe tbody tr th {\n",
       "        vertical-align: top;\n",
       "    }\n",
       "\n",
       "    .dataframe thead th {\n",
       "        text-align: right;\n",
       "    }\n",
       "</style>\n",
       "<table border=\"1\" class=\"dataframe\">\n",
       "  <thead>\n",
       "    <tr style=\"text-align: right;\">\n",
       "      <th></th>\n",
       "      <th>A</th>\n",
       "      <th>B</th>\n",
       "      <th>C</th>\n",
       "      <th>D</th>\n",
       "    </tr>\n",
       "  </thead>\n",
       "  <tbody>\n",
       "    <tr>\n",
       "      <th>0</th>\n",
       "      <td>1</td>\n",
       "      <td>4</td>\n",
       "      <td>0</td>\n",
       "      <td>1</td>\n",
       "    </tr>\n",
       "    <tr>\n",
       "      <th>1</th>\n",
       "      <td>2</td>\n",
       "      <td>5</td>\n",
       "      <td>0</td>\n",
       "      <td>1</td>\n",
       "    </tr>\n",
       "    <tr>\n",
       "      <th>2</th>\n",
       "      <td>4</td>\n",
       "      <td>6</td>\n",
       "      <td>0</td>\n",
       "      <td>1</td>\n",
       "    </tr>\n",
       "    <tr>\n",
       "      <th>3</th>\n",
       "      <td>1</td>\n",
       "      <td>7</td>\n",
       "      <td>0</td>\n",
       "      <td>1</td>\n",
       "    </tr>\n",
       "    <tr>\n",
       "      <th>4</th>\n",
       "      <td>2</td>\n",
       "      <td>8</td>\n",
       "      <td>0</td>\n",
       "      <td>1</td>\n",
       "    </tr>\n",
       "    <tr>\n",
       "      <th>5</th>\n",
       "      <td>4</td>\n",
       "      <td>9</td>\n",
       "      <td>0</td>\n",
       "      <td>1</td>\n",
       "    </tr>\n",
       "  </tbody>\n",
       "</table>\n",
       "</div>"
      ],
      "text/plain": [
       "   A  B  C  D\n",
       "0  1  4  0  1\n",
       "1  2  5  0  1\n",
       "2  4  6  0  1\n",
       "3  1  7  0  1\n",
       "4  2  8  0  1\n",
       "5  4  9  0  1"
      ]
     },
     "execution_count": 4,
     "metadata": {},
     "output_type": "execute_result"
    }
   ],
   "source": [
    "data"
   ]
  },
  {
   "cell_type": "code",
   "execution_count": 5,
   "id": "48a835ac",
   "metadata": {
    "execution": {
     "iopub.execute_input": "2022-08-23T06:28:49.549117Z",
     "iopub.status.busy": "2022-08-23T06:28:49.548168Z",
     "iopub.status.idle": "2022-08-23T06:28:50.827522Z",
     "shell.execute_reply": "2022-08-23T06:28:50.826299Z"
    },
    "papermill": {
     "duration": 1.301124,
     "end_time": "2022-08-23T06:28:50.830414",
     "exception": false,
     "start_time": "2022-08-23T06:28:49.529290",
     "status": "completed"
    },
    "tags": []
   },
   "outputs": [],
   "source": [
    "### It will zero variance features\n",
    "from sklearn.feature_selection import VarianceThreshold \n"
   ]
  },
  {
   "cell_type": "code",
   "execution_count": 6,
   "id": "0e8e7e69",
   "metadata": {
    "execution": {
     "iopub.execute_input": "2022-08-23T06:28:50.868985Z",
     "iopub.status.busy": "2022-08-23T06:28:50.867577Z",
     "iopub.status.idle": "2022-08-23T06:28:50.872633Z",
     "shell.execute_reply": "2022-08-23T06:28:50.871839Z"
    },
    "papermill": {
     "duration": 0.025592,
     "end_time": "2022-08-23T06:28:50.874857",
     "exception": false,
     "start_time": "2022-08-23T06:28:50.849265",
     "status": "completed"
    },
    "tags": []
   },
   "outputs": [],
   "source": [
    "var_thres=VarianceThreshold(threshold=0) \n",
    "\n",
    "\n"
   ]
  },
  {
   "cell_type": "code",
   "execution_count": 7,
   "id": "c9b9b29a",
   "metadata": {
    "execution": {
     "iopub.execute_input": "2022-08-23T06:28:50.910457Z",
     "iopub.status.busy": "2022-08-23T06:28:50.909740Z",
     "iopub.status.idle": "2022-08-23T06:28:50.919367Z",
     "shell.execute_reply": "2022-08-23T06:28:50.918326Z"
    },
    "papermill": {
     "duration": 0.029837,
     "end_time": "2022-08-23T06:28:50.921615",
     "exception": false,
     "start_time": "2022-08-23T06:28:50.891778",
     "status": "completed"
    },
    "tags": []
   },
   "outputs": [
    {
     "data": {
      "text/plain": [
       "VarianceThreshold(threshold=0)"
      ]
     },
     "execution_count": 7,
     "metadata": {},
     "output_type": "execute_result"
    }
   ],
   "source": [
    "var_thres.fit(data) "
   ]
  },
  {
   "cell_type": "code",
   "execution_count": 8,
   "id": "7e070127",
   "metadata": {
    "execution": {
     "iopub.execute_input": "2022-08-23T06:28:50.958095Z",
     "iopub.status.busy": "2022-08-23T06:28:50.957500Z",
     "iopub.status.idle": "2022-08-23T06:28:50.963341Z",
     "shell.execute_reply": "2022-08-23T06:28:50.962591Z"
    },
    "papermill": {
     "duration": 0.026103,
     "end_time": "2022-08-23T06:28:50.965399",
     "exception": false,
     "start_time": "2022-08-23T06:28:50.939296",
     "status": "completed"
    },
    "tags": []
   },
   "outputs": [
    {
     "data": {
      "text/plain": [
       "array([ True,  True, False, False])"
      ]
     },
     "execution_count": 8,
     "metadata": {},
     "output_type": "execute_result"
    }
   ],
   "source": [
    "var_thres.get_support() \n",
    "\n"
   ]
  },
  {
   "cell_type": "code",
   "execution_count": 9,
   "id": "3a1f4aa8",
   "metadata": {
    "execution": {
     "iopub.execute_input": "2022-08-23T06:28:51.001777Z",
     "iopub.status.busy": "2022-08-23T06:28:51.001170Z",
     "iopub.status.idle": "2022-08-23T06:28:51.007594Z",
     "shell.execute_reply": "2022-08-23T06:28:51.006786Z"
    },
    "papermill": {
     "duration": 0.026849,
     "end_time": "2022-08-23T06:28:51.009714",
     "exception": false,
     "start_time": "2022-08-23T06:28:50.982865",
     "status": "completed"
    },
    "tags": []
   },
   "outputs": [
    {
     "data": {
      "text/plain": [
       "Index(['A', 'B'], dtype='object')"
      ]
     },
     "execution_count": 9,
     "metadata": {},
     "output_type": "execute_result"
    }
   ],
   "source": [
    "data.columns[var_thres.get_support()]\n"
   ]
  },
  {
   "cell_type": "code",
   "execution_count": 10,
   "id": "b651d44f",
   "metadata": {
    "execution": {
     "iopub.execute_input": "2022-08-23T06:28:51.046708Z",
     "iopub.status.busy": "2022-08-23T06:28:51.046121Z",
     "iopub.status.idle": "2022-08-23T06:28:51.053229Z",
     "shell.execute_reply": "2022-08-23T06:28:51.051991Z"
    },
    "papermill": {
     "duration": 0.027936,
     "end_time": "2022-08-23T06:28:51.055400",
     "exception": false,
     "start_time": "2022-08-23T06:28:51.027464",
     "status": "completed"
    },
    "tags": []
   },
   "outputs": [
    {
     "name": "stdout",
     "output_type": "stream",
     "text": [
      "['C', 'D']\n"
     ]
    }
   ],
   "source": [
    "constant_columns = [column for column in data.columns\n",
    "if column not in data.columns[var_thres.get_support()]]\n",
    "print(constant_columns)"
   ]
  },
  {
   "cell_type": "code",
   "execution_count": null,
   "id": "b4421c4e",
   "metadata": {
    "papermill": {
     "duration": 0.016964,
     "end_time": "2022-08-23T06:28:51.089698",
     "exception": false,
     "start_time": "2022-08-23T06:28:51.072734",
     "status": "completed"
    },
    "tags": []
   },
   "outputs": [],
   "source": []
  },
  {
   "cell_type": "markdown",
   "id": "2265057d",
   "metadata": {
    "papermill": {
     "duration": 0.017104,
     "end_time": "2022-08-23T06:28:51.124162",
     "exception": false,
     "start_time": "2022-08-23T06:28:51.107058",
     "status": "completed"
    },
    "tags": []
   },
   "source": [
    "# Correlation"
   ]
  },
  {
   "cell_type": "code",
   "execution_count": 11,
   "id": "6a6bd92c",
   "metadata": {
    "execution": {
     "iopub.execute_input": "2022-08-23T06:28:51.161493Z",
     "iopub.status.busy": "2022-08-23T06:28:51.160339Z",
     "iopub.status.idle": "2022-08-23T06:28:51.233120Z",
     "shell.execute_reply": "2022-08-23T06:28:51.231919Z"
    },
    "papermill": {
     "duration": 0.09423,
     "end_time": "2022-08-23T06:28:51.235926",
     "exception": false,
     "start_time": "2022-08-23T06:28:51.141696",
     "status": "completed"
    },
    "tags": []
   },
   "outputs": [],
   "source": [
    "#importing libraries\n",
    "from sklearn.datasets import load_boston\n",
    "\n"
   ]
  },
  {
   "cell_type": "code",
   "execution_count": 12,
   "id": "c05c29e1",
   "metadata": {
    "execution": {
     "iopub.execute_input": "2022-08-23T06:28:51.272654Z",
     "iopub.status.busy": "2022-08-23T06:28:51.271958Z",
     "iopub.status.idle": "2022-08-23T06:28:51.276950Z",
     "shell.execute_reply": "2022-08-23T06:28:51.275661Z"
    },
    "papermill": {
     "duration": 0.025858,
     "end_time": "2022-08-23T06:28:51.279310",
     "exception": false,
     "start_time": "2022-08-23T06:28:51.253452",
     "status": "completed"
    },
    "tags": []
   },
   "outputs": [],
   "source": [
    " import pandas as pd "
   ]
  },
  {
   "cell_type": "code",
   "execution_count": 13,
   "id": "1a36e12e",
   "metadata": {
    "execution": {
     "iopub.execute_input": "2022-08-23T06:28:51.316096Z",
     "iopub.status.busy": "2022-08-23T06:28:51.315633Z",
     "iopub.status.idle": "2022-08-23T06:28:51.330929Z",
     "shell.execute_reply": "2022-08-23T06:28:51.329730Z"
    },
    "papermill": {
     "duration": 0.037206,
     "end_time": "2022-08-23T06:28:51.333950",
     "exception": false,
     "start_time": "2022-08-23T06:28:51.296744",
     "status": "completed"
    },
    "tags": []
   },
   "outputs": [
    {
     "name": "stderr",
     "output_type": "stream",
     "text": [
      "/opt/conda/lib/python3.7/site-packages/sklearn/utils/deprecation.py:87: FutureWarning: Function load_boston is deprecated; `load_boston` is deprecated in 1.0 and will be removed in 1.2.\n",
      "\n",
      "    The Boston housing prices dataset has an ethical problem. You can refer to\n",
      "    the documentation of this function for further details.\n",
      "\n",
      "    The scikit-learn maintainers therefore strongly discourage the use of this\n",
      "    dataset unless the purpose of the code is to study and educate about\n",
      "    ethical issues in data science and machine learning.\n",
      "\n",
      "    In this special case, you can fetch the dataset from the original\n",
      "    source::\n",
      "\n",
      "        import pandas as pd\n",
      "        import numpy as np\n",
      "\n",
      "\n",
      "        data_url = \"http://lib.stat.cmu.edu/datasets/boston\"\n",
      "        raw_df = pd.read_csv(data_url, sep=\"\\s+\", skiprows=22, header=None)\n",
      "        data = np.hstack([raw_df.values[::2, :], raw_df.values[1::2, :2]])\n",
      "        target = raw_df.values[1::2, 2]\n",
      "\n",
      "    Alternative datasets include the California housing dataset (i.e.\n",
      "    :func:`~sklearn.datasets.fetch_california_housing`) and the Ames housing\n",
      "    dataset. You can load the datasets as follows::\n",
      "\n",
      "        from sklearn.datasets import fetch_california_housing\n",
      "        housing = fetch_california_housing()\n",
      "\n",
      "    for the California housing dataset and::\n",
      "\n",
      "        from sklearn.datasets import fetch_openml\n",
      "        housing = fetch_openml(name=\"house_prices\", as_frame=True)\n",
      "\n",
      "    for the Ames housing dataset.\n",
      "    \n",
      "  warnings.warn(msg, category=FutureWarning)\n"
     ]
    }
   ],
   "source": [
    "#Loading the dataset \n",
    "data = load_boston() \n",
    "df = pd.DataFrame(data.data, columns = data.feature_names) \n"
   ]
  },
  {
   "cell_type": "code",
   "execution_count": 14,
   "id": "20ee5bc8",
   "metadata": {
    "execution": {
     "iopub.execute_input": "2022-08-23T06:28:51.371735Z",
     "iopub.status.busy": "2022-08-23T06:28:51.371303Z",
     "iopub.status.idle": "2022-08-23T06:28:51.396148Z",
     "shell.execute_reply": "2022-08-23T06:28:51.394816Z"
    },
    "papermill": {
     "duration": 0.046867,
     "end_time": "2022-08-23T06:28:51.398528",
     "exception": false,
     "start_time": "2022-08-23T06:28:51.351661",
     "status": "completed"
    },
    "tags": []
   },
   "outputs": [
    {
     "data": {
      "text/html": [
       "<div>\n",
       "<style scoped>\n",
       "    .dataframe tbody tr th:only-of-type {\n",
       "        vertical-align: middle;\n",
       "    }\n",
       "\n",
       "    .dataframe tbody tr th {\n",
       "        vertical-align: top;\n",
       "    }\n",
       "\n",
       "    .dataframe thead th {\n",
       "        text-align: right;\n",
       "    }\n",
       "</style>\n",
       "<table border=\"1\" class=\"dataframe\">\n",
       "  <thead>\n",
       "    <tr style=\"text-align: right;\">\n",
       "      <th></th>\n",
       "      <th>CRIM</th>\n",
       "      <th>ZN</th>\n",
       "      <th>INDUS</th>\n",
       "      <th>CHAS</th>\n",
       "      <th>NOX</th>\n",
       "      <th>RM</th>\n",
       "      <th>AGE</th>\n",
       "      <th>DIS</th>\n",
       "      <th>RAD</th>\n",
       "      <th>TAX</th>\n",
       "      <th>PTRATIO</th>\n",
       "      <th>B</th>\n",
       "      <th>LSTAT</th>\n",
       "    </tr>\n",
       "  </thead>\n",
       "  <tbody>\n",
       "    <tr>\n",
       "      <th>0</th>\n",
       "      <td>0.00632</td>\n",
       "      <td>18.0</td>\n",
       "      <td>2.31</td>\n",
       "      <td>0.0</td>\n",
       "      <td>0.538</td>\n",
       "      <td>6.575</td>\n",
       "      <td>65.2</td>\n",
       "      <td>4.0900</td>\n",
       "      <td>1.0</td>\n",
       "      <td>296.0</td>\n",
       "      <td>15.3</td>\n",
       "      <td>396.90</td>\n",
       "      <td>4.98</td>\n",
       "    </tr>\n",
       "    <tr>\n",
       "      <th>1</th>\n",
       "      <td>0.02731</td>\n",
       "      <td>0.0</td>\n",
       "      <td>7.07</td>\n",
       "      <td>0.0</td>\n",
       "      <td>0.469</td>\n",
       "      <td>6.421</td>\n",
       "      <td>78.9</td>\n",
       "      <td>4.9671</td>\n",
       "      <td>2.0</td>\n",
       "      <td>242.0</td>\n",
       "      <td>17.8</td>\n",
       "      <td>396.90</td>\n",
       "      <td>9.14</td>\n",
       "    </tr>\n",
       "    <tr>\n",
       "      <th>2</th>\n",
       "      <td>0.02729</td>\n",
       "      <td>0.0</td>\n",
       "      <td>7.07</td>\n",
       "      <td>0.0</td>\n",
       "      <td>0.469</td>\n",
       "      <td>7.185</td>\n",
       "      <td>61.1</td>\n",
       "      <td>4.9671</td>\n",
       "      <td>2.0</td>\n",
       "      <td>242.0</td>\n",
       "      <td>17.8</td>\n",
       "      <td>392.83</td>\n",
       "      <td>4.03</td>\n",
       "    </tr>\n",
       "    <tr>\n",
       "      <th>3</th>\n",
       "      <td>0.03237</td>\n",
       "      <td>0.0</td>\n",
       "      <td>2.18</td>\n",
       "      <td>0.0</td>\n",
       "      <td>0.458</td>\n",
       "      <td>6.998</td>\n",
       "      <td>45.8</td>\n",
       "      <td>6.0622</td>\n",
       "      <td>3.0</td>\n",
       "      <td>222.0</td>\n",
       "      <td>18.7</td>\n",
       "      <td>394.63</td>\n",
       "      <td>2.94</td>\n",
       "    </tr>\n",
       "    <tr>\n",
       "      <th>4</th>\n",
       "      <td>0.06905</td>\n",
       "      <td>0.0</td>\n",
       "      <td>2.18</td>\n",
       "      <td>0.0</td>\n",
       "      <td>0.458</td>\n",
       "      <td>7.147</td>\n",
       "      <td>54.2</td>\n",
       "      <td>6.0622</td>\n",
       "      <td>3.0</td>\n",
       "      <td>222.0</td>\n",
       "      <td>18.7</td>\n",
       "      <td>396.90</td>\n",
       "      <td>5.33</td>\n",
       "    </tr>\n",
       "  </tbody>\n",
       "</table>\n",
       "</div>"
      ],
      "text/plain": [
       "      CRIM    ZN  INDUS  CHAS    NOX     RM   AGE     DIS  RAD    TAX  \\\n",
       "0  0.00632  18.0   2.31   0.0  0.538  6.575  65.2  4.0900  1.0  296.0   \n",
       "1  0.02731   0.0   7.07   0.0  0.469  6.421  78.9  4.9671  2.0  242.0   \n",
       "2  0.02729   0.0   7.07   0.0  0.469  7.185  61.1  4.9671  2.0  242.0   \n",
       "3  0.03237   0.0   2.18   0.0  0.458  6.998  45.8  6.0622  3.0  222.0   \n",
       "4  0.06905   0.0   2.18   0.0  0.458  7.147  54.2  6.0622  3.0  222.0   \n",
       "\n",
       "   PTRATIO       B  LSTAT  \n",
       "0     15.3  396.90   4.98  \n",
       "1     17.8  396.90   9.14  \n",
       "2     17.8  392.83   4.03  \n",
       "3     18.7  394.63   2.94  \n",
       "4     18.7  396.90   5.33  "
      ]
     },
     "execution_count": 14,
     "metadata": {},
     "output_type": "execute_result"
    }
   ],
   "source": [
    "df.head()"
   ]
  },
  {
   "cell_type": "code",
   "execution_count": 15,
   "id": "b0cdb0f4",
   "metadata": {
    "execution": {
     "iopub.execute_input": "2022-08-23T06:28:51.436114Z",
     "iopub.status.busy": "2022-08-23T06:28:51.435678Z",
     "iopub.status.idle": "2022-08-23T06:28:51.451305Z",
     "shell.execute_reply": "2022-08-23T06:28:51.449817Z"
    },
    "papermill": {
     "duration": 0.037401,
     "end_time": "2022-08-23T06:28:51.453752",
     "exception": false,
     "start_time": "2022-08-23T06:28:51.416351",
     "status": "completed"
    },
    "tags": []
   },
   "outputs": [],
   "source": [
    "df[\"MEDV\"] = data.target\n",
    "X = df.drop(\"MEDV\",axis=1)\n"
   ]
  },
  {
   "cell_type": "code",
   "execution_count": 16,
   "id": "4ecb147b",
   "metadata": {
    "execution": {
     "iopub.execute_input": "2022-08-23T06:28:51.491821Z",
     "iopub.status.busy": "2022-08-23T06:28:51.490585Z",
     "iopub.status.idle": "2022-08-23T06:28:51.495477Z",
     "shell.execute_reply": "2022-08-23T06:28:51.494666Z"
    },
    "papermill": {
     "duration": 0.025781,
     "end_time": "2022-08-23T06:28:51.497452",
     "exception": false,
     "start_time": "2022-08-23T06:28:51.471671",
     "status": "completed"
    },
    "tags": []
   },
   "outputs": [],
   "source": [
    " #Feature Matrix\n",
    "y = df[\"MEDV\"] \n"
   ]
  },
  {
   "cell_type": "code",
   "execution_count": 17,
   "id": "566d00db",
   "metadata": {
    "execution": {
     "iopub.execute_input": "2022-08-23T06:28:51.536033Z",
     "iopub.status.busy": "2022-08-23T06:28:51.535306Z",
     "iopub.status.idle": "2022-08-23T06:28:51.541449Z",
     "shell.execute_reply": "2022-08-23T06:28:51.540717Z"
    },
    "papermill": {
     "duration": 0.027718,
     "end_time": "2022-08-23T06:28:51.543533",
     "exception": false,
     "start_time": "2022-08-23T06:28:51.515815",
     "status": "completed"
    },
    "tags": []
   },
   "outputs": [],
   "source": [
    "# separate dataset into train and test\n",
    "from sklearn.model_selection import train_test_split \n",
    "X_train, X_test, y_train, y_test = train_test_split( X, y, test_size=0.3, random_state=0) \n"
   ]
  },
  {
   "cell_type": "code",
   "execution_count": 18,
   "id": "f30a02be",
   "metadata": {
    "execution": {
     "iopub.execute_input": "2022-08-23T06:28:51.581409Z",
     "iopub.status.busy": "2022-08-23T06:28:51.580654Z",
     "iopub.status.idle": "2022-08-23T06:28:51.604857Z",
     "shell.execute_reply": "2022-08-23T06:28:51.603985Z"
    },
    "papermill": {
     "duration": 0.045297,
     "end_time": "2022-08-23T06:28:51.606914",
     "exception": false,
     "start_time": "2022-08-23T06:28:51.561617",
     "status": "completed"
    },
    "tags": []
   },
   "outputs": [
    {
     "data": {
      "text/html": [
       "<div>\n",
       "<style scoped>\n",
       "    .dataframe tbody tr th:only-of-type {\n",
       "        vertical-align: middle;\n",
       "    }\n",
       "\n",
       "    .dataframe tbody tr th {\n",
       "        vertical-align: top;\n",
       "    }\n",
       "\n",
       "    .dataframe thead th {\n",
       "        text-align: right;\n",
       "    }\n",
       "</style>\n",
       "<table border=\"1\" class=\"dataframe\">\n",
       "  <thead>\n",
       "    <tr style=\"text-align: right;\">\n",
       "      <th></th>\n",
       "      <th>CRIM</th>\n",
       "      <th>ZN</th>\n",
       "      <th>INDUS</th>\n",
       "      <th>CHAS</th>\n",
       "      <th>NOX</th>\n",
       "      <th>RM</th>\n",
       "      <th>AGE</th>\n",
       "      <th>DIS</th>\n",
       "      <th>RAD</th>\n",
       "      <th>TAX</th>\n",
       "      <th>PTRATIO</th>\n",
       "      <th>B</th>\n",
       "      <th>LSTAT</th>\n",
       "    </tr>\n",
       "  </thead>\n",
       "  <tbody>\n",
       "    <tr>\n",
       "      <th>CRIM</th>\n",
       "      <td>1.000000</td>\n",
       "      <td>-0.196172</td>\n",
       "      <td>0.382073</td>\n",
       "      <td>-0.049364</td>\n",
       "      <td>0.416560</td>\n",
       "      <td>-0.188280</td>\n",
       "      <td>0.329927</td>\n",
       "      <td>-0.355840</td>\n",
       "      <td>0.603880</td>\n",
       "      <td>0.560570</td>\n",
       "      <td>0.264780</td>\n",
       "      <td>-0.299525</td>\n",
       "      <td>0.439369</td>\n",
       "    </tr>\n",
       "    <tr>\n",
       "      <th>ZN</th>\n",
       "      <td>-0.196172</td>\n",
       "      <td>1.000000</td>\n",
       "      <td>-0.529392</td>\n",
       "      <td>-0.063863</td>\n",
       "      <td>-0.523572</td>\n",
       "      <td>0.319260</td>\n",
       "      <td>-0.583885</td>\n",
       "      <td>0.658331</td>\n",
       "      <td>-0.314833</td>\n",
       "      <td>-0.327834</td>\n",
       "      <td>-0.392838</td>\n",
       "      <td>0.164641</td>\n",
       "      <td>-0.429178</td>\n",
       "    </tr>\n",
       "    <tr>\n",
       "      <th>INDUS</th>\n",
       "      <td>0.382073</td>\n",
       "      <td>-0.529392</td>\n",
       "      <td>1.000000</td>\n",
       "      <td>0.044224</td>\n",
       "      <td>0.750218</td>\n",
       "      <td>-0.392969</td>\n",
       "      <td>0.629257</td>\n",
       "      <td>-0.686848</td>\n",
       "      <td>0.578459</td>\n",
       "      <td>0.719038</td>\n",
       "      <td>0.388353</td>\n",
       "      <td>-0.331638</td>\n",
       "      <td>0.603374</td>\n",
       "    </tr>\n",
       "    <tr>\n",
       "      <th>CHAS</th>\n",
       "      <td>-0.049364</td>\n",
       "      <td>-0.063863</td>\n",
       "      <td>0.044224</td>\n",
       "      <td>1.000000</td>\n",
       "      <td>0.043748</td>\n",
       "      <td>0.088125</td>\n",
       "      <td>0.067269</td>\n",
       "      <td>-0.085492</td>\n",
       "      <td>0.022338</td>\n",
       "      <td>-0.017156</td>\n",
       "      <td>-0.072683</td>\n",
       "      <td>0.069682</td>\n",
       "      <td>-0.059060</td>\n",
       "    </tr>\n",
       "    <tr>\n",
       "      <th>NOX</th>\n",
       "      <td>0.416560</td>\n",
       "      <td>-0.523572</td>\n",
       "      <td>0.750218</td>\n",
       "      <td>0.043748</td>\n",
       "      <td>1.000000</td>\n",
       "      <td>-0.279202</td>\n",
       "      <td>0.740052</td>\n",
       "      <td>-0.765753</td>\n",
       "      <td>0.627188</td>\n",
       "      <td>0.683445</td>\n",
       "      <td>0.179046</td>\n",
       "      <td>-0.369445</td>\n",
       "      <td>0.577154</td>\n",
       "    </tr>\n",
       "    <tr>\n",
       "      <th>RM</th>\n",
       "      <td>-0.188280</td>\n",
       "      <td>0.319260</td>\n",
       "      <td>-0.392969</td>\n",
       "      <td>0.088125</td>\n",
       "      <td>-0.279202</td>\n",
       "      <td>1.000000</td>\n",
       "      <td>-0.235839</td>\n",
       "      <td>0.183857</td>\n",
       "      <td>-0.179242</td>\n",
       "      <td>-0.275242</td>\n",
       "      <td>-0.385526</td>\n",
       "      <td>0.157459</td>\n",
       "      <td>-0.623920</td>\n",
       "    </tr>\n",
       "    <tr>\n",
       "      <th>AGE</th>\n",
       "      <td>0.329927</td>\n",
       "      <td>-0.583885</td>\n",
       "      <td>0.629257</td>\n",
       "      <td>0.067269</td>\n",
       "      <td>0.740052</td>\n",
       "      <td>-0.235839</td>\n",
       "      <td>1.000000</td>\n",
       "      <td>-0.761543</td>\n",
       "      <td>0.440578</td>\n",
       "      <td>0.502429</td>\n",
       "      <td>0.239729</td>\n",
       "      <td>-0.250416</td>\n",
       "      <td>0.606530</td>\n",
       "    </tr>\n",
       "    <tr>\n",
       "      <th>DIS</th>\n",
       "      <td>-0.355840</td>\n",
       "      <td>0.658331</td>\n",
       "      <td>-0.686848</td>\n",
       "      <td>-0.085492</td>\n",
       "      <td>-0.765753</td>\n",
       "      <td>0.183857</td>\n",
       "      <td>-0.761543</td>\n",
       "      <td>1.000000</td>\n",
       "      <td>-0.467653</td>\n",
       "      <td>-0.519643</td>\n",
       "      <td>-0.176620</td>\n",
       "      <td>0.248376</td>\n",
       "      <td>-0.501780</td>\n",
       "    </tr>\n",
       "    <tr>\n",
       "      <th>RAD</th>\n",
       "      <td>0.603880</td>\n",
       "      <td>-0.314833</td>\n",
       "      <td>0.578459</td>\n",
       "      <td>0.022338</td>\n",
       "      <td>0.627188</td>\n",
       "      <td>-0.179242</td>\n",
       "      <td>0.440578</td>\n",
       "      <td>-0.467653</td>\n",
       "      <td>1.000000</td>\n",
       "      <td>0.907455</td>\n",
       "      <td>0.437687</td>\n",
       "      <td>-0.415325</td>\n",
       "      <td>0.442783</td>\n",
       "    </tr>\n",
       "    <tr>\n",
       "      <th>TAX</th>\n",
       "      <td>0.560570</td>\n",
       "      <td>-0.327834</td>\n",
       "      <td>0.719038</td>\n",
       "      <td>-0.017156</td>\n",
       "      <td>0.683445</td>\n",
       "      <td>-0.275242</td>\n",
       "      <td>0.502429</td>\n",
       "      <td>-0.519643</td>\n",
       "      <td>0.907455</td>\n",
       "      <td>1.000000</td>\n",
       "      <td>0.447518</td>\n",
       "      <td>-0.412145</td>\n",
       "      <td>0.515905</td>\n",
       "    </tr>\n",
       "    <tr>\n",
       "      <th>PTRATIO</th>\n",
       "      <td>0.264780</td>\n",
       "      <td>-0.392838</td>\n",
       "      <td>0.388353</td>\n",
       "      <td>-0.072683</td>\n",
       "      <td>0.179046</td>\n",
       "      <td>-0.385526</td>\n",
       "      <td>0.239729</td>\n",
       "      <td>-0.176620</td>\n",
       "      <td>0.437687</td>\n",
       "      <td>0.447518</td>\n",
       "      <td>1.000000</td>\n",
       "      <td>-0.145638</td>\n",
       "      <td>0.387752</td>\n",
       "    </tr>\n",
       "    <tr>\n",
       "      <th>B</th>\n",
       "      <td>-0.299525</td>\n",
       "      <td>0.164641</td>\n",
       "      <td>-0.331638</td>\n",
       "      <td>0.069682</td>\n",
       "      <td>-0.369445</td>\n",
       "      <td>0.157459</td>\n",
       "      <td>-0.250416</td>\n",
       "      <td>0.248376</td>\n",
       "      <td>-0.415325</td>\n",
       "      <td>-0.412145</td>\n",
       "      <td>-0.145638</td>\n",
       "      <td>1.000000</td>\n",
       "      <td>-0.365338</td>\n",
       "    </tr>\n",
       "    <tr>\n",
       "      <th>LSTAT</th>\n",
       "      <td>0.439369</td>\n",
       "      <td>-0.429178</td>\n",
       "      <td>0.603374</td>\n",
       "      <td>-0.059060</td>\n",
       "      <td>0.577154</td>\n",
       "      <td>-0.623920</td>\n",
       "      <td>0.606530</td>\n",
       "      <td>-0.501780</td>\n",
       "      <td>0.442783</td>\n",
       "      <td>0.515905</td>\n",
       "      <td>0.387752</td>\n",
       "      <td>-0.365338</td>\n",
       "      <td>1.000000</td>\n",
       "    </tr>\n",
       "  </tbody>\n",
       "</table>\n",
       "</div>"
      ],
      "text/plain": [
       "             CRIM        ZN     INDUS      CHAS       NOX        RM       AGE  \\\n",
       "CRIM     1.000000 -0.196172  0.382073 -0.049364  0.416560 -0.188280  0.329927   \n",
       "ZN      -0.196172  1.000000 -0.529392 -0.063863 -0.523572  0.319260 -0.583885   \n",
       "INDUS    0.382073 -0.529392  1.000000  0.044224  0.750218 -0.392969  0.629257   \n",
       "CHAS    -0.049364 -0.063863  0.044224  1.000000  0.043748  0.088125  0.067269   \n",
       "NOX      0.416560 -0.523572  0.750218  0.043748  1.000000 -0.279202  0.740052   \n",
       "RM      -0.188280  0.319260 -0.392969  0.088125 -0.279202  1.000000 -0.235839   \n",
       "AGE      0.329927 -0.583885  0.629257  0.067269  0.740052 -0.235839  1.000000   \n",
       "DIS     -0.355840  0.658331 -0.686848 -0.085492 -0.765753  0.183857 -0.761543   \n",
       "RAD      0.603880 -0.314833  0.578459  0.022338  0.627188 -0.179242  0.440578   \n",
       "TAX      0.560570 -0.327834  0.719038 -0.017156  0.683445 -0.275242  0.502429   \n",
       "PTRATIO  0.264780 -0.392838  0.388353 -0.072683  0.179046 -0.385526  0.239729   \n",
       "B       -0.299525  0.164641 -0.331638  0.069682 -0.369445  0.157459 -0.250416   \n",
       "LSTAT    0.439369 -0.429178  0.603374 -0.059060  0.577154 -0.623920  0.606530   \n",
       "\n",
       "              DIS       RAD       TAX   PTRATIO         B     LSTAT  \n",
       "CRIM    -0.355840  0.603880  0.560570  0.264780 -0.299525  0.439369  \n",
       "ZN       0.658331 -0.314833 -0.327834 -0.392838  0.164641 -0.429178  \n",
       "INDUS   -0.686848  0.578459  0.719038  0.388353 -0.331638  0.603374  \n",
       "CHAS    -0.085492  0.022338 -0.017156 -0.072683  0.069682 -0.059060  \n",
       "NOX     -0.765753  0.627188  0.683445  0.179046 -0.369445  0.577154  \n",
       "RM       0.183857 -0.179242 -0.275242 -0.385526  0.157459 -0.623920  \n",
       "AGE     -0.761543  0.440578  0.502429  0.239729 -0.250416  0.606530  \n",
       "DIS      1.000000 -0.467653 -0.519643 -0.176620  0.248376 -0.501780  \n",
       "RAD     -0.467653  1.000000  0.907455  0.437687 -0.415325  0.442783  \n",
       "TAX     -0.519643  0.907455  1.000000  0.447518 -0.412145  0.515905  \n",
       "PTRATIO -0.176620  0.437687  0.447518  1.000000 -0.145638  0.387752  \n",
       "B        0.248376 -0.415325 -0.412145 -0.145638  1.000000 -0.365338  \n",
       "LSTAT   -0.501780  0.442783  0.515905  0.387752 -0.365338  1.000000  "
      ]
     },
     "execution_count": 18,
     "metadata": {},
     "output_type": "execute_result"
    }
   ],
   "source": [
    "X_train.corr() \n"
   ]
  },
  {
   "cell_type": "code",
   "execution_count": 19,
   "id": "eb2bef6a",
   "metadata": {
    "execution": {
     "iopub.execute_input": "2022-08-23T06:28:51.646140Z",
     "iopub.status.busy": "2022-08-23T06:28:51.645484Z",
     "iopub.status.idle": "2022-08-23T06:28:51.651502Z",
     "shell.execute_reply": "2022-08-23T06:28:51.650712Z"
    },
    "papermill": {
     "duration": 0.02784,
     "end_time": "2022-08-23T06:28:51.653494",
     "exception": false,
     "start_time": "2022-08-23T06:28:51.625654",
     "status": "completed"
    },
    "tags": []
   },
   "outputs": [],
   "source": [
    "def correlation(dataset, threshold):\n",
    "    col_corr = set()  # Set of all the names of correlated columns\n",
    "    corr_matrix = dataset.corr()\n",
    "    for i in range(len(corr_matrix.columns)):\n",
    "        for j in range(i):\n",
    "            if abs(corr_matrix.iloc[i, j]) > threshold: # we are interested in absolute coeff value\n",
    "                colname = corr_matrix.columns[i]  # getting the name of column\n",
    "                col_corr.add(colname)\n",
    "    return col_corr \t"
   ]
  },
  {
   "cell_type": "code",
   "execution_count": 20,
   "id": "8a73635f",
   "metadata": {
    "execution": {
     "iopub.execute_input": "2022-08-23T06:28:51.691969Z",
     "iopub.status.busy": "2022-08-23T06:28:51.691266Z",
     "iopub.status.idle": "2022-08-23T06:28:51.701314Z",
     "shell.execute_reply": "2022-08-23T06:28:51.700179Z"
    },
    "papermill": {
     "duration": 0.03179,
     "end_time": "2022-08-23T06:28:51.703573",
     "exception": false,
     "start_time": "2022-08-23T06:28:51.671783",
     "status": "completed"
    },
    "tags": []
   },
   "outputs": [
    {
     "data": {
      "text/plain": [
       "{'AGE', 'DIS', 'NOX', 'TAX'}"
      ]
     },
     "execution_count": 20,
     "metadata": {},
     "output_type": "execute_result"
    }
   ],
   "source": [
    "corr_features = correlation(X_train, 0.7)\n",
    "corr_features\n"
   ]
  },
  {
   "cell_type": "code",
   "execution_count": 21,
   "id": "1bbbc9ef",
   "metadata": {
    "execution": {
     "iopub.execute_input": "2022-08-23T06:28:51.741935Z",
     "iopub.status.busy": "2022-08-23T06:28:51.741186Z",
     "iopub.status.idle": "2022-08-23T06:28:51.765152Z",
     "shell.execute_reply": "2022-08-23T06:28:51.763920Z"
    },
    "papermill": {
     "duration": 0.045582,
     "end_time": "2022-08-23T06:28:51.767369",
     "exception": false,
     "start_time": "2022-08-23T06:28:51.721787",
     "status": "completed"
    },
    "tags": []
   },
   "outputs": [
    {
     "data": {
      "text/html": [
       "<div>\n",
       "<style scoped>\n",
       "    .dataframe tbody tr th:only-of-type {\n",
       "        vertical-align: middle;\n",
       "    }\n",
       "\n",
       "    .dataframe tbody tr th {\n",
       "        vertical-align: top;\n",
       "    }\n",
       "\n",
       "    .dataframe thead th {\n",
       "        text-align: right;\n",
       "    }\n",
       "</style>\n",
       "<table border=\"1\" class=\"dataframe\">\n",
       "  <thead>\n",
       "    <tr style=\"text-align: right;\">\n",
       "      <th></th>\n",
       "      <th>CRIM</th>\n",
       "      <th>ZN</th>\n",
       "      <th>INDUS</th>\n",
       "      <th>CHAS</th>\n",
       "      <th>RM</th>\n",
       "      <th>RAD</th>\n",
       "      <th>PTRATIO</th>\n",
       "      <th>B</th>\n",
       "      <th>LSTAT</th>\n",
       "    </tr>\n",
       "  </thead>\n",
       "  <tbody>\n",
       "    <tr>\n",
       "      <th>329</th>\n",
       "      <td>0.06724</td>\n",
       "      <td>0.0</td>\n",
       "      <td>3.24</td>\n",
       "      <td>0.0</td>\n",
       "      <td>6.333</td>\n",
       "      <td>4.0</td>\n",
       "      <td>16.9</td>\n",
       "      <td>375.21</td>\n",
       "      <td>7.34</td>\n",
       "    </tr>\n",
       "    <tr>\n",
       "      <th>371</th>\n",
       "      <td>9.23230</td>\n",
       "      <td>0.0</td>\n",
       "      <td>18.10</td>\n",
       "      <td>0.0</td>\n",
       "      <td>6.216</td>\n",
       "      <td>24.0</td>\n",
       "      <td>20.2</td>\n",
       "      <td>366.15</td>\n",
       "      <td>9.53</td>\n",
       "    </tr>\n",
       "    <tr>\n",
       "      <th>219</th>\n",
       "      <td>0.11425</td>\n",
       "      <td>0.0</td>\n",
       "      <td>13.89</td>\n",
       "      <td>1.0</td>\n",
       "      <td>6.373</td>\n",
       "      <td>5.0</td>\n",
       "      <td>16.4</td>\n",
       "      <td>393.74</td>\n",
       "      <td>10.50</td>\n",
       "    </tr>\n",
       "    <tr>\n",
       "      <th>403</th>\n",
       "      <td>24.80170</td>\n",
       "      <td>0.0</td>\n",
       "      <td>18.10</td>\n",
       "      <td>0.0</td>\n",
       "      <td>5.349</td>\n",
       "      <td>24.0</td>\n",
       "      <td>20.2</td>\n",
       "      <td>396.90</td>\n",
       "      <td>19.77</td>\n",
       "    </tr>\n",
       "    <tr>\n",
       "      <th>78</th>\n",
       "      <td>0.05646</td>\n",
       "      <td>0.0</td>\n",
       "      <td>12.83</td>\n",
       "      <td>0.0</td>\n",
       "      <td>6.232</td>\n",
       "      <td>5.0</td>\n",
       "      <td>18.7</td>\n",
       "      <td>386.40</td>\n",
       "      <td>12.34</td>\n",
       "    </tr>\n",
       "    <tr>\n",
       "      <th>...</th>\n",
       "      <td>...</td>\n",
       "      <td>...</td>\n",
       "      <td>...</td>\n",
       "      <td>...</td>\n",
       "      <td>...</td>\n",
       "      <td>...</td>\n",
       "      <td>...</td>\n",
       "      <td>...</td>\n",
       "      <td>...</td>\n",
       "    </tr>\n",
       "    <tr>\n",
       "      <th>4</th>\n",
       "      <td>0.06905</td>\n",
       "      <td>0.0</td>\n",
       "      <td>2.18</td>\n",
       "      <td>0.0</td>\n",
       "      <td>7.147</td>\n",
       "      <td>3.0</td>\n",
       "      <td>18.7</td>\n",
       "      <td>396.90</td>\n",
       "      <td>5.33</td>\n",
       "    </tr>\n",
       "    <tr>\n",
       "      <th>428</th>\n",
       "      <td>7.36711</td>\n",
       "      <td>0.0</td>\n",
       "      <td>18.10</td>\n",
       "      <td>0.0</td>\n",
       "      <td>6.193</td>\n",
       "      <td>24.0</td>\n",
       "      <td>20.2</td>\n",
       "      <td>96.73</td>\n",
       "      <td>21.52</td>\n",
       "    </tr>\n",
       "    <tr>\n",
       "      <th>385</th>\n",
       "      <td>16.81180</td>\n",
       "      <td>0.0</td>\n",
       "      <td>18.10</td>\n",
       "      <td>0.0</td>\n",
       "      <td>5.277</td>\n",
       "      <td>24.0</td>\n",
       "      <td>20.2</td>\n",
       "      <td>396.90</td>\n",
       "      <td>30.81</td>\n",
       "    </tr>\n",
       "    <tr>\n",
       "      <th>308</th>\n",
       "      <td>0.49298</td>\n",
       "      <td>0.0</td>\n",
       "      <td>9.90</td>\n",
       "      <td>0.0</td>\n",
       "      <td>6.635</td>\n",
       "      <td>4.0</td>\n",
       "      <td>18.4</td>\n",
       "      <td>396.90</td>\n",
       "      <td>4.54</td>\n",
       "    </tr>\n",
       "    <tr>\n",
       "      <th>5</th>\n",
       "      <td>0.02985</td>\n",
       "      <td>0.0</td>\n",
       "      <td>2.18</td>\n",
       "      <td>0.0</td>\n",
       "      <td>6.430</td>\n",
       "      <td>3.0</td>\n",
       "      <td>18.7</td>\n",
       "      <td>394.12</td>\n",
       "      <td>5.21</td>\n",
       "    </tr>\n",
       "  </tbody>\n",
       "</table>\n",
       "<p>152 rows × 9 columns</p>\n",
       "</div>"
      ],
      "text/plain": [
       "         CRIM   ZN  INDUS  CHAS     RM   RAD  PTRATIO       B  LSTAT\n",
       "329   0.06724  0.0   3.24   0.0  6.333   4.0     16.9  375.21   7.34\n",
       "371   9.23230  0.0  18.10   0.0  6.216  24.0     20.2  366.15   9.53\n",
       "219   0.11425  0.0  13.89   1.0  6.373   5.0     16.4  393.74  10.50\n",
       "403  24.80170  0.0  18.10   0.0  5.349  24.0     20.2  396.90  19.77\n",
       "78    0.05646  0.0  12.83   0.0  6.232   5.0     18.7  386.40  12.34\n",
       "..        ...  ...    ...   ...    ...   ...      ...     ...    ...\n",
       "4     0.06905  0.0   2.18   0.0  7.147   3.0     18.7  396.90   5.33\n",
       "428   7.36711  0.0  18.10   0.0  6.193  24.0     20.2   96.73  21.52\n",
       "385  16.81180  0.0  18.10   0.0  5.277  24.0     20.2  396.90  30.81\n",
       "308   0.49298  0.0   9.90   0.0  6.635   4.0     18.4  396.90   4.54\n",
       "5     0.02985  0.0   2.18   0.0  6.430   3.0     18.7  394.12   5.21\n",
       "\n",
       "[152 rows x 9 columns]"
      ]
     },
     "execution_count": 21,
     "metadata": {},
     "output_type": "execute_result"
    }
   ],
   "source": [
    "#dropping correlated features\n",
    "X_train.drop(corr_features,axis=1)\n",
    "X_test.drop(corr_features,axis=1)\n"
   ]
  },
  {
   "cell_type": "markdown",
   "id": "3694e2d5",
   "metadata": {
    "papermill": {
     "duration": 0.018418,
     "end_time": "2022-08-23T06:28:51.804273",
     "exception": false,
     "start_time": "2022-08-23T06:28:51.785855",
     "status": "completed"
    },
    "tags": []
   },
   "source": [
    "# Mutual Information Classification"
   ]
  },
  {
   "cell_type": "code",
   "execution_count": 22,
   "id": "8fca0b29",
   "metadata": {
    "execution": {
     "iopub.execute_input": "2022-08-23T06:28:51.844207Z",
     "iopub.status.busy": "2022-08-23T06:28:51.843023Z",
     "iopub.status.idle": "2022-08-23T06:28:52.154876Z",
     "shell.execute_reply": "2022-08-23T06:28:52.153824Z"
    },
    "papermill": {
     "duration": 0.33473,
     "end_time": "2022-08-23T06:28:52.157702",
     "exception": false,
     "start_time": "2022-08-23T06:28:51.822972",
     "status": "completed"
    },
    "tags": []
   },
   "outputs": [],
   "source": [
    "df=pd.read_csv('https://gist.githubusercontent.com/tijptjik/9408623/raw/b237fa5848349a14a14e5d4107dc7897c21951f5/wine.csv')\n"
   ]
  },
  {
   "cell_type": "code",
   "execution_count": 23,
   "id": "ef17e801",
   "metadata": {
    "execution": {
     "iopub.execute_input": "2022-08-23T06:28:52.198244Z",
     "iopub.status.busy": "2022-08-23T06:28:52.197427Z",
     "iopub.status.idle": "2022-08-23T06:28:52.218910Z",
     "shell.execute_reply": "2022-08-23T06:28:52.217827Z"
    },
    "papermill": {
     "duration": 0.044854,
     "end_time": "2022-08-23T06:28:52.221452",
     "exception": false,
     "start_time": "2022-08-23T06:28:52.176598",
     "status": "completed"
    },
    "tags": []
   },
   "outputs": [
    {
     "data": {
      "text/html": [
       "<div>\n",
       "<style scoped>\n",
       "    .dataframe tbody tr th:only-of-type {\n",
       "        vertical-align: middle;\n",
       "    }\n",
       "\n",
       "    .dataframe tbody tr th {\n",
       "        vertical-align: top;\n",
       "    }\n",
       "\n",
       "    .dataframe thead th {\n",
       "        text-align: right;\n",
       "    }\n",
       "</style>\n",
       "<table border=\"1\" class=\"dataframe\">\n",
       "  <thead>\n",
       "    <tr style=\"text-align: right;\">\n",
       "      <th></th>\n",
       "      <th>Wine</th>\n",
       "      <th>Alcohol</th>\n",
       "      <th>Malic.acid</th>\n",
       "      <th>Ash</th>\n",
       "      <th>Acl</th>\n",
       "      <th>Mg</th>\n",
       "      <th>Phenols</th>\n",
       "      <th>Flavanoids</th>\n",
       "      <th>Nonflavanoid.phenols</th>\n",
       "      <th>Proanth</th>\n",
       "      <th>Color.int</th>\n",
       "      <th>Hue</th>\n",
       "      <th>OD</th>\n",
       "      <th>Proline</th>\n",
       "    </tr>\n",
       "  </thead>\n",
       "  <tbody>\n",
       "    <tr>\n",
       "      <th>0</th>\n",
       "      <td>1</td>\n",
       "      <td>14.23</td>\n",
       "      <td>1.71</td>\n",
       "      <td>2.43</td>\n",
       "      <td>15.6</td>\n",
       "      <td>127</td>\n",
       "      <td>2.80</td>\n",
       "      <td>3.06</td>\n",
       "      <td>0.28</td>\n",
       "      <td>2.29</td>\n",
       "      <td>5.64</td>\n",
       "      <td>1.04</td>\n",
       "      <td>3.92</td>\n",
       "      <td>1065</td>\n",
       "    </tr>\n",
       "    <tr>\n",
       "      <th>1</th>\n",
       "      <td>1</td>\n",
       "      <td>13.20</td>\n",
       "      <td>1.78</td>\n",
       "      <td>2.14</td>\n",
       "      <td>11.2</td>\n",
       "      <td>100</td>\n",
       "      <td>2.65</td>\n",
       "      <td>2.76</td>\n",
       "      <td>0.26</td>\n",
       "      <td>1.28</td>\n",
       "      <td>4.38</td>\n",
       "      <td>1.05</td>\n",
       "      <td>3.40</td>\n",
       "      <td>1050</td>\n",
       "    </tr>\n",
       "    <tr>\n",
       "      <th>2</th>\n",
       "      <td>1</td>\n",
       "      <td>13.16</td>\n",
       "      <td>2.36</td>\n",
       "      <td>2.67</td>\n",
       "      <td>18.6</td>\n",
       "      <td>101</td>\n",
       "      <td>2.80</td>\n",
       "      <td>3.24</td>\n",
       "      <td>0.30</td>\n",
       "      <td>2.81</td>\n",
       "      <td>5.68</td>\n",
       "      <td>1.03</td>\n",
       "      <td>3.17</td>\n",
       "      <td>1185</td>\n",
       "    </tr>\n",
       "    <tr>\n",
       "      <th>3</th>\n",
       "      <td>1</td>\n",
       "      <td>14.37</td>\n",
       "      <td>1.95</td>\n",
       "      <td>2.50</td>\n",
       "      <td>16.8</td>\n",
       "      <td>113</td>\n",
       "      <td>3.85</td>\n",
       "      <td>3.49</td>\n",
       "      <td>0.24</td>\n",
       "      <td>2.18</td>\n",
       "      <td>7.80</td>\n",
       "      <td>0.86</td>\n",
       "      <td>3.45</td>\n",
       "      <td>1480</td>\n",
       "    </tr>\n",
       "    <tr>\n",
       "      <th>4</th>\n",
       "      <td>1</td>\n",
       "      <td>13.24</td>\n",
       "      <td>2.59</td>\n",
       "      <td>2.87</td>\n",
       "      <td>21.0</td>\n",
       "      <td>118</td>\n",
       "      <td>2.80</td>\n",
       "      <td>2.69</td>\n",
       "      <td>0.39</td>\n",
       "      <td>1.82</td>\n",
       "      <td>4.32</td>\n",
       "      <td>1.04</td>\n",
       "      <td>2.93</td>\n",
       "      <td>735</td>\n",
       "    </tr>\n",
       "  </tbody>\n",
       "</table>\n",
       "</div>"
      ],
      "text/plain": [
       "   Wine  Alcohol  Malic.acid   Ash   Acl   Mg  Phenols  Flavanoids  \\\n",
       "0     1    14.23        1.71  2.43  15.6  127     2.80        3.06   \n",
       "1     1    13.20        1.78  2.14  11.2  100     2.65        2.76   \n",
       "2     1    13.16        2.36  2.67  18.6  101     2.80        3.24   \n",
       "3     1    14.37        1.95  2.50  16.8  113     3.85        3.49   \n",
       "4     1    13.24        2.59  2.87  21.0  118     2.80        2.69   \n",
       "\n",
       "   Nonflavanoid.phenols  Proanth  Color.int   Hue    OD  Proline  \n",
       "0                  0.28     2.29       5.64  1.04  3.92     1065  \n",
       "1                  0.26     1.28       4.38  1.05  3.40     1050  \n",
       "2                  0.30     2.81       5.68  1.03  3.17     1185  \n",
       "3                  0.24     2.18       7.80  0.86  3.45     1480  \n",
       "4                  0.39     1.82       4.32  1.04  2.93      735  "
      ]
     },
     "execution_count": 23,
     "metadata": {},
     "output_type": "execute_result"
    }
   ],
   "source": [
    "df.head()"
   ]
  },
  {
   "cell_type": "code",
   "execution_count": 24,
   "id": "93aea078",
   "metadata": {
    "execution": {
     "iopub.execute_input": "2022-08-23T06:28:52.261285Z",
     "iopub.status.busy": "2022-08-23T06:28:52.260904Z",
     "iopub.status.idle": "2022-08-23T06:28:52.270136Z",
     "shell.execute_reply": "2022-08-23T06:28:52.268944Z"
    },
    "papermill": {
     "duration": 0.032,
     "end_time": "2022-08-23T06:28:52.272482",
     "exception": false,
     "start_time": "2022-08-23T06:28:52.240482",
     "status": "completed"
    },
    "tags": []
   },
   "outputs": [],
   "source": [
    "### Train test split to avoid overfitting\n",
    "from sklearn.model_selection import train_test_split\n",
    "X_train,X_test,y_train,y_test=train_test_split(df.drop(labels=['Wine'], axis=1),    df['Wine'], test_size=0.3, random_state=0)\n"
   ]
  },
  {
   "cell_type": "code",
   "execution_count": 25,
   "id": "159fcb96",
   "metadata": {
    "execution": {
     "iopub.execute_input": "2022-08-23T06:28:52.313166Z",
     "iopub.status.busy": "2022-08-23T06:28:52.311823Z",
     "iopub.status.idle": "2022-08-23T06:28:52.317070Z",
     "shell.execute_reply": "2022-08-23T06:28:52.316079Z"
    },
    "papermill": {
     "duration": 0.027754,
     "end_time": "2022-08-23T06:28:52.319258",
     "exception": false,
     "start_time": "2022-08-23T06:28:52.291504",
     "status": "completed"
    },
    "tags": []
   },
   "outputs": [],
   "source": [
    "from sklearn.feature_selection import mutual_info_classif\n"
   ]
  },
  {
   "cell_type": "code",
   "execution_count": 26,
   "id": "3ad04ece",
   "metadata": {
    "execution": {
     "iopub.execute_input": "2022-08-23T06:28:52.359231Z",
     "iopub.status.busy": "2022-08-23T06:28:52.358613Z",
     "iopub.status.idle": "2022-08-23T06:28:52.405805Z",
     "shell.execute_reply": "2022-08-23T06:28:52.404533Z"
    },
    "papermill": {
     "duration": 0.07038,
     "end_time": "2022-08-23T06:28:52.408616",
     "exception": false,
     "start_time": "2022-08-23T06:28:52.338236",
     "status": "completed"
    },
    "tags": []
   },
   "outputs": [],
   "source": [
    "# determine the mutual information\n",
    "mutual_info = mutual_info_classif(X_train, y_train)\n"
   ]
  },
  {
   "cell_type": "code",
   "execution_count": 27,
   "id": "4e805c07",
   "metadata": {
    "execution": {
     "iopub.execute_input": "2022-08-23T06:28:52.449097Z",
     "iopub.status.busy": "2022-08-23T06:28:52.448392Z",
     "iopub.status.idle": "2022-08-23T06:28:52.455080Z",
     "shell.execute_reply": "2022-08-23T06:28:52.454075Z"
    },
    "papermill": {
     "duration": 0.029595,
     "end_time": "2022-08-23T06:28:52.457269",
     "exception": false,
     "start_time": "2022-08-23T06:28:52.427674",
     "status": "completed"
    },
    "tags": []
   },
   "outputs": [
    {
     "data": {
      "text/plain": [
       "array([0.42923984, 0.2985087 , 0.12581323, 0.24321781, 0.19711724,\n",
       "       0.47421281, 0.71671759, 0.10419388, 0.26429698, 0.6191771 ,\n",
       "       0.55447595, 0.55648892, 0.54773273])"
      ]
     },
     "execution_count": 27,
     "metadata": {},
     "output_type": "execute_result"
    }
   ],
   "source": [
    "mutual_info"
   ]
  },
  {
   "cell_type": "code",
   "execution_count": 28,
   "id": "9e1fb015",
   "metadata": {
    "execution": {
     "iopub.execute_input": "2022-08-23T06:28:52.497783Z",
     "iopub.status.busy": "2022-08-23T06:28:52.496620Z",
     "iopub.status.idle": "2022-08-23T06:28:52.506479Z",
     "shell.execute_reply": "2022-08-23T06:28:52.505444Z"
    },
    "papermill": {
     "duration": 0.032234,
     "end_time": "2022-08-23T06:28:52.508673",
     "exception": false,
     "start_time": "2022-08-23T06:28:52.476439",
     "status": "completed"
    },
    "tags": []
   },
   "outputs": [
    {
     "data": {
      "text/plain": [
       "Flavanoids              0.716718\n",
       "Color.int               0.619177\n",
       "OD                      0.556489\n",
       "Hue                     0.554476\n",
       "Proline                 0.547733\n",
       "Phenols                 0.474213\n",
       "Alcohol                 0.429240\n",
       "Malic.acid              0.298509\n",
       "Proanth                 0.264297\n",
       "Acl                     0.243218\n",
       "Mg                      0.197117\n",
       "Ash                     0.125813\n",
       "Nonflavanoid.phenols    0.104194\n",
       "dtype: float64"
      ]
     },
     "execution_count": 28,
     "metadata": {},
     "output_type": "execute_result"
    }
   ],
   "source": [
    "mutual_info = pd.Series(mutual_info)\n",
    "mutual_info.index = X_train.columns\n",
    "mutual_info.sort_values(ascending=False)\n"
   ]
  },
  {
   "cell_type": "code",
   "execution_count": 29,
   "id": "3d87fd0c",
   "metadata": {
    "execution": {
     "iopub.execute_input": "2022-08-23T06:28:52.549823Z",
     "iopub.status.busy": "2022-08-23T06:28:52.549154Z",
     "iopub.status.idle": "2022-08-23T06:28:52.553990Z",
     "shell.execute_reply": "2022-08-23T06:28:52.553158Z"
    },
    "papermill": {
     "duration": 0.027668,
     "end_time": "2022-08-23T06:28:52.556136",
     "exception": false,
     "start_time": "2022-08-23T06:28:52.528468",
     "status": "completed"
    },
    "tags": []
   },
   "outputs": [],
   "source": [
    "from sklearn.feature_selection import SelectKBest\n"
   ]
  },
  {
   "cell_type": "code",
   "execution_count": 30,
   "id": "1773932a",
   "metadata": {
    "execution": {
     "iopub.execute_input": "2022-08-23T06:28:52.596394Z",
     "iopub.status.busy": "2022-08-23T06:28:52.595734Z",
     "iopub.status.idle": "2022-08-23T06:28:52.645337Z",
     "shell.execute_reply": "2022-08-23T06:28:52.644184Z"
    },
    "papermill": {
     "duration": 0.072649,
     "end_time": "2022-08-23T06:28:52.647880",
     "exception": false,
     "start_time": "2022-08-23T06:28:52.575231",
     "status": "completed"
    },
    "tags": []
   },
   "outputs": [
    {
     "data": {
      "text/plain": [
       "Index(['Flavanoids', 'Color.int', 'Hue', 'OD', 'Proline'], dtype='object')"
      ]
     },
     "execution_count": 30,
     "metadata": {},
     "output_type": "execute_result"
    }
   ],
   "source": [
    "sel_five_cols = SelectKBest(mutual_info_classif, k=5)\n",
    "sel_five_cols.fit(X_train, y_train)\n",
    "X_train.columns[sel_five_cols.get_support()]\n"
   ]
  },
  {
   "cell_type": "markdown",
   "id": "1e5d6450",
   "metadata": {
    "papermill": {
     "duration": 0.018779,
     "end_time": "2022-08-23T06:28:52.685938",
     "exception": false,
     "start_time": "2022-08-23T06:28:52.667159",
     "status": "completed"
    },
    "tags": []
   },
   "source": [
    "# Mutual Information Regression"
   ]
  },
  {
   "cell_type": "code",
   "execution_count": 31,
   "id": "f473d8df",
   "metadata": {
    "execution": {
     "iopub.execute_input": "2022-08-23T06:28:52.726024Z",
     "iopub.status.busy": "2022-08-23T06:28:52.725622Z",
     "iopub.status.idle": "2022-08-23T06:28:52.740224Z",
     "shell.execute_reply": "2022-08-23T06:28:52.739092Z"
    },
    "papermill": {
     "duration": 0.037646,
     "end_time": "2022-08-23T06:28:52.742716",
     "exception": false,
     "start_time": "2022-08-23T06:28:52.705070",
     "status": "completed"
    },
    "tags": []
   },
   "outputs": [],
   "source": [
    "housing_df=pd.read_csv('../input/the-boston-houseprice-data/boston.csv')\n",
    "\n"
   ]
  },
  {
   "cell_type": "code",
   "execution_count": 32,
   "id": "13a38f44",
   "metadata": {
    "execution": {
     "iopub.execute_input": "2022-08-23T06:28:52.783896Z",
     "iopub.status.busy": "2022-08-23T06:28:52.783165Z",
     "iopub.status.idle": "2022-08-23T06:28:52.788105Z",
     "shell.execute_reply": "2022-08-23T06:28:52.787319Z"
    },
    "papermill": {
     "duration": 0.027804,
     "end_time": "2022-08-23T06:28:52.790280",
     "exception": false,
     "start_time": "2022-08-23T06:28:52.762476",
     "status": "completed"
    },
    "tags": []
   },
   "outputs": [],
   "source": [
    "numeric_lst=['int16', 'int32', 'int64', 'float16', 'float32', 'float64']\n"
   ]
  },
  {
   "cell_type": "code",
   "execution_count": 33,
   "id": "2d86d478",
   "metadata": {
    "execution": {
     "iopub.execute_input": "2022-08-23T06:28:52.831676Z",
     "iopub.status.busy": "2022-08-23T06:28:52.830970Z",
     "iopub.status.idle": "2022-08-23T06:28:52.840146Z",
     "shell.execute_reply": "2022-08-23T06:28:52.839167Z"
    },
    "papermill": {
     "duration": 0.03328,
     "end_time": "2022-08-23T06:28:52.842630",
     "exception": false,
     "start_time": "2022-08-23T06:28:52.809350",
     "status": "completed"
    },
    "tags": []
   },
   "outputs": [],
   "source": [
    "numerical_cols = list(housing_df.select_dtypes(include=numeric_lst).columns)\n"
   ]
  },
  {
   "cell_type": "code",
   "execution_count": 34,
   "id": "6aa08528",
   "metadata": {
    "execution": {
     "iopub.execute_input": "2022-08-23T06:28:52.883483Z",
     "iopub.status.busy": "2022-08-23T06:28:52.882802Z",
     "iopub.status.idle": "2022-08-23T06:28:52.887878Z",
     "shell.execute_reply": "2022-08-23T06:28:52.887076Z"
    },
    "papermill": {
     "duration": 0.027952,
     "end_time": "2022-08-23T06:28:52.890045",
     "exception": false,
     "start_time": "2022-08-23T06:28:52.862093",
     "status": "completed"
    },
    "tags": []
   },
   "outputs": [],
   "source": [
    "housing_df=housing_df[numerical_cols]"
   ]
  },
  {
   "cell_type": "code",
   "execution_count": 35,
   "id": "cfab3b7a",
   "metadata": {
    "execution": {
     "iopub.execute_input": "2022-08-23T06:28:52.930986Z",
     "iopub.status.busy": "2022-08-23T06:28:52.930549Z",
     "iopub.status.idle": "2022-08-23T06:28:52.952400Z",
     "shell.execute_reply": "2022-08-23T06:28:52.951133Z"
    },
    "papermill": {
     "duration": 0.045408,
     "end_time": "2022-08-23T06:28:52.955076",
     "exception": false,
     "start_time": "2022-08-23T06:28:52.909668",
     "status": "completed"
    },
    "tags": []
   },
   "outputs": [
    {
     "data": {
      "text/html": [
       "<div>\n",
       "<style scoped>\n",
       "    .dataframe tbody tr th:only-of-type {\n",
       "        vertical-align: middle;\n",
       "    }\n",
       "\n",
       "    .dataframe tbody tr th {\n",
       "        vertical-align: top;\n",
       "    }\n",
       "\n",
       "    .dataframe thead th {\n",
       "        text-align: right;\n",
       "    }\n",
       "</style>\n",
       "<table border=\"1\" class=\"dataframe\">\n",
       "  <thead>\n",
       "    <tr style=\"text-align: right;\">\n",
       "      <th></th>\n",
       "      <th>CRIM</th>\n",
       "      <th>ZN</th>\n",
       "      <th>INDUS</th>\n",
       "      <th>CHAS</th>\n",
       "      <th>NOX</th>\n",
       "      <th>RM</th>\n",
       "      <th>AGE</th>\n",
       "      <th>DIS</th>\n",
       "      <th>RAD</th>\n",
       "      <th>TAX</th>\n",
       "      <th>PTRATIO</th>\n",
       "      <th>B</th>\n",
       "      <th>LSTAT</th>\n",
       "      <th>MEDV</th>\n",
       "    </tr>\n",
       "  </thead>\n",
       "  <tbody>\n",
       "    <tr>\n",
       "      <th>0</th>\n",
       "      <td>0.00632</td>\n",
       "      <td>18.0</td>\n",
       "      <td>2.31</td>\n",
       "      <td>0</td>\n",
       "      <td>0.538</td>\n",
       "      <td>6.575</td>\n",
       "      <td>65.2</td>\n",
       "      <td>4.0900</td>\n",
       "      <td>1</td>\n",
       "      <td>296.0</td>\n",
       "      <td>15.3</td>\n",
       "      <td>396.90</td>\n",
       "      <td>4.98</td>\n",
       "      <td>24.0</td>\n",
       "    </tr>\n",
       "    <tr>\n",
       "      <th>1</th>\n",
       "      <td>0.02731</td>\n",
       "      <td>0.0</td>\n",
       "      <td>7.07</td>\n",
       "      <td>0</td>\n",
       "      <td>0.469</td>\n",
       "      <td>6.421</td>\n",
       "      <td>78.9</td>\n",
       "      <td>4.9671</td>\n",
       "      <td>2</td>\n",
       "      <td>242.0</td>\n",
       "      <td>17.8</td>\n",
       "      <td>396.90</td>\n",
       "      <td>9.14</td>\n",
       "      <td>21.6</td>\n",
       "    </tr>\n",
       "    <tr>\n",
       "      <th>2</th>\n",
       "      <td>0.02729</td>\n",
       "      <td>0.0</td>\n",
       "      <td>7.07</td>\n",
       "      <td>0</td>\n",
       "      <td>0.469</td>\n",
       "      <td>7.185</td>\n",
       "      <td>61.1</td>\n",
       "      <td>4.9671</td>\n",
       "      <td>2</td>\n",
       "      <td>242.0</td>\n",
       "      <td>17.8</td>\n",
       "      <td>392.83</td>\n",
       "      <td>4.03</td>\n",
       "      <td>34.7</td>\n",
       "    </tr>\n",
       "    <tr>\n",
       "      <th>3</th>\n",
       "      <td>0.03237</td>\n",
       "      <td>0.0</td>\n",
       "      <td>2.18</td>\n",
       "      <td>0</td>\n",
       "      <td>0.458</td>\n",
       "      <td>6.998</td>\n",
       "      <td>45.8</td>\n",
       "      <td>6.0622</td>\n",
       "      <td>3</td>\n",
       "      <td>222.0</td>\n",
       "      <td>18.7</td>\n",
       "      <td>394.63</td>\n",
       "      <td>2.94</td>\n",
       "      <td>33.4</td>\n",
       "    </tr>\n",
       "    <tr>\n",
       "      <th>4</th>\n",
       "      <td>0.06905</td>\n",
       "      <td>0.0</td>\n",
       "      <td>2.18</td>\n",
       "      <td>0</td>\n",
       "      <td>0.458</td>\n",
       "      <td>7.147</td>\n",
       "      <td>54.2</td>\n",
       "      <td>6.0622</td>\n",
       "      <td>3</td>\n",
       "      <td>222.0</td>\n",
       "      <td>18.7</td>\n",
       "      <td>396.90</td>\n",
       "      <td>5.33</td>\n",
       "      <td>36.2</td>\n",
       "    </tr>\n",
       "  </tbody>\n",
       "</table>\n",
       "</div>"
      ],
      "text/plain": [
       "      CRIM    ZN  INDUS  CHAS    NOX     RM   AGE     DIS  RAD    TAX  \\\n",
       "0  0.00632  18.0   2.31     0  0.538  6.575  65.2  4.0900    1  296.0   \n",
       "1  0.02731   0.0   7.07     0  0.469  6.421  78.9  4.9671    2  242.0   \n",
       "2  0.02729   0.0   7.07     0  0.469  7.185  61.1  4.9671    2  242.0   \n",
       "3  0.03237   0.0   2.18     0  0.458  6.998  45.8  6.0622    3  222.0   \n",
       "4  0.06905   0.0   2.18     0  0.458  7.147  54.2  6.0622    3  222.0   \n",
       "\n",
       "   PTRATIO       B  LSTAT  MEDV  \n",
       "0     15.3  396.90   4.98  24.0  \n",
       "1     17.8  396.90   9.14  21.6  \n",
       "2     17.8  392.83   4.03  34.7  \n",
       "3     18.7  394.63   2.94  33.4  \n",
       "4     18.7  396.90   5.33  36.2  "
      ]
     },
     "execution_count": 35,
     "metadata": {},
     "output_type": "execute_result"
    }
   ],
   "source": [
    "housing_df.head()"
   ]
  },
  {
   "cell_type": "code",
   "execution_count": 36,
   "id": "0f69942f",
   "metadata": {
    "execution": {
     "iopub.execute_input": "2022-08-23T06:28:52.996574Z",
     "iopub.status.busy": "2022-08-23T06:28:52.995806Z",
     "iopub.status.idle": "2022-08-23T06:28:53.000551Z",
     "shell.execute_reply": "2022-08-23T06:28:52.999818Z"
    },
    "papermill": {
     "duration": 0.028238,
     "end_time": "2022-08-23T06:28:53.002783",
     "exception": false,
     "start_time": "2022-08-23T06:28:52.974545",
     "status": "completed"
    },
    "tags": []
   },
   "outputs": [],
   "source": [
    "### It is always a good practice to split train and test data to avoid #overfitting\n",
    "from sklearn.model_selection import train_test_split\n"
   ]
  },
  {
   "cell_type": "code",
   "execution_count": 37,
   "id": "b6664dab",
   "metadata": {
    "execution": {
     "iopub.execute_input": "2022-08-23T06:28:53.043804Z",
     "iopub.status.busy": "2022-08-23T06:28:53.042886Z",
     "iopub.status.idle": "2022-08-23T06:28:53.051330Z",
     "shell.execute_reply": "2022-08-23T06:28:53.050378Z"
    },
    "papermill": {
     "duration": 0.031571,
     "end_time": "2022-08-23T06:28:53.053726",
     "exception": false,
     "start_time": "2022-08-23T06:28:53.022155",
     "status": "completed"
    },
    "tags": []
   },
   "outputs": [],
   "source": [
    "X_train,X_test,y_train,y_test=train_test_split(housing_df.drop(labels=['MEDV'], axis=1), housing_df['MEDV'], test_size=0.3, random_state=0)\n"
   ]
  },
  {
   "cell_type": "code",
   "execution_count": 38,
   "id": "2aecdbeb",
   "metadata": {
    "execution": {
     "iopub.execute_input": "2022-08-23T06:28:53.094837Z",
     "iopub.status.busy": "2022-08-23T06:28:53.094017Z",
     "iopub.status.idle": "2022-08-23T06:28:53.099243Z",
     "shell.execute_reply": "2022-08-23T06:28:53.098009Z"
    },
    "papermill": {
     "duration": 0.02823,
     "end_time": "2022-08-23T06:28:53.101458",
     "exception": false,
     "start_time": "2022-08-23T06:28:53.073228",
     "status": "completed"
    },
    "tags": []
   },
   "outputs": [],
   "source": [
    "from sklearn.feature_selection import mutual_info_regression\n"
   ]
  },
  {
   "cell_type": "code",
   "execution_count": 39,
   "id": "bb83b2ac",
   "metadata": {
    "execution": {
     "iopub.execute_input": "2022-08-23T06:28:53.142896Z",
     "iopub.status.busy": "2022-08-23T06:28:53.142153Z",
     "iopub.status.idle": "2022-08-23T06:28:53.185025Z",
     "shell.execute_reply": "2022-08-23T06:28:53.184072Z"
    },
    "papermill": {
     "duration": 0.066294,
     "end_time": "2022-08-23T06:28:53.187384",
     "exception": false,
     "start_time": "2022-08-23T06:28:53.121090",
     "status": "completed"
    },
    "tags": []
   },
   "outputs": [],
   "source": [
    "# determine the mutual information\n",
    "mutual_info = mutual_info_regression(X_train.fillna(0), y_train)\n"
   ]
  },
  {
   "cell_type": "code",
   "execution_count": 40,
   "id": "cbb72235",
   "metadata": {
    "execution": {
     "iopub.execute_input": "2022-08-23T06:28:53.228528Z",
     "iopub.status.busy": "2022-08-23T06:28:53.227831Z",
     "iopub.status.idle": "2022-08-23T06:28:53.235552Z",
     "shell.execute_reply": "2022-08-23T06:28:53.234809Z"
    },
    "papermill": {
     "duration": 0.030725,
     "end_time": "2022-08-23T06:28:53.237724",
     "exception": false,
     "start_time": "2022-08-23T06:28:53.206999",
     "status": "completed"
    },
    "tags": []
   },
   "outputs": [
    {
     "data": {
      "text/plain": [
       "LSTAT      0.649877\n",
       "RM         0.594755\n",
       "INDUS      0.530546\n",
       "PTRATIO    0.498705\n",
       "NOX        0.444270\n",
       "TAX        0.373108\n",
       "AGE        0.337325\n",
       "CRIM       0.330988\n",
       "DIS        0.311147\n",
       "RAD        0.205312\n",
       "ZN         0.200177\n",
       "B          0.170754\n",
       "CHAS       0.021480\n",
       "dtype: float64"
      ]
     },
     "execution_count": 40,
     "metadata": {},
     "output_type": "execute_result"
    }
   ],
   "source": [
    "mutual_info = pd.Series(mutual_info)\n",
    "mutual_info.index = X_train.columns\n",
    "mutual_info.sort_values(ascending=False)\n"
   ]
  },
  {
   "cell_type": "code",
   "execution_count": 41,
   "id": "b2146edf",
   "metadata": {
    "execution": {
     "iopub.execute_input": "2022-08-23T06:28:53.279493Z",
     "iopub.status.busy": "2022-08-23T06:28:53.278910Z",
     "iopub.status.idle": "2022-08-23T06:28:53.282899Z",
     "shell.execute_reply": "2022-08-23T06:28:53.282043Z"
    },
    "papermill": {
     "duration": 0.02728,
     "end_time": "2022-08-23T06:28:53.284882",
     "exception": false,
     "start_time": "2022-08-23T06:28:53.257602",
     "status": "completed"
    },
    "tags": []
   },
   "outputs": [],
   "source": [
    "from sklearn.feature_selection import SelectPercentile\n"
   ]
  },
  {
   "cell_type": "code",
   "execution_count": 42,
   "id": "e3fa9bcd",
   "metadata": {
    "execution": {
     "iopub.execute_input": "2022-08-23T06:28:53.326661Z",
     "iopub.status.busy": "2022-08-23T06:28:53.326060Z",
     "iopub.status.idle": "2022-08-23T06:28:53.373791Z",
     "shell.execute_reply": "2022-08-23T06:28:53.371474Z"
    },
    "papermill": {
     "duration": 0.071657,
     "end_time": "2022-08-23T06:28:53.376483",
     "exception": false,
     "start_time": "2022-08-23T06:28:53.304826",
     "status": "completed"
    },
    "tags": []
   },
   "outputs": [
    {
     "data": {
      "text/plain": [
       "Index(['INDUS', 'RM', 'LSTAT'], dtype='object')"
      ]
     },
     "execution_count": 42,
     "metadata": {},
     "output_type": "execute_result"
    }
   ],
   "source": [
    "## Selecting the top 20 percentile\n",
    "selected_top_columns = SelectPercentile(mutual_info_regression, percentile=20)\n",
    "selected_top_columns.fit(X_train.fillna(0), y_train)\n",
    "X_train.columns[selected_top_columns.get_support()]\n"
   ]
  },
  {
   "cell_type": "markdown",
   "id": "5cad6a39",
   "metadata": {
    "papermill": {
     "duration": 0.019284,
     "end_time": "2022-08-23T06:28:53.415599",
     "exception": false,
     "start_time": "2022-08-23T06:28:53.396315",
     "status": "completed"
    },
    "tags": []
   },
   "source": [
    "# CHI Square"
   ]
  },
  {
   "cell_type": "code",
   "execution_count": 43,
   "id": "8f984afe",
   "metadata": {
    "execution": {
     "iopub.execute_input": "2022-08-23T06:28:53.457500Z",
     "iopub.status.busy": "2022-08-23T06:28:53.457128Z",
     "iopub.status.idle": "2022-08-23T06:28:55.018139Z",
     "shell.execute_reply": "2022-08-23T06:28:55.017008Z"
    },
    "papermill": {
     "duration": 1.585926,
     "end_time": "2022-08-23T06:28:55.021143",
     "exception": false,
     "start_time": "2022-08-23T06:28:53.435217",
     "status": "completed"
    },
    "tags": []
   },
   "outputs": [],
   "source": [
    "import seaborn as sns\n",
    "df=sns.load_dataset('titanic')\n"
   ]
  },
  {
   "cell_type": "code",
   "execution_count": 44,
   "id": "d9d0a5d8",
   "metadata": {
    "execution": {
     "iopub.execute_input": "2022-08-23T06:28:55.063251Z",
     "iopub.status.busy": "2022-08-23T06:28:55.062843Z",
     "iopub.status.idle": "2022-08-23T06:28:55.082843Z",
     "shell.execute_reply": "2022-08-23T06:28:55.082025Z"
    },
    "papermill": {
     "duration": 0.043279,
     "end_time": "2022-08-23T06:28:55.084862",
     "exception": false,
     "start_time": "2022-08-23T06:28:55.041583",
     "status": "completed"
    },
    "tags": []
   },
   "outputs": [
    {
     "data": {
      "text/html": [
       "<div>\n",
       "<style scoped>\n",
       "    .dataframe tbody tr th:only-of-type {\n",
       "        vertical-align: middle;\n",
       "    }\n",
       "\n",
       "    .dataframe tbody tr th {\n",
       "        vertical-align: top;\n",
       "    }\n",
       "\n",
       "    .dataframe thead th {\n",
       "        text-align: right;\n",
       "    }\n",
       "</style>\n",
       "<table border=\"1\" class=\"dataframe\">\n",
       "  <thead>\n",
       "    <tr style=\"text-align: right;\">\n",
       "      <th></th>\n",
       "      <th>survived</th>\n",
       "      <th>pclass</th>\n",
       "      <th>sex</th>\n",
       "      <th>age</th>\n",
       "      <th>sibsp</th>\n",
       "      <th>parch</th>\n",
       "      <th>fare</th>\n",
       "      <th>embarked</th>\n",
       "      <th>class</th>\n",
       "      <th>who</th>\n",
       "      <th>adult_male</th>\n",
       "      <th>deck</th>\n",
       "      <th>embark_town</th>\n",
       "      <th>alive</th>\n",
       "      <th>alone</th>\n",
       "    </tr>\n",
       "  </thead>\n",
       "  <tbody>\n",
       "    <tr>\n",
       "      <th>0</th>\n",
       "      <td>0</td>\n",
       "      <td>3</td>\n",
       "      <td>male</td>\n",
       "      <td>22.0</td>\n",
       "      <td>1</td>\n",
       "      <td>0</td>\n",
       "      <td>7.2500</td>\n",
       "      <td>S</td>\n",
       "      <td>Third</td>\n",
       "      <td>man</td>\n",
       "      <td>True</td>\n",
       "      <td>NaN</td>\n",
       "      <td>Southampton</td>\n",
       "      <td>no</td>\n",
       "      <td>False</td>\n",
       "    </tr>\n",
       "    <tr>\n",
       "      <th>1</th>\n",
       "      <td>1</td>\n",
       "      <td>1</td>\n",
       "      <td>female</td>\n",
       "      <td>38.0</td>\n",
       "      <td>1</td>\n",
       "      <td>0</td>\n",
       "      <td>71.2833</td>\n",
       "      <td>C</td>\n",
       "      <td>First</td>\n",
       "      <td>woman</td>\n",
       "      <td>False</td>\n",
       "      <td>C</td>\n",
       "      <td>Cherbourg</td>\n",
       "      <td>yes</td>\n",
       "      <td>False</td>\n",
       "    </tr>\n",
       "    <tr>\n",
       "      <th>2</th>\n",
       "      <td>1</td>\n",
       "      <td>3</td>\n",
       "      <td>female</td>\n",
       "      <td>26.0</td>\n",
       "      <td>0</td>\n",
       "      <td>0</td>\n",
       "      <td>7.9250</td>\n",
       "      <td>S</td>\n",
       "      <td>Third</td>\n",
       "      <td>woman</td>\n",
       "      <td>False</td>\n",
       "      <td>NaN</td>\n",
       "      <td>Southampton</td>\n",
       "      <td>yes</td>\n",
       "      <td>True</td>\n",
       "    </tr>\n",
       "    <tr>\n",
       "      <th>3</th>\n",
       "      <td>1</td>\n",
       "      <td>1</td>\n",
       "      <td>female</td>\n",
       "      <td>35.0</td>\n",
       "      <td>1</td>\n",
       "      <td>0</td>\n",
       "      <td>53.1000</td>\n",
       "      <td>S</td>\n",
       "      <td>First</td>\n",
       "      <td>woman</td>\n",
       "      <td>False</td>\n",
       "      <td>C</td>\n",
       "      <td>Southampton</td>\n",
       "      <td>yes</td>\n",
       "      <td>False</td>\n",
       "    </tr>\n",
       "    <tr>\n",
       "      <th>4</th>\n",
       "      <td>0</td>\n",
       "      <td>3</td>\n",
       "      <td>male</td>\n",
       "      <td>35.0</td>\n",
       "      <td>0</td>\n",
       "      <td>0</td>\n",
       "      <td>8.0500</td>\n",
       "      <td>S</td>\n",
       "      <td>Third</td>\n",
       "      <td>man</td>\n",
       "      <td>True</td>\n",
       "      <td>NaN</td>\n",
       "      <td>Southampton</td>\n",
       "      <td>no</td>\n",
       "      <td>True</td>\n",
       "    </tr>\n",
       "  </tbody>\n",
       "</table>\n",
       "</div>"
      ],
      "text/plain": [
       "   survived  pclass     sex   age  sibsp  parch     fare embarked  class  \\\n",
       "0         0       3    male  22.0      1      0   7.2500        S  Third   \n",
       "1         1       1  female  38.0      1      0  71.2833        C  First   \n",
       "2         1       3  female  26.0      0      0   7.9250        S  Third   \n",
       "3         1       1  female  35.0      1      0  53.1000        S  First   \n",
       "4         0       3    male  35.0      0      0   8.0500        S  Third   \n",
       "\n",
       "     who  adult_male deck  embark_town alive  alone  \n",
       "0    man        True  NaN  Southampton    no  False  \n",
       "1  woman       False    C    Cherbourg   yes  False  \n",
       "2  woman       False  NaN  Southampton   yes   True  \n",
       "3  woman       False    C  Southampton   yes  False  \n",
       "4    man        True  NaN  Southampton    no   True  "
      ]
     },
     "execution_count": 44,
     "metadata": {},
     "output_type": "execute_result"
    }
   ],
   "source": [
    "\n",
    "df.head()\n"
   ]
  },
  {
   "cell_type": "code",
   "execution_count": 45,
   "id": "850e5ea6",
   "metadata": {
    "execution": {
     "iopub.execute_input": "2022-08-23T06:28:55.127236Z",
     "iopub.status.busy": "2022-08-23T06:28:55.126309Z",
     "iopub.status.idle": "2022-08-23T06:28:55.132351Z",
     "shell.execute_reply": "2022-08-23T06:28:55.131541Z"
    },
    "papermill": {
     "duration": 0.029334,
     "end_time": "2022-08-23T06:28:55.134415",
     "exception": false,
     "start_time": "2022-08-23T06:28:55.105081",
     "status": "completed"
    },
    "tags": []
   },
   "outputs": [],
   "source": [
    "##['sex','embarked','alone','pclass','Survived']\n",
    "df = df[['sex','embarked','alone','pclass','survived']]"
   ]
  },
  {
   "cell_type": "code",
   "execution_count": 46,
   "id": "821c4ca4",
   "metadata": {
    "execution": {
     "iopub.execute_input": "2022-08-23T06:28:55.176918Z",
     "iopub.status.busy": "2022-08-23T06:28:55.176511Z",
     "iopub.status.idle": "2022-08-23T06:28:55.189020Z",
     "shell.execute_reply": "2022-08-23T06:28:55.187824Z"
    },
    "papermill": {
     "duration": 0.036337,
     "end_time": "2022-08-23T06:28:55.191206",
     "exception": false,
     "start_time": "2022-08-23T06:28:55.154869",
     "status": "completed"
    },
    "tags": []
   },
   "outputs": [
    {
     "data": {
      "text/html": [
       "<div>\n",
       "<style scoped>\n",
       "    .dataframe tbody tr th:only-of-type {\n",
       "        vertical-align: middle;\n",
       "    }\n",
       "\n",
       "    .dataframe tbody tr th {\n",
       "        vertical-align: top;\n",
       "    }\n",
       "\n",
       "    .dataframe thead th {\n",
       "        text-align: right;\n",
       "    }\n",
       "</style>\n",
       "<table border=\"1\" class=\"dataframe\">\n",
       "  <thead>\n",
       "    <tr style=\"text-align: right;\">\n",
       "      <th></th>\n",
       "      <th>sex</th>\n",
       "      <th>embarked</th>\n",
       "      <th>alone</th>\n",
       "      <th>pclass</th>\n",
       "      <th>survived</th>\n",
       "    </tr>\n",
       "  </thead>\n",
       "  <tbody>\n",
       "    <tr>\n",
       "      <th>0</th>\n",
       "      <td>male</td>\n",
       "      <td>S</td>\n",
       "      <td>False</td>\n",
       "      <td>3</td>\n",
       "      <td>0</td>\n",
       "    </tr>\n",
       "    <tr>\n",
       "      <th>1</th>\n",
       "      <td>female</td>\n",
       "      <td>C</td>\n",
       "      <td>False</td>\n",
       "      <td>1</td>\n",
       "      <td>1</td>\n",
       "    </tr>\n",
       "    <tr>\n",
       "      <th>2</th>\n",
       "      <td>female</td>\n",
       "      <td>S</td>\n",
       "      <td>True</td>\n",
       "      <td>3</td>\n",
       "      <td>1</td>\n",
       "    </tr>\n",
       "    <tr>\n",
       "      <th>3</th>\n",
       "      <td>female</td>\n",
       "      <td>S</td>\n",
       "      <td>False</td>\n",
       "      <td>1</td>\n",
       "      <td>1</td>\n",
       "    </tr>\n",
       "    <tr>\n",
       "      <th>4</th>\n",
       "      <td>male</td>\n",
       "      <td>S</td>\n",
       "      <td>True</td>\n",
       "      <td>3</td>\n",
       "      <td>0</td>\n",
       "    </tr>\n",
       "  </tbody>\n",
       "</table>\n",
       "</div>"
      ],
      "text/plain": [
       "      sex embarked  alone  pclass  survived\n",
       "0    male        S  False       3         0\n",
       "1  female        C  False       1         1\n",
       "2  female        S   True       3         1\n",
       "3  female        S  False       1         1\n",
       "4    male        S   True       3         0"
      ]
     },
     "execution_count": 46,
     "metadata": {},
     "output_type": "execute_result"
    }
   ],
   "source": [
    "df.head()"
   ]
  },
  {
   "cell_type": "code",
   "execution_count": 47,
   "id": "3e643888",
   "metadata": {
    "execution": {
     "iopub.execute_input": "2022-08-23T06:28:55.235329Z",
     "iopub.status.busy": "2022-08-23T06:28:55.234854Z",
     "iopub.status.idle": "2022-08-23T06:28:55.239686Z",
     "shell.execute_reply": "2022-08-23T06:28:55.238510Z"
    },
    "papermill": {
     "duration": 0.028754,
     "end_time": "2022-08-23T06:28:55.241699",
     "exception": false,
     "start_time": "2022-08-23T06:28:55.212945",
     "status": "completed"
    },
    "tags": []
   },
   "outputs": [],
   "source": [
    "import numpy as np"
   ]
  },
  {
   "cell_type": "code",
   "execution_count": 48,
   "id": "d4e5bf57",
   "metadata": {
    "execution": {
     "iopub.execute_input": "2022-08-23T06:28:55.283707Z",
     "iopub.status.busy": "2022-08-23T06:28:55.283274Z",
     "iopub.status.idle": "2022-08-23T06:28:55.289498Z",
     "shell.execute_reply": "2022-08-23T06:28:55.288650Z"
    },
    "papermill": {
     "duration": 0.029473,
     "end_time": "2022-08-23T06:28:55.291404",
     "exception": false,
     "start_time": "2022-08-23T06:28:55.261931",
     "status": "completed"
    },
    "tags": []
   },
   "outputs": [],
   "source": [
    "### Let's perform label encoding\n",
    "df['sex']=np.where(df['sex']==\"male\",1,0)\n"
   ]
  },
  {
   "cell_type": "code",
   "execution_count": 49,
   "id": "8d052b99",
   "metadata": {
    "execution": {
     "iopub.execute_input": "2022-08-23T06:28:55.333358Z",
     "iopub.status.busy": "2022-08-23T06:28:55.332945Z",
     "iopub.status.idle": "2022-08-23T06:28:55.340584Z",
     "shell.execute_reply": "2022-08-23T06:28:55.339499Z"
    },
    "papermill": {
     "duration": 0.031278,
     "end_time": "2022-08-23T06:28:55.342888",
     "exception": false,
     "start_time": "2022-08-23T06:28:55.311610",
     "status": "completed"
    },
    "tags": []
   },
   "outputs": [],
   "source": [
    "ordinal_label = {k: i for i, k in enumerate(df['embarked'].unique(), 0)}\n",
    "df['embarked'] = df['embarked'].map(ordinal_label)\n"
   ]
  },
  {
   "cell_type": "code",
   "execution_count": 50,
   "id": "c363db51",
   "metadata": {
    "execution": {
     "iopub.execute_input": "2022-08-23T06:28:55.386604Z",
     "iopub.status.busy": "2022-08-23T06:28:55.386162Z",
     "iopub.status.idle": "2022-08-23T06:28:55.392290Z",
     "shell.execute_reply": "2022-08-23T06:28:55.391129Z"
    },
    "papermill": {
     "duration": 0.030223,
     "end_time": "2022-08-23T06:28:55.394475",
     "exception": false,
     "start_time": "2022-08-23T06:28:55.364252",
     "status": "completed"
    },
    "tags": []
   },
   "outputs": [],
   "source": [
    "df['alone']=np.where(df['alone']==True,1,0)\n"
   ]
  },
  {
   "cell_type": "code",
   "execution_count": 51,
   "id": "ef247491",
   "metadata": {
    "execution": {
     "iopub.execute_input": "2022-08-23T06:28:55.439238Z",
     "iopub.status.busy": "2022-08-23T06:28:55.438836Z",
     "iopub.status.idle": "2022-08-23T06:28:55.449339Z",
     "shell.execute_reply": "2022-08-23T06:28:55.448513Z"
    },
    "papermill": {
     "duration": 0.035418,
     "end_time": "2022-08-23T06:28:55.451353",
     "exception": false,
     "start_time": "2022-08-23T06:28:55.415935",
     "status": "completed"
    },
    "tags": []
   },
   "outputs": [
    {
     "data": {
      "text/html": [
       "<div>\n",
       "<style scoped>\n",
       "    .dataframe tbody tr th:only-of-type {\n",
       "        vertical-align: middle;\n",
       "    }\n",
       "\n",
       "    .dataframe tbody tr th {\n",
       "        vertical-align: top;\n",
       "    }\n",
       "\n",
       "    .dataframe thead th {\n",
       "        text-align: right;\n",
       "    }\n",
       "</style>\n",
       "<table border=\"1\" class=\"dataframe\">\n",
       "  <thead>\n",
       "    <tr style=\"text-align: right;\">\n",
       "      <th></th>\n",
       "      <th>sex</th>\n",
       "      <th>embarked</th>\n",
       "      <th>alone</th>\n",
       "      <th>pclass</th>\n",
       "      <th>survived</th>\n",
       "    </tr>\n",
       "  </thead>\n",
       "  <tbody>\n",
       "    <tr>\n",
       "      <th>0</th>\n",
       "      <td>1</td>\n",
       "      <td>0</td>\n",
       "      <td>0</td>\n",
       "      <td>3</td>\n",
       "      <td>0</td>\n",
       "    </tr>\n",
       "    <tr>\n",
       "      <th>1</th>\n",
       "      <td>0</td>\n",
       "      <td>1</td>\n",
       "      <td>0</td>\n",
       "      <td>1</td>\n",
       "      <td>1</td>\n",
       "    </tr>\n",
       "    <tr>\n",
       "      <th>2</th>\n",
       "      <td>0</td>\n",
       "      <td>0</td>\n",
       "      <td>1</td>\n",
       "      <td>3</td>\n",
       "      <td>1</td>\n",
       "    </tr>\n",
       "    <tr>\n",
       "      <th>3</th>\n",
       "      <td>0</td>\n",
       "      <td>0</td>\n",
       "      <td>0</td>\n",
       "      <td>1</td>\n",
       "      <td>1</td>\n",
       "    </tr>\n",
       "    <tr>\n",
       "      <th>4</th>\n",
       "      <td>1</td>\n",
       "      <td>0</td>\n",
       "      <td>1</td>\n",
       "      <td>3</td>\n",
       "      <td>0</td>\n",
       "    </tr>\n",
       "  </tbody>\n",
       "</table>\n",
       "</div>"
      ],
      "text/plain": [
       "   sex  embarked  alone  pclass  survived\n",
       "0    1         0      0       3         0\n",
       "1    0         1      0       1         1\n",
       "2    0         0      1       3         1\n",
       "3    0         0      0       1         1\n",
       "4    1         0      1       3         0"
      ]
     },
     "execution_count": 51,
     "metadata": {},
     "output_type": "execute_result"
    }
   ],
   "source": [
    "df.head()"
   ]
  },
  {
   "cell_type": "code",
   "execution_count": 52,
   "id": "55b44f00",
   "metadata": {
    "execution": {
     "iopub.execute_input": "2022-08-23T06:28:55.495213Z",
     "iopub.status.busy": "2022-08-23T06:28:55.494831Z",
     "iopub.status.idle": "2022-08-23T06:28:55.499595Z",
     "shell.execute_reply": "2022-08-23T06:28:55.498491Z"
    },
    "papermill": {
     "duration": 0.028816,
     "end_time": "2022-08-23T06:28:55.501678",
     "exception": false,
     "start_time": "2022-08-23T06:28:55.472862",
     "status": "completed"
    },
    "tags": []
   },
   "outputs": [],
   "source": [
    "### train Test split is usually done to avaoid overfitting\n",
    "from sklearn.model_selection import train_test_split\n"
   ]
  },
  {
   "cell_type": "code",
   "execution_count": 53,
   "id": "68b1638c",
   "metadata": {
    "execution": {
     "iopub.execute_input": "2022-08-23T06:28:55.544514Z",
     "iopub.status.busy": "2022-08-23T06:28:55.544089Z",
     "iopub.status.idle": "2022-08-23T06:28:55.553742Z",
     "shell.execute_reply": "2022-08-23T06:28:55.552810Z"
    },
    "papermill": {
     "duration": 0.033984,
     "end_time": "2022-08-23T06:28:55.556186",
     "exception": false,
     "start_time": "2022-08-23T06:28:55.522202",
     "status": "completed"
    },
    "tags": []
   },
   "outputs": [],
   "source": [
    "X_train,X_test,y_train,y_test=train_test_split(df[['sex','embarked','alone','pclass']], df['survived'],test_size=0.3,random_state=100)\n"
   ]
  },
  {
   "cell_type": "code",
   "execution_count": 54,
   "id": "c59d13b3",
   "metadata": {
    "execution": {
     "iopub.execute_input": "2022-08-23T06:28:55.599329Z",
     "iopub.status.busy": "2022-08-23T06:28:55.598919Z",
     "iopub.status.idle": "2022-08-23T06:28:55.609439Z",
     "shell.execute_reply": "2022-08-23T06:28:55.608247Z"
    },
    "papermill": {
     "duration": 0.034803,
     "end_time": "2022-08-23T06:28:55.611984",
     "exception": false,
     "start_time": "2022-08-23T06:28:55.577181",
     "status": "completed"
    },
    "tags": []
   },
   "outputs": [],
   "source": [
    "from sklearn.feature_selection import chi2\n",
    "f_p_values=chi2(X_train,y_train)\n"
   ]
  },
  {
   "cell_type": "code",
   "execution_count": 55,
   "id": "977871d6",
   "metadata": {
    "execution": {
     "iopub.execute_input": "2022-08-23T06:28:55.656416Z",
     "iopub.status.busy": "2022-08-23T06:28:55.655314Z",
     "iopub.status.idle": "2022-08-23T06:28:55.661163Z",
     "shell.execute_reply": "2022-08-23T06:28:55.660237Z"
    },
    "papermill": {
     "duration": 0.030319,
     "end_time": "2022-08-23T06:28:55.663418",
     "exception": false,
     "start_time": "2022-08-23T06:28:55.633099",
     "status": "completed"
    },
    "tags": []
   },
   "outputs": [],
   "source": [
    "p_values=pd.Series(f_p_values[1])\n",
    "p_values.index=X_train.columns\n"
   ]
  },
  {
   "cell_type": "code",
   "execution_count": 56,
   "id": "cd1aca4a",
   "metadata": {
    "execution": {
     "iopub.execute_input": "2022-08-23T06:28:55.706633Z",
     "iopub.status.busy": "2022-08-23T06:28:55.706186Z",
     "iopub.status.idle": "2022-08-23T06:28:55.714222Z",
     "shell.execute_reply": "2022-08-23T06:28:55.713069Z"
    },
    "papermill": {
     "duration": 0.032397,
     "end_time": "2022-08-23T06:28:55.716488",
     "exception": false,
     "start_time": "2022-08-23T06:28:55.684091",
     "status": "completed"
    },
    "tags": []
   },
   "outputs": [
    {
     "data": {
      "text/plain": [
       "sex         5.306038e-16\n",
       "embarked    5.999221e-03\n",
       "alone       9.696105e-04\n",
       "pclass      2.755149e-06\n",
       "dtype: float64"
      ]
     },
     "execution_count": 56,
     "metadata": {},
     "output_type": "execute_result"
    }
   ],
   "source": [
    "p_values\n",
    "\n",
    "\n"
   ]
  },
  {
   "cell_type": "code",
   "execution_count": 57,
   "id": "4d391157",
   "metadata": {
    "execution": {
     "iopub.execute_input": "2022-08-23T06:28:55.759836Z",
     "iopub.status.busy": "2022-08-23T06:28:55.759402Z",
     "iopub.status.idle": "2022-08-23T06:28:55.770785Z",
     "shell.execute_reply": "2022-08-23T06:28:55.769646Z"
    },
    "papermill": {
     "duration": 0.035589,
     "end_time": "2022-08-23T06:28:55.772961",
     "exception": false,
     "start_time": "2022-08-23T06:28:55.737372",
     "status": "completed"
    },
    "tags": []
   },
   "outputs": [
    {
     "data": {
      "text/plain": [
       "sex         5.306038e-16\n",
       "pclass      2.755149e-06\n",
       "embarked    5.999221e-03\n",
       "alone       9.696105e-04\n",
       "dtype: float64"
      ]
     },
     "execution_count": 57,
     "metadata": {},
     "output_type": "execute_result"
    }
   ],
   "source": [
    "p_values.sort_index(ascending=False)"
   ]
  },
  {
   "cell_type": "markdown",
   "id": "6d9948d9",
   "metadata": {
    "papermill": {
     "duration": 0.020321,
     "end_time": "2022-08-23T06:28:55.814282",
     "exception": false,
     "start_time": "2022-08-23T06:28:55.793961",
     "status": "completed"
    },
    "tags": []
   },
   "source": [
    "# PCA Principal Component Analysis"
   ]
  },
  {
   "cell_type": "code",
   "execution_count": 58,
   "id": "bfb15b3a",
   "metadata": {
    "execution": {
     "iopub.execute_input": "2022-08-23T06:28:55.858300Z",
     "iopub.status.busy": "2022-08-23T06:28:55.857311Z",
     "iopub.status.idle": "2022-08-23T06:28:55.865221Z",
     "shell.execute_reply": "2022-08-23T06:28:55.864161Z"
    },
    "papermill": {
     "duration": 0.032614,
     "end_time": "2022-08-23T06:28:55.867606",
     "exception": false,
     "start_time": "2022-08-23T06:28:55.834992",
     "status": "completed"
    },
    "tags": []
   },
   "outputs": [],
   "source": [
    "import matplotlib.pyplot as plt\n",
    "%matplotlib inline\n"
   ]
  },
  {
   "cell_type": "code",
   "execution_count": 59,
   "id": "8ca8e188",
   "metadata": {
    "execution": {
     "iopub.execute_input": "2022-08-23T06:28:55.911661Z",
     "iopub.status.busy": "2022-08-23T06:28:55.911039Z",
     "iopub.status.idle": "2022-08-23T06:28:55.915902Z",
     "shell.execute_reply": "2022-08-23T06:28:55.915058Z"
    },
    "papermill": {
     "duration": 0.029342,
     "end_time": "2022-08-23T06:28:55.918031",
     "exception": false,
     "start_time": "2022-08-23T06:28:55.888689",
     "status": "completed"
    },
    "tags": []
   },
   "outputs": [],
   "source": [
    "from sklearn.datasets import load_breast_cancer\n"
   ]
  },
  {
   "cell_type": "code",
   "execution_count": 60,
   "id": "822feb81",
   "metadata": {
    "execution": {
     "iopub.execute_input": "2022-08-23T06:28:55.961700Z",
     "iopub.status.busy": "2022-08-23T06:28:55.960912Z",
     "iopub.status.idle": "2022-08-23T06:28:55.975279Z",
     "shell.execute_reply": "2022-08-23T06:28:55.973950Z"
    },
    "papermill": {
     "duration": 0.039193,
     "end_time": "2022-08-23T06:28:55.978031",
     "exception": false,
     "start_time": "2022-08-23T06:28:55.938838",
     "status": "completed"
    },
    "tags": []
   },
   "outputs": [],
   "source": [
    "cancer=load_breast_cancer()\n",
    "\n"
   ]
  },
  {
   "cell_type": "code",
   "execution_count": 61,
   "id": "f48ffa75",
   "metadata": {
    "execution": {
     "iopub.execute_input": "2022-08-23T06:28:56.022388Z",
     "iopub.status.busy": "2022-08-23T06:28:56.021587Z",
     "iopub.status.idle": "2022-08-23T06:28:56.028738Z",
     "shell.execute_reply": "2022-08-23T06:28:56.027570Z"
    },
    "papermill": {
     "duration": 0.03179,
     "end_time": "2022-08-23T06:28:56.031247",
     "exception": false,
     "start_time": "2022-08-23T06:28:55.999457",
     "status": "completed"
    },
    "tags": []
   },
   "outputs": [
    {
     "data": {
      "text/plain": [
       "dict_keys(['data', 'target', 'frame', 'target_names', 'DESCR', 'feature_names', 'filename', 'data_module'])"
      ]
     },
     "execution_count": 61,
     "metadata": {},
     "output_type": "execute_result"
    }
   ],
   "source": [
    "cancer.keys()\n"
   ]
  },
  {
   "cell_type": "code",
   "execution_count": 62,
   "id": "263eb41c",
   "metadata": {
    "execution": {
     "iopub.execute_input": "2022-08-23T06:28:56.074785Z",
     "iopub.status.busy": "2022-08-23T06:28:56.074147Z",
     "iopub.status.idle": "2022-08-23T06:28:56.080058Z",
     "shell.execute_reply": "2022-08-23T06:28:56.078992Z"
    },
    "papermill": {
     "duration": 0.030777,
     "end_time": "2022-08-23T06:28:56.082727",
     "exception": false,
     "start_time": "2022-08-23T06:28:56.051950",
     "status": "completed"
    },
    "tags": []
   },
   "outputs": [
    {
     "name": "stdout",
     "output_type": "stream",
     "text": [
      ".. _breast_cancer_dataset:\n",
      "\n",
      "Breast cancer wisconsin (diagnostic) dataset\n",
      "--------------------------------------------\n",
      "\n",
      "**Data Set Characteristics:**\n",
      "\n",
      "    :Number of Instances: 569\n",
      "\n",
      "    :Number of Attributes: 30 numeric, predictive attributes and the class\n",
      "\n",
      "    :Attribute Information:\n",
      "        - radius (mean of distances from center to points on the perimeter)\n",
      "        - texture (standard deviation of gray-scale values)\n",
      "        - perimeter\n",
      "        - area\n",
      "        - smoothness (local variation in radius lengths)\n",
      "        - compactness (perimeter^2 / area - 1.0)\n",
      "        - concavity (severity of concave portions of the contour)\n",
      "        - concave points (number of concave portions of the contour)\n",
      "        - symmetry\n",
      "        - fractal dimension (\"coastline approximation\" - 1)\n",
      "\n",
      "        The mean, standard error, and \"worst\" or largest (mean of the three\n",
      "        worst/largest values) of these features were computed for each image,\n",
      "        resulting in 30 features.  For instance, field 0 is Mean Radius, field\n",
      "        10 is Radius SE, field 20 is Worst Radius.\n",
      "\n",
      "        - class:\n",
      "                - WDBC-Malignant\n",
      "                - WDBC-Benign\n",
      "\n",
      "    :Summary Statistics:\n",
      "\n",
      "    ===================================== ====== ======\n",
      "                                           Min    Max\n",
      "    ===================================== ====== ======\n",
      "    radius (mean):                        6.981  28.11\n",
      "    texture (mean):                       9.71   39.28\n",
      "    perimeter (mean):                     43.79  188.5\n",
      "    area (mean):                          143.5  2501.0\n",
      "    smoothness (mean):                    0.053  0.163\n",
      "    compactness (mean):                   0.019  0.345\n",
      "    concavity (mean):                     0.0    0.427\n",
      "    concave points (mean):                0.0    0.201\n",
      "    symmetry (mean):                      0.106  0.304\n",
      "    fractal dimension (mean):             0.05   0.097\n",
      "    radius (standard error):              0.112  2.873\n",
      "    texture (standard error):             0.36   4.885\n",
      "    perimeter (standard error):           0.757  21.98\n",
      "    area (standard error):                6.802  542.2\n",
      "    smoothness (standard error):          0.002  0.031\n",
      "    compactness (standard error):         0.002  0.135\n",
      "    concavity (standard error):           0.0    0.396\n",
      "    concave points (standard error):      0.0    0.053\n",
      "    symmetry (standard error):            0.008  0.079\n",
      "    fractal dimension (standard error):   0.001  0.03\n",
      "    radius (worst):                       7.93   36.04\n",
      "    texture (worst):                      12.02  49.54\n",
      "    perimeter (worst):                    50.41  251.2\n",
      "    area (worst):                         185.2  4254.0\n",
      "    smoothness (worst):                   0.071  0.223\n",
      "    compactness (worst):                  0.027  1.058\n",
      "    concavity (worst):                    0.0    1.252\n",
      "    concave points (worst):               0.0    0.291\n",
      "    symmetry (worst):                     0.156  0.664\n",
      "    fractal dimension (worst):            0.055  0.208\n",
      "    ===================================== ====== ======\n",
      "\n",
      "    :Missing Attribute Values: None\n",
      "\n",
      "    :Class Distribution: 212 - Malignant, 357 - Benign\n",
      "\n",
      "    :Creator:  Dr. William H. Wolberg, W. Nick Street, Olvi L. Mangasarian\n",
      "\n",
      "    :Donor: Nick Street\n",
      "\n",
      "    :Date: November, 1995\n",
      "\n",
      "This is a copy of UCI ML Breast Cancer Wisconsin (Diagnostic) datasets.\n",
      "https://goo.gl/U2Uwz2\n",
      "\n",
      "Features are computed from a digitized image of a fine needle\n",
      "aspirate (FNA) of a breast mass.  They describe\n",
      "characteristics of the cell nuclei present in the image.\n",
      "\n",
      "Separating plane described above was obtained using\n",
      "Multisurface Method-Tree (MSM-T) [K. P. Bennett, \"Decision Tree\n",
      "Construction Via Linear Programming.\" Proceedings of the 4th\n",
      "Midwest Artificial Intelligence and Cognitive Science Society,\n",
      "pp. 97-101, 1992], a classification method which uses linear\n",
      "programming to construct a decision tree.  Relevant features\n",
      "were selected using an exhaustive search in the space of 1-4\n",
      "features and 1-3 separating planes.\n",
      "\n",
      "The actual linear program used to obtain the separating plane\n",
      "in the 3-dimensional space is that described in:\n",
      "[K. P. Bennett and O. L. Mangasarian: \"Robust Linear\n",
      "Programming Discrimination of Two Linearly Inseparable Sets\",\n",
      "Optimization Methods and Software 1, 1992, 23-34].\n",
      "\n",
      "This database is also available through the UW CS ftp server:\n",
      "\n",
      "ftp ftp.cs.wisc.edu\n",
      "cd math-prog/cpo-dataset/machine-learn/WDBC/\n",
      "\n",
      ".. topic:: References\n",
      "\n",
      "   - W.N. Street, W.H. Wolberg and O.L. Mangasarian. Nuclear feature extraction \n",
      "     for breast tumor diagnosis. IS&T/SPIE 1993 International Symposium on \n",
      "     Electronic Imaging: Science and Technology, volume 1905, pages 861-870,\n",
      "     San Jose, CA, 1993.\n",
      "   - O.L. Mangasarian, W.N. Street and W.H. Wolberg. Breast cancer diagnosis and \n",
      "     prognosis via linear programming. Operations Research, 43(4), pages 570-577, \n",
      "     July-August 1995.\n",
      "   - W.H. Wolberg, W.N. Street, and O.L. Mangasarian. Machine learning techniques\n",
      "     to diagnose breast cancer from fine-needle aspirates. Cancer Letters 77 (1994) \n",
      "     163-171.\n"
     ]
    }
   ],
   "source": [
    "print(cancer['DESCR'])"
   ]
  },
  {
   "cell_type": "code",
   "execution_count": 63,
   "id": "d51eae61",
   "metadata": {
    "execution": {
     "iopub.execute_input": "2022-08-23T06:28:56.126713Z",
     "iopub.status.busy": "2022-08-23T06:28:56.125538Z",
     "iopub.status.idle": "2022-08-23T06:28:56.131723Z",
     "shell.execute_reply": "2022-08-23T06:28:56.130855Z"
    },
    "papermill": {
     "duration": 0.030301,
     "end_time": "2022-08-23T06:28:56.133977",
     "exception": false,
     "start_time": "2022-08-23T06:28:56.103676",
     "status": "completed"
    },
    "tags": []
   },
   "outputs": [],
   "source": [
    "df=pd.DataFrame(cancer['data'],columns=cancer['feature_names'])\n"
   ]
  },
  {
   "cell_type": "code",
   "execution_count": 64,
   "id": "e835c9ed",
   "metadata": {
    "execution": {
     "iopub.execute_input": "2022-08-23T06:28:56.177958Z",
     "iopub.status.busy": "2022-08-23T06:28:56.177564Z",
     "iopub.status.idle": "2022-08-23T06:28:56.182443Z",
     "shell.execute_reply": "2022-08-23T06:28:56.181185Z"
    },
    "papermill": {
     "duration": 0.02967,
     "end_time": "2022-08-23T06:28:56.184627",
     "exception": false,
     "start_time": "2022-08-23T06:28:56.154957",
     "status": "completed"
    },
    "tags": []
   },
   "outputs": [],
   "source": [
    "from sklearn.preprocessing import StandardScaler\n"
   ]
  },
  {
   "cell_type": "code",
   "execution_count": 65,
   "id": "63af5380",
   "metadata": {
    "execution": {
     "iopub.execute_input": "2022-08-23T06:28:56.228939Z",
     "iopub.status.busy": "2022-08-23T06:28:56.227815Z",
     "iopub.status.idle": "2022-08-23T06:28:56.233226Z",
     "shell.execute_reply": "2022-08-23T06:28:56.232297Z"
    },
    "papermill": {
     "duration": 0.02997,
     "end_time": "2022-08-23T06:28:56.235461",
     "exception": false,
     "start_time": "2022-08-23T06:28:56.205491",
     "status": "completed"
    },
    "tags": []
   },
   "outputs": [],
   "source": [
    "scaler=StandardScaler()\n"
   ]
  },
  {
   "cell_type": "code",
   "execution_count": 66,
   "id": "dffe15d6",
   "metadata": {
    "execution": {
     "iopub.execute_input": "2022-08-23T06:28:56.279326Z",
     "iopub.status.busy": "2022-08-23T06:28:56.278684Z",
     "iopub.status.idle": "2022-08-23T06:28:56.287889Z",
     "shell.execute_reply": "2022-08-23T06:28:56.286845Z"
    },
    "papermill": {
     "duration": 0.033637,
     "end_time": "2022-08-23T06:28:56.290038",
     "exception": false,
     "start_time": "2022-08-23T06:28:56.256401",
     "status": "completed"
    },
    "tags": []
   },
   "outputs": [
    {
     "data": {
      "text/plain": [
       "StandardScaler()"
      ]
     },
     "execution_count": 66,
     "metadata": {},
     "output_type": "execute_result"
    }
   ],
   "source": [
    "scaler.fit(df)\n"
   ]
  },
  {
   "cell_type": "code",
   "execution_count": 67,
   "id": "411ee6a4",
   "metadata": {
    "execution": {
     "iopub.execute_input": "2022-08-23T06:28:56.334126Z",
     "iopub.status.busy": "2022-08-23T06:28:56.333671Z",
     "iopub.status.idle": "2022-08-23T06:28:56.340786Z",
     "shell.execute_reply": "2022-08-23T06:28:56.339460Z"
    },
    "papermill": {
     "duration": 0.031981,
     "end_time": "2022-08-23T06:28:56.343016",
     "exception": false,
     "start_time": "2022-08-23T06:28:56.311035",
     "status": "completed"
    },
    "tags": []
   },
   "outputs": [],
   "source": [
    "scaled_data=scaler.transform(df)\n"
   ]
  },
  {
   "cell_type": "code",
   "execution_count": 68,
   "id": "53ed1e27",
   "metadata": {
    "execution": {
     "iopub.execute_input": "2022-08-23T06:28:56.386656Z",
     "iopub.status.busy": "2022-08-23T06:28:56.386031Z",
     "iopub.status.idle": "2022-08-23T06:28:56.391087Z",
     "shell.execute_reply": "2022-08-23T06:28:56.390177Z"
    },
    "papermill": {
     "duration": 0.029448,
     "end_time": "2022-08-23T06:28:56.393316",
     "exception": false,
     "start_time": "2022-08-23T06:28:56.363868",
     "status": "completed"
    },
    "tags": []
   },
   "outputs": [],
   "source": [
    "from sklearn.decomposition import PCA\n"
   ]
  },
  {
   "cell_type": "code",
   "execution_count": 69,
   "id": "5f2984f0",
   "metadata": {
    "execution": {
     "iopub.execute_input": "2022-08-23T06:28:56.438270Z",
     "iopub.status.busy": "2022-08-23T06:28:56.437629Z",
     "iopub.status.idle": "2022-08-23T06:28:56.442672Z",
     "shell.execute_reply": "2022-08-23T06:28:56.441880Z"
    },
    "papermill": {
     "duration": 0.029757,
     "end_time": "2022-08-23T06:28:56.444962",
     "exception": false,
     "start_time": "2022-08-23T06:28:56.415205",
     "status": "completed"
    },
    "tags": []
   },
   "outputs": [],
   "source": [
    "pca=PCA(n_components=2) \t\n"
   ]
  },
  {
   "cell_type": "code",
   "execution_count": 70,
   "id": "4b0f3cd9",
   "metadata": {
    "execution": {
     "iopub.execute_input": "2022-08-23T06:28:56.490006Z",
     "iopub.status.busy": "2022-08-23T06:28:56.489592Z",
     "iopub.status.idle": "2022-08-23T06:28:56.521047Z",
     "shell.execute_reply": "2022-08-23T06:28:56.519490Z"
    },
    "papermill": {
     "duration": 0.059085,
     "end_time": "2022-08-23T06:28:56.525151",
     "exception": false,
     "start_time": "2022-08-23T06:28:56.466066",
     "status": "completed"
    },
    "tags": []
   },
   "outputs": [
    {
     "data": {
      "text/plain": [
       "PCA(n_components=2)"
      ]
     },
     "execution_count": 70,
     "metadata": {},
     "output_type": "execute_result"
    }
   ],
   "source": [
    "pca.fit(scaled_data)\n"
   ]
  },
  {
   "cell_type": "code",
   "execution_count": 71,
   "id": "62e1c801",
   "metadata": {
    "execution": {
     "iopub.execute_input": "2022-08-23T06:28:56.627592Z",
     "iopub.status.busy": "2022-08-23T06:28:56.627197Z",
     "iopub.status.idle": "2022-08-23T06:28:56.633017Z",
     "shell.execute_reply": "2022-08-23T06:28:56.631568Z"
    },
    "papermill": {
     "duration": 0.055086,
     "end_time": "2022-08-23T06:28:56.635534",
     "exception": false,
     "start_time": "2022-08-23T06:28:56.580448",
     "status": "completed"
    },
    "tags": []
   },
   "outputs": [],
   "source": [
    "x_pca=pca.transform(scaled_data)\n"
   ]
  },
  {
   "cell_type": "code",
   "execution_count": 72,
   "id": "1ca3828c",
   "metadata": {
    "execution": {
     "iopub.execute_input": "2022-08-23T06:28:56.679915Z",
     "iopub.status.busy": "2022-08-23T06:28:56.679502Z",
     "iopub.status.idle": "2022-08-23T06:28:56.685723Z",
     "shell.execute_reply": "2022-08-23T06:28:56.684988Z"
    },
    "papermill": {
     "duration": 0.030561,
     "end_time": "2022-08-23T06:28:56.687854",
     "exception": false,
     "start_time": "2022-08-23T06:28:56.657293",
     "status": "completed"
    },
    "tags": []
   },
   "outputs": [
    {
     "data": {
      "text/plain": [
       "array([[ 9.19283683,  1.94858307],\n",
       "       [ 2.3878018 , -3.76817174],\n",
       "       [ 5.73389628, -1.0751738 ],\n",
       "       ...,\n",
       "       [ 1.25617928, -1.90229671],\n",
       "       [10.37479406,  1.67201011],\n",
       "       [-5.4752433 , -0.67063679]])"
      ]
     },
     "execution_count": 72,
     "metadata": {},
     "output_type": "execute_result"
    }
   ],
   "source": [
    "x_pca\n"
   ]
  },
  {
   "cell_type": "code",
   "execution_count": 73,
   "id": "d5c2f01a",
   "metadata": {
    "execution": {
     "iopub.execute_input": "2022-08-23T06:28:56.732776Z",
     "iopub.status.busy": "2022-08-23T06:28:56.732179Z",
     "iopub.status.idle": "2022-08-23T06:28:56.971106Z",
     "shell.execute_reply": "2022-08-23T06:28:56.969586Z"
    },
    "papermill": {
     "duration": 0.264452,
     "end_time": "2022-08-23T06:28:56.973628",
     "exception": false,
     "start_time": "2022-08-23T06:28:56.709176",
     "status": "completed"
    },
    "tags": []
   },
   "outputs": [
    {
     "data": {
      "text/plain": [
       "Text(0, 0.5, 'Second principle component')"
      ]
     },
     "execution_count": 73,
     "metadata": {},
     "output_type": "execute_result"
    },
    {
     "data": {
      "image/png": "[encoded data removed]",
      "text/plain": [
       "<Figure size 576x432 with 1 Axes>"
      ]
     },
     "metadata": {
      "needs_background": "light"
     },
     "output_type": "display_data"
    }
   ],
   "source": [
    "plt.figure(figsize=(8,6))\n",
    "plt.scatter(x_pca[:,0],x_pca[:,1],c=cancer['target'])\n",
    "plt.xlabel('First principle component')\n",
    "plt.ylabel('Second principle component')\n"
   ]
  }
 ],
 "metadata": {
  "kernelspec": {
   "display_name": "Python 3",
   "language": "python",
   "name": "python3"
  },
  "language_info": {
   "codemirror_mode": {
    "name": "ipython",
    "version": 3
   },
   "file_extension": ".py",
   "mimetype": "text/x-python",
   "name": "python",
   "nbconvert_exporter": "python",
   "pygments_lexer": "ipython3",
   "version": "3.7.12"
  },
  "papermill": {
   "default_parameters": {},
   "duration": 17.501299,
   "end_time": "2022-08-23T06:28:57.719481",
   "environment_variables": {},
   "exception": null,
   "input_path": "__notebook__.ipynb",
   "output_path": "__notebook__.ipynb",
   "parameters": {},
   "start_time": "2022-08-23T06:28:40.218182",
   "version": "2.3.4"
  }
 },
 "nbformat": 4,
 "nbformat_minor": 5
}
