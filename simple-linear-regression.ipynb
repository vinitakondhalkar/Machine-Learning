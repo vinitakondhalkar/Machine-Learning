{
 "cells": [
  {
   "cell_type": "raw",
   "id": "f70c156a",
   "metadata": {
    "papermill": {
     "duration": 0.006908,
     "end_time": "2022-08-11T02:35:25.595471",
     "exception": false,
     "start_time": "2022-08-11T02:35:25.588563",
     "status": "completed"
    },
    "tags": []
   },
   "source": []
  },
  {
   "cell_type": "code",
   "execution_count": 1,
   "id": "53f54eaa",
   "metadata": {
    "_cell_guid": "b1076dfc-b9ad-4769-8c92-a6c4dae69d19",
    "_uuid": "8f2839f25d086af736a60e9eeb907d3b93b6e0e5",
    "execution": {
     "iopub.execute_input": "2022-08-11T02:35:25.608888Z",
     "iopub.status.busy": "2022-08-11T02:35:25.608195Z",
     "iopub.status.idle": "2022-08-11T02:35:25.630796Z",
     "shell.execute_reply": "2022-08-11T02:35:25.628973Z"
    },
    "papermill": {
     "duration": 0.032753,
     "end_time": "2022-08-11T02:35:25.633725",
     "exception": false,
     "start_time": "2022-08-11T02:35:25.600972",
     "status": "completed"
    },
    "tags": []
   },
   "outputs": [
    {
     "name": "stdout",
     "output_type": "stream",
     "text": [
      "/kaggle/input/salary-data-simple-linear-regression/Salary_Data.csv\n"
     ]
    }
   ],
   "source": [
    "# This Python 3 environment comes with many helpful analytics libraries installed\n",
    "# It is defined by the kaggle/python Docker image: https://github.com/kaggle/docker-python\n",
    "# For example, here's several helpful packages to load\n",
    "\n",
    "import numpy as np # linear algebra\n",
    "import pandas as pd # data processing, CSV file I/O (e.g. pd.read_csv)\n",
    "\n",
    "# Input data files are available in the read-only \"../input/\" directory\n",
    "# For example, running this (by clicking run or pressing Shift+Enter) will list all files under the input directory\n",
    "\n",
    "import os\n",
    "for dirname, _, filenames in os.walk('/kaggle/input'):\n",
    "    for filename in filenames:\n",
    "        print(os.path.join(dirname, filename))\n",
    "\n",
    "# You can write up to 20GB to the current directory (/kaggle/working/) that gets preserved as output when you create a version using \"Save & Run All\" \n",
    "# You can also write temporary files to /kaggle/temp/, but they won't be saved outside of the current session"
   ]
  },
  {
   "cell_type": "code",
   "execution_count": 2,
   "id": "532ae7b3",
   "metadata": {
    "execution": {
     "iopub.execute_input": "2022-08-11T02:35:25.647467Z",
     "iopub.status.busy": "2022-08-11T02:35:25.646263Z",
     "iopub.status.idle": "2022-08-11T02:35:25.652345Z",
     "shell.execute_reply": "2022-08-11T02:35:25.651073Z"
    },
    "papermill": {
     "duration": 0.015703,
     "end_time": "2022-08-11T02:35:25.655272",
     "exception": false,
     "start_time": "2022-08-11T02:35:25.639569",
     "status": "completed"
    },
    "tags": []
   },
   "outputs": [],
   "source": [
    "import numpy as np\n",
    "import pandas as pd"
   ]
  },
  {
   "cell_type": "code",
   "execution_count": 3,
   "id": "f53f7da8",
   "metadata": {
    "execution": {
     "iopub.execute_input": "2022-08-11T02:35:25.667640Z",
     "iopub.status.busy": "2022-08-11T02:35:25.667319Z",
     "iopub.status.idle": "2022-08-11T02:35:25.680943Z",
     "shell.execute_reply": "2022-08-11T02:35:25.679631Z"
    },
    "papermill": {
     "duration": 0.023048,
     "end_time": "2022-08-11T02:35:25.683778",
     "exception": false,
     "start_time": "2022-08-11T02:35:25.660730",
     "status": "completed"
    },
    "tags": []
   },
   "outputs": [],
   "source": [
    "df=pd.read_csv('../input/salary-data-simple-linear-regression/Salary_Data.csv')"
   ]
  },
  {
   "cell_type": "code",
   "execution_count": 4,
   "id": "16652ed5",
   "metadata": {
    "execution": {
     "iopub.execute_input": "2022-08-11T02:35:25.696868Z",
     "iopub.status.busy": "2022-08-11T02:35:25.696546Z",
     "iopub.status.idle": "2022-08-11T02:35:25.718941Z",
     "shell.execute_reply": "2022-08-11T02:35:25.717446Z"
    },
    "papermill": {
     "duration": 0.032801,
     "end_time": "2022-08-11T02:35:25.722416",
     "exception": false,
     "start_time": "2022-08-11T02:35:25.689615",
     "status": "completed"
    },
    "tags": []
   },
   "outputs": [
    {
     "data": {
      "text/html": [
       "<div>\n",
       "<style scoped>\n",
       "    .dataframe tbody tr th:only-of-type {\n",
       "        vertical-align: middle;\n",
       "    }\n",
       "\n",
       "    .dataframe tbody tr th {\n",
       "        vertical-align: top;\n",
       "    }\n",
       "\n",
       "    .dataframe thead th {\n",
       "        text-align: right;\n",
       "    }\n",
       "</style>\n",
       "<table border=\"1\" class=\"dataframe\">\n",
       "  <thead>\n",
       "    <tr style=\"text-align: right;\">\n",
       "      <th></th>\n",
       "      <th>YearsExperience</th>\n",
       "      <th>Salary</th>\n",
       "    </tr>\n",
       "  </thead>\n",
       "  <tbody>\n",
       "    <tr>\n",
       "      <th>0</th>\n",
       "      <td>1.1</td>\n",
       "      <td>39343.0</td>\n",
       "    </tr>\n",
       "    <tr>\n",
       "      <th>1</th>\n",
       "      <td>1.3</td>\n",
       "      <td>46205.0</td>\n",
       "    </tr>\n",
       "    <tr>\n",
       "      <th>2</th>\n",
       "      <td>1.5</td>\n",
       "      <td>37731.0</td>\n",
       "    </tr>\n",
       "    <tr>\n",
       "      <th>3</th>\n",
       "      <td>2.0</td>\n",
       "      <td>43525.0</td>\n",
       "    </tr>\n",
       "    <tr>\n",
       "      <th>4</th>\n",
       "      <td>2.2</td>\n",
       "      <td>39891.0</td>\n",
       "    </tr>\n",
       "    <tr>\n",
       "      <th>5</th>\n",
       "      <td>2.9</td>\n",
       "      <td>56642.0</td>\n",
       "    </tr>\n",
       "    <tr>\n",
       "      <th>6</th>\n",
       "      <td>3.0</td>\n",
       "      <td>60150.0</td>\n",
       "    </tr>\n",
       "    <tr>\n",
       "      <th>7</th>\n",
       "      <td>3.2</td>\n",
       "      <td>54445.0</td>\n",
       "    </tr>\n",
       "    <tr>\n",
       "      <th>8</th>\n",
       "      <td>3.2</td>\n",
       "      <td>64445.0</td>\n",
       "    </tr>\n",
       "    <tr>\n",
       "      <th>9</th>\n",
       "      <td>3.7</td>\n",
       "      <td>57189.0</td>\n",
       "    </tr>\n",
       "  </tbody>\n",
       "</table>\n",
       "</div>"
      ],
      "text/plain": [
       "   YearsExperience   Salary\n",
       "0              1.1  39343.0\n",
       "1              1.3  46205.0\n",
       "2              1.5  37731.0\n",
       "3              2.0  43525.0\n",
       "4              2.2  39891.0\n",
       "5              2.9  56642.0\n",
       "6              3.0  60150.0\n",
       "7              3.2  54445.0\n",
       "8              3.2  64445.0\n",
       "9              3.7  57189.0"
      ]
     },
     "execution_count": 4,
     "metadata": {},
     "output_type": "execute_result"
    }
   ],
   "source": [
    "df.head(10)"
   ]
  },
  {
   "cell_type": "code",
   "execution_count": 5,
   "id": "c501710a",
   "metadata": {
    "execution": {
     "iopub.execute_input": "2022-08-11T02:35:25.735214Z",
     "iopub.status.busy": "2022-08-11T02:35:25.734849Z",
     "iopub.status.idle": "2022-08-11T02:35:25.762373Z",
     "shell.execute_reply": "2022-08-11T02:35:25.760441Z"
    },
    "papermill": {
     "duration": 0.037907,
     "end_time": "2022-08-11T02:35:25.765889",
     "exception": false,
     "start_time": "2022-08-11T02:35:25.727982",
     "status": "completed"
    },
    "tags": []
   },
   "outputs": [
    {
     "name": "stdout",
     "output_type": "stream",
     "text": [
      "<class 'pandas.core.frame.DataFrame'>\n",
      "RangeIndex: 30 entries, 0 to 29\n",
      "Data columns (total 2 columns):\n",
      " #   Column           Non-Null Count  Dtype  \n",
      "---  ------           --------------  -----  \n",
      " 0   YearsExperience  30 non-null     float64\n",
      " 1   Salary           30 non-null     float64\n",
      "dtypes: float64(2)\n",
      "memory usage: 608.0 bytes\n"
     ]
    }
   ],
   "source": [
    "df.info()"
   ]
  },
  {
   "cell_type": "code",
   "execution_count": 6,
   "id": "95696554",
   "metadata": {
    "execution": {
     "iopub.execute_input": "2022-08-11T02:35:25.781098Z",
     "iopub.status.busy": "2022-08-11T02:35:25.779118Z",
     "iopub.status.idle": "2022-08-11T02:35:25.802768Z",
     "shell.execute_reply": "2022-08-11T02:35:25.801383Z"
    },
    "papermill": {
     "duration": 0.033455,
     "end_time": "2022-08-11T02:35:25.805563",
     "exception": false,
     "start_time": "2022-08-11T02:35:25.772108",
     "status": "completed"
    },
    "tags": []
   },
   "outputs": [
    {
     "data": {
      "text/html": [
       "<div>\n",
       "<style scoped>\n",
       "    .dataframe tbody tr th:only-of-type {\n",
       "        vertical-align: middle;\n",
       "    }\n",
       "\n",
       "    .dataframe tbody tr th {\n",
       "        vertical-align: top;\n",
       "    }\n",
       "\n",
       "    .dataframe thead th {\n",
       "        text-align: right;\n",
       "    }\n",
       "</style>\n",
       "<table border=\"1\" class=\"dataframe\">\n",
       "  <thead>\n",
       "    <tr style=\"text-align: right;\">\n",
       "      <th></th>\n",
       "      <th>YearsExperience</th>\n",
       "      <th>Salary</th>\n",
       "    </tr>\n",
       "  </thead>\n",
       "  <tbody>\n",
       "    <tr>\n",
       "      <th>count</th>\n",
       "      <td>30.000000</td>\n",
       "      <td>30.000000</td>\n",
       "    </tr>\n",
       "    <tr>\n",
       "      <th>mean</th>\n",
       "      <td>5.313333</td>\n",
       "      <td>76003.000000</td>\n",
       "    </tr>\n",
       "    <tr>\n",
       "      <th>std</th>\n",
       "      <td>2.837888</td>\n",
       "      <td>27414.429785</td>\n",
       "    </tr>\n",
       "    <tr>\n",
       "      <th>min</th>\n",
       "      <td>1.100000</td>\n",
       "      <td>37731.000000</td>\n",
       "    </tr>\n",
       "    <tr>\n",
       "      <th>25%</th>\n",
       "      <td>3.200000</td>\n",
       "      <td>56720.750000</td>\n",
       "    </tr>\n",
       "    <tr>\n",
       "      <th>50%</th>\n",
       "      <td>4.700000</td>\n",
       "      <td>65237.000000</td>\n",
       "    </tr>\n",
       "    <tr>\n",
       "      <th>75%</th>\n",
       "      <td>7.700000</td>\n",
       "      <td>100544.750000</td>\n",
       "    </tr>\n",
       "    <tr>\n",
       "      <th>max</th>\n",
       "      <td>10.500000</td>\n",
       "      <td>122391.000000</td>\n",
       "    </tr>\n",
       "  </tbody>\n",
       "</table>\n",
       "</div>"
      ],
      "text/plain": [
       "       YearsExperience         Salary\n",
       "count        30.000000      30.000000\n",
       "mean          5.313333   76003.000000\n",
       "std           2.837888   27414.429785\n",
       "min           1.100000   37731.000000\n",
       "25%           3.200000   56720.750000\n",
       "50%           4.700000   65237.000000\n",
       "75%           7.700000  100544.750000\n",
       "max          10.500000  122391.000000"
      ]
     },
     "execution_count": 6,
     "metadata": {},
     "output_type": "execute_result"
    }
   ],
   "source": [
    "df.describe()"
   ]
  },
  {
   "cell_type": "code",
   "execution_count": 7,
   "id": "297e46f4",
   "metadata": {
    "execution": {
     "iopub.execute_input": "2022-08-11T02:35:25.819129Z",
     "iopub.status.busy": "2022-08-11T02:35:25.818739Z",
     "iopub.status.idle": "2022-08-11T02:35:25.824534Z",
     "shell.execute_reply": "2022-08-11T02:35:25.822947Z"
    },
    "papermill": {
     "duration": 0.01538,
     "end_time": "2022-08-11T02:35:25.827053",
     "exception": false,
     "start_time": "2022-08-11T02:35:25.811673",
     "status": "completed"
    },
    "tags": []
   },
   "outputs": [],
   "source": [
    "X=df['YearsExperience']\n",
    "y=df['Salary']"
   ]
  },
  {
   "cell_type": "code",
   "execution_count": 8,
   "id": "d1d4e7d8",
   "metadata": {
    "execution": {
     "iopub.execute_input": "2022-08-11T02:35:25.840863Z",
     "iopub.status.busy": "2022-08-11T02:35:25.839932Z",
     "iopub.status.idle": "2022-08-11T02:35:26.949593Z",
     "shell.execute_reply": "2022-08-11T02:35:26.948213Z"
    },
    "papermill": {
     "duration": 1.119828,
     "end_time": "2022-08-11T02:35:26.952681",
     "exception": false,
     "start_time": "2022-08-11T02:35:25.832853",
     "status": "completed"
    },
    "tags": []
   },
   "outputs": [],
   "source": [
    "from sklearn.model_selection import train_test_split"
   ]
  },
  {
   "cell_type": "code",
   "execution_count": 9,
   "id": "d5d09788",
   "metadata": {
    "execution": {
     "iopub.execute_input": "2022-08-11T02:35:26.967641Z",
     "iopub.status.busy": "2022-08-11T02:35:26.966403Z",
     "iopub.status.idle": "2022-08-11T02:35:26.975143Z",
     "shell.execute_reply": "2022-08-11T02:35:26.973852Z"
    },
    "papermill": {
     "duration": 0.018983,
     "end_time": "2022-08-11T02:35:26.978159",
     "exception": false,
     "start_time": "2022-08-11T02:35:26.959176",
     "status": "completed"
    },
    "tags": []
   },
   "outputs": [],
   "source": [
    "X_train,X_test,y_train,y_test=train_test_split(X,y,train_size=0.7, random_state=100)"
   ]
  },
  {
   "cell_type": "code",
   "execution_count": 10,
   "id": "2de00f72",
   "metadata": {
    "execution": {
     "iopub.execute_input": "2022-08-11T02:35:26.991785Z",
     "iopub.status.busy": "2022-08-11T02:35:26.991452Z",
     "iopub.status.idle": "2022-08-11T02:35:27.000313Z",
     "shell.execute_reply": "2022-08-11T02:35:26.998086Z"
    },
    "papermill": {
     "duration": 0.018896,
     "end_time": "2022-08-11T02:35:27.003074",
     "exception": false,
     "start_time": "2022-08-11T02:35:26.984178",
     "status": "completed"
    },
    "tags": []
   },
   "outputs": [
    {
     "name": "stderr",
     "output_type": "stream",
     "text": [
      "/opt/conda/lib/python3.7/site-packages/ipykernel_launcher.py:1: FutureWarning: Support for multi-dimensional indexing (e.g. `obj[:, None]`) is deprecated and will be removed in a future version.  Convert to a numpy array before indexing instead.\n",
      "  \"\"\"Entry point for launching an IPython kernel.\n",
      "/opt/conda/lib/python3.7/site-packages/ipykernel_launcher.py:2: FutureWarning: Support for multi-dimensional indexing (e.g. `obj[:, None]`) is deprecated and will be removed in a future version.  Convert to a numpy array before indexing instead.\n",
      "  \n"
     ]
    }
   ],
   "source": [
    "X_train=X_train[:,np.newaxis]\n",
    "X_test=X_test[:,np.newaxis]"
   ]
  },
  {
   "cell_type": "code",
   "execution_count": 11,
   "id": "63cc4f0f",
   "metadata": {
    "execution": {
     "iopub.execute_input": "2022-08-11T02:35:27.019088Z",
     "iopub.status.busy": "2022-08-11T02:35:27.016984Z",
     "iopub.status.idle": "2022-08-11T02:35:27.095684Z",
     "shell.execute_reply": "2022-08-11T02:35:27.094288Z"
    },
    "papermill": {
     "duration": 0.088984,
     "end_time": "2022-08-11T02:35:27.098492",
     "exception": false,
     "start_time": "2022-08-11T02:35:27.009508",
     "status": "completed"
    },
    "tags": []
   },
   "outputs": [],
   "source": [
    "from sklearn.linear_model import LinearRegression"
   ]
  },
  {
   "cell_type": "code",
   "execution_count": 12,
   "id": "66cf812f",
   "metadata": {
    "execution": {
     "iopub.execute_input": "2022-08-11T02:35:27.113033Z",
     "iopub.status.busy": "2022-08-11T02:35:27.112670Z",
     "iopub.status.idle": "2022-08-11T02:35:27.138467Z",
     "shell.execute_reply": "2022-08-11T02:35:27.137105Z"
    },
    "papermill": {
     "duration": 0.03549,
     "end_time": "2022-08-11T02:35:27.141225",
     "exception": false,
     "start_time": "2022-08-11T02:35:27.105735",
     "status": "completed"
    },
    "tags": []
   },
   "outputs": [
    {
     "data": {
      "text/plain": [
       "LinearRegression()"
      ]
     },
     "execution_count": 12,
     "metadata": {},
     "output_type": "execute_result"
    }
   ],
   "source": [
    "lr=LinearRegression()\n",
    "lr.fit(X_train,y_train)"
   ]
  },
  {
   "cell_type": "code",
   "execution_count": 13,
   "id": "2df8e35c",
   "metadata": {
    "execution": {
     "iopub.execute_input": "2022-08-11T02:35:27.155947Z",
     "iopub.status.busy": "2022-08-11T02:35:27.154751Z",
     "iopub.status.idle": "2022-08-11T02:35:27.163325Z",
     "shell.execute_reply": "2022-08-11T02:35:27.161961Z"
    },
    "papermill": {
     "duration": 0.018284,
     "end_time": "2022-08-11T02:35:27.165683",
     "exception": false,
     "start_time": "2022-08-11T02:35:27.147399",
     "status": "completed"
    },
    "tags": []
   },
   "outputs": [],
   "source": [
    "y_pred=lr.predict(X_test)"
   ]
  },
  {
   "cell_type": "code",
   "execution_count": 14,
   "id": "0a442052",
   "metadata": {
    "execution": {
     "iopub.execute_input": "2022-08-11T02:35:27.180689Z",
     "iopub.status.busy": "2022-08-11T02:35:27.179409Z",
     "iopub.status.idle": "2022-08-11T02:35:27.187206Z",
     "shell.execute_reply": "2022-08-11T02:35:27.185724Z"
    },
    "papermill": {
     "duration": 0.018012,
     "end_time": "2022-08-11T02:35:27.190078",
     "exception": false,
     "start_time": "2022-08-11T02:35:27.172066",
     "status": "completed"
    },
    "tags": []
   },
   "outputs": [],
   "source": [
    "from sklearn.metrics import mean_squared_error, r2_score"
   ]
  },
  {
   "cell_type": "code",
   "execution_count": 15,
   "id": "62742129",
   "metadata": {
    "execution": {
     "iopub.execute_input": "2022-08-11T02:35:27.203971Z",
     "iopub.status.busy": "2022-08-11T02:35:27.203630Z",
     "iopub.status.idle": "2022-08-11T02:35:27.210211Z",
     "shell.execute_reply": "2022-08-11T02:35:27.208743Z"
    },
    "papermill": {
     "duration": 0.016302,
     "end_time": "2022-08-11T02:35:27.212856",
     "exception": false,
     "start_time": "2022-08-11T02:35:27.196554",
     "status": "completed"
    },
    "tags": []
   },
   "outputs": [],
   "source": [
    "mse =mean_squared_error(y_test,y_pred)"
   ]
  },
  {
   "cell_type": "code",
   "execution_count": 16,
   "id": "8027dfc7",
   "metadata": {
    "execution": {
     "iopub.execute_input": "2022-08-11T02:35:27.230593Z",
     "iopub.status.busy": "2022-08-11T02:35:27.230264Z",
     "iopub.status.idle": "2022-08-11T02:35:27.236502Z",
     "shell.execute_reply": "2022-08-11T02:35:27.235182Z"
    },
    "papermill": {
     "duration": 0.018134,
     "end_time": "2022-08-11T02:35:27.240567",
     "exception": false,
     "start_time": "2022-08-11T02:35:27.222433",
     "status": "completed"
    },
    "tags": []
   },
   "outputs": [
    {
     "name": "stdout",
     "output_type": "stream",
     "text": [
      "30310299.043402452\n"
     ]
    }
   ],
   "source": [
    "print(mse)"
   ]
  },
  {
   "cell_type": "code",
   "execution_count": 17,
   "id": "59d1ffd3",
   "metadata": {
    "execution": {
     "iopub.execute_input": "2022-08-11T02:35:27.255597Z",
     "iopub.status.busy": "2022-08-11T02:35:27.255263Z",
     "iopub.status.idle": "2022-08-11T02:35:27.263034Z",
     "shell.execute_reply": "2022-08-11T02:35:27.261618Z"
    },
    "papermill": {
     "duration": 0.018128,
     "end_time": "2022-08-11T02:35:27.265757",
     "exception": false,
     "start_time": "2022-08-11T02:35:27.247629",
     "status": "completed"
    },
    "tags": []
   },
   "outputs": [
    {
     "data": {
      "text/plain": [
       "25202.887786154883"
      ]
     },
     "execution_count": 17,
     "metadata": {},
     "output_type": "execute_result"
    }
   ],
   "source": [
    "lr.intercept_"
   ]
  },
  {
   "cell_type": "code",
   "execution_count": 18,
   "id": "5c0f4f31",
   "metadata": {
    "execution": {
     "iopub.execute_input": "2022-08-11T02:35:27.279658Z",
     "iopub.status.busy": "2022-08-11T02:35:27.279165Z",
     "iopub.status.idle": "2022-08-11T02:35:27.289017Z",
     "shell.execute_reply": "2022-08-11T02:35:27.287475Z"
    },
    "papermill": {
     "duration": 0.019872,
     "end_time": "2022-08-11T02:35:27.291812",
     "exception": false,
     "start_time": "2022-08-11T02:35:27.271940",
     "status": "completed"
    },
    "tags": []
   },
   "outputs": [
    {
     "data": {
      "text/plain": [
       "array([9731.20383825])"
      ]
     },
     "execution_count": 18,
     "metadata": {},
     "output_type": "execute_result"
    }
   ],
   "source": [
    "lr.coef_"
   ]
  },
  {
   "cell_type": "markdown",
   "id": "e6a93619",
   "metadata": {
    "papermill": {
     "duration": 0.006676,
     "end_time": "2022-08-11T02:35:27.305053",
     "exception": false,
     "start_time": "2022-08-11T02:35:27.298377",
     "status": "completed"
    },
    "tags": []
   },
   "source": []
  },
  {
   "cell_type": "markdown",
   "id": "e4d7cc45",
   "metadata": {
    "papermill": {
     "duration": 0.006412,
     "end_time": "2022-08-11T02:35:27.317989",
     "exception": false,
     "start_time": "2022-08-11T02:35:27.311577",
     "status": "completed"
    },
    "tags": []
   },
   "source": [
    "Y=9731.2X + 25202.88"
   ]
  },
  {
   "cell_type": "code",
   "execution_count": 19,
   "id": "ef734f2b",
   "metadata": {
    "execution": {
     "iopub.execute_input": "2022-08-11T02:35:27.332786Z",
     "iopub.status.busy": "2022-08-11T02:35:27.332449Z",
     "iopub.status.idle": "2022-08-11T02:35:27.338637Z",
     "shell.execute_reply": "2022-08-11T02:35:27.337257Z"
    },
    "papermill": {
     "duration": 0.016867,
     "end_time": "2022-08-11T02:35:27.341464",
     "exception": false,
     "start_time": "2022-08-11T02:35:27.324597",
     "status": "completed"
    },
    "tags": []
   },
   "outputs": [],
   "source": [
    "rsq=r2_score(y_test,y_pred)"
   ]
  },
  {
   "cell_type": "code",
   "execution_count": 20,
   "id": "8eadde2e",
   "metadata": {
    "execution": {
     "iopub.execute_input": "2022-08-11T02:35:27.355714Z",
     "iopub.status.busy": "2022-08-11T02:35:27.355373Z",
     "iopub.status.idle": "2022-08-11T02:35:27.362161Z",
     "shell.execute_reply": "2022-08-11T02:35:27.360707Z"
    },
    "papermill": {
     "duration": 0.01743,
     "end_time": "2022-08-11T02:35:27.365468",
     "exception": false,
     "start_time": "2022-08-11T02:35:27.348038",
     "status": "completed"
    },
    "tags": []
   },
   "outputs": [
    {
     "name": "stdout",
     "output_type": "stream",
     "text": [
      "0.9627668685473267\n"
     ]
    }
   ],
   "source": [
    "print(rsq)"
   ]
  }
 ],
 "metadata": {
  "kernelspec": {
   "display_name": "Python 3",
   "language": "python",
   "name": "python3"
  },
  "language_info": {
   "codemirror_mode": {
    "name": "ipython",
    "version": 3
   },
   "file_extension": ".py",
   "mimetype": "text/x-python",
   "name": "python",
   "nbconvert_exporter": "python",
   "pygments_lexer": "ipython3",
   "version": "3.7.12"
  },
  "papermill": {
   "default_parameters": {},
   "duration": 12.619415,
   "end_time": "2022-08-11T02:35:27.994224",
   "environment_variables": {},
   "exception": null,
   "input_path": "__notebook__.ipynb",
   "output_path": "__notebook__.ipynb",
   "parameters": {},
   "start_time": "2022-08-11T02:35:15.374809",
   "version": "2.3.4"
  }
 },
 "nbformat": 4,
 "nbformat_minor": 5
}
