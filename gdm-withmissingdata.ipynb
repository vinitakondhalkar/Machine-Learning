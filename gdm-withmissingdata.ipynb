{
 "cells": [
  {
   "cell_type": "code",
   "execution_count": 1,
   "metadata": {
    "_cell_guid": "b1076dfc-b9ad-4769-8c92-a6c4dae69d19",
    "_uuid": "8f2839f25d086af736a60e9eeb907d3b93b6e0e5",
    "execution": {
     "iopub.execute_input": "2022-02-04T14:11:16.453627Z",
     "iopub.status.busy": "2022-02-04T14:11:16.453068Z",
     "iopub.status.idle": "2022-02-04T14:11:16.465528Z",
     "shell.execute_reply": "2022-02-04T14:11:16.465093Z",
     "shell.execute_reply.started": "2022-02-04T13:56:05.319009Z"
    },
    "papermill": {
     "duration": 0.070779,
     "end_time": "2022-02-04T14:11:16.465625",
     "exception": false,
     "start_time": "2022-02-04T14:11:16.394846",
     "status": "completed"
    },
    "tags": []
   },
   "outputs": [
    {
     "name": "stdout",
     "output_type": "stream",
     "text": [
      "/kaggle/input/gdgdgdm/GDM.xlsx\n"
     ]
    }
   ],
   "source": [
    "# This Python 3 environment comes with many helpful analytics libraries installed\n",
    "# It is defined by the kaggle/python Docker image: https://github.com/kaggle/docker-python\n",
    "# For example, here's several helpful packages to load\n",
    "\n",
    "import numpy as np # linear algebra\n",
    "import pandas as pd # data processing, CSV file I/O (e.g. pd.read_csv)\n",
    "\n",
    "# Input data files are available in the read-only \"../input/\" directory\n",
    "# For example, running this (by clicking run or pressing Shift+Enter) will list all files under the input directory\n",
    "\n",
    "import os\n",
    "for dirname, _, filenames in os.walk('/kaggle/input'):\n",
    "    for filename in filenames:\n",
    "        print(os.path.join(dirname, filename))\n",
    "\n",
    "# You can write up to 20GB to the current directory (/kaggle/working/) that gets preserved as output when you create a version using \"Save & Run All\" \n",
    "# You can also write temporary files to /kaggle/temp/, but they won't be saved outside of the current session"
   ]
  },
  {
   "cell_type": "code",
   "execution_count": 2,
   "metadata": {
    "_cell_guid": "79c7e3d0-c299-4dcb-8224-4455121ee9b0",
    "_uuid": "d629ff2d2480ee46fbb7e2d37f6b5fab8052498a",
    "execution": {
     "iopub.execute_input": "2022-02-04T14:11:16.572311Z",
     "iopub.status.busy": "2022-02-04T14:11:16.571637Z",
     "iopub.status.idle": "2022-02-04T14:11:18.904612Z",
     "shell.execute_reply": "2022-02-04T14:11:18.903501Z",
     "shell.execute_reply.started": "2022-02-04T13:56:05.336684Z"
    },
    "papermill": {
     "duration": 2.386588,
     "end_time": "2022-02-04T14:11:18.904776",
     "exception": false,
     "start_time": "2022-02-04T14:11:16.518188",
     "status": "completed"
    },
    "tags": []
   },
   "outputs": [],
   "source": [
    "import pandas as pd\n",
    "import numpy as np\n",
    "df = pd.read_excel('../input/gdgdgdm/GDM.xlsx')\n"
   ]
  },
  {
   "cell_type": "code",
   "execution_count": 3,
   "metadata": {
    "execution": {
     "iopub.execute_input": "2022-02-04T14:11:19.015719Z",
     "iopub.status.busy": "2022-02-04T14:11:19.014777Z",
     "iopub.status.idle": "2022-02-04T14:11:19.033991Z",
     "shell.execute_reply": "2022-02-04T14:11:19.033444Z",
     "shell.execute_reply.started": "2022-02-04T13:56:07.852442Z"
    },
    "papermill": {
     "duration": 0.078354,
     "end_time": "2022-02-04T14:11:19.034095",
     "exception": false,
     "start_time": "2022-02-04T14:11:18.955741",
     "status": "completed"
    },
    "tags": []
   },
   "outputs": [],
   "source": [
    "conditions=[(df['1h glucose']>=7.5) | (df['OGTT 0h value']>=7.5) | (df['OGTT 1h value']>=7.5) | (df['OGTT 2h value']>=7.5),\n",
    "(df['1h glucose']<7.5) | (df['OGTT 0h value']<7.5) | (df['OGTT 1h value']<7.5) | (df['OGTT 2h value']<7.5),\n",
    "(df['1h glucose']=='') | (df['OGTT 0h value']=='') | (df['OGTT 1h value']=='') | (df['OGTT 2h value']=='')]"
   ]
  },
  {
   "cell_type": "code",
   "execution_count": 4,
   "metadata": {
    "execution": {
     "iopub.execute_input": "2022-02-04T14:11:19.139723Z",
     "iopub.status.busy": "2022-02-04T14:11:19.139165Z",
     "iopub.status.idle": "2022-02-04T14:11:19.143356Z",
     "shell.execute_reply": "2022-02-04T14:11:19.142950Z",
     "shell.execute_reply.started": "2022-02-04T13:56:07.881099Z"
    },
    "papermill": {
     "duration": 0.058408,
     "end_time": "2022-02-04T14:11:19.143448",
     "exception": false,
     "start_time": "2022-02-04T14:11:19.085040",
     "status": "completed"
    },
    "tags": []
   },
   "outputs": [],
   "source": [
    "    choices = ['1', '0',np.NaN]\n",
    "    df['GDM'] = np.select(conditions, choices, default=np.NaN)\n"
   ]
  },
  {
   "cell_type": "code",
   "execution_count": 5,
   "metadata": {
    "execution": {
     "iopub.execute_input": "2022-02-04T14:11:19.257764Z",
     "iopub.status.busy": "2022-02-04T14:11:19.257057Z",
     "iopub.status.idle": "2022-02-04T14:11:19.260471Z",
     "shell.execute_reply": "2022-02-04T14:11:19.260076Z",
     "shell.execute_reply.started": "2022-02-04T13:56:07.891770Z"
    },
    "papermill": {
     "duration": 0.066632,
     "end_time": "2022-02-04T14:11:19.260571",
     "exception": false,
     "start_time": "2022-02-04T14:11:19.193939",
     "status": "completed"
    },
    "tags": []
   },
   "outputs": [],
   "source": [
    "df.drop(df[df['GDM']=='nan'].index, inplace = True) "
   ]
  },
  {
   "cell_type": "code",
   "execution_count": 6,
   "metadata": {
    "execution": {
     "iopub.execute_input": "2022-02-04T14:11:19.366986Z",
     "iopub.status.busy": "2022-02-04T14:11:19.366187Z",
     "iopub.status.idle": "2022-02-04T14:11:19.369334Z",
     "shell.execute_reply": "2022-02-04T14:11:19.369855Z",
     "shell.execute_reply.started": "2022-02-04T13:56:07.910618Z"
    },
    "papermill": {
     "duration": 0.059153,
     "end_time": "2022-02-04T14:11:19.369960",
     "exception": false,
     "start_time": "2022-02-04T14:11:19.310807",
     "status": "completed"
    },
    "tags": []
   },
   "outputs": [
    {
     "data": {
      "text/plain": [
       "Index(['systolic BP (mmHg) V1', 'diastolic BP (mmHg) V1', 'Pulse (bpm) V1',\n",
       "       'Weight (kg) V1', 'Height (cm) V1', 'BMI (kg/m2) V1', 'HighRisk 10',\n",
       "       'Smoking 123', 'Alcohol Intake V1', 'White 10 V1', 'PreviousGDM10 V1',\n",
       "       'Meds 10 V1', 'Age >30 10', 'BMI (kg/m2) V1 2', 'Obese 10',\n",
       "       'Overweight 123', 'V1 HbA1c (mmol/mol)', 'WCC', 'V1 Hb', 'V1 Platelet',\n",
       "       'V1 Creatinine', 'V1 ALT', 'V1 CRP', 'V1 U protein', 'V1 U creatinine',\n",
       "       'V1 PCR', 'GCT OGTT high 10', '1h glucose', 'OGTT 0h value',\n",
       "       'OGTT 1h value', 'OGTT 2h value', 'GDM'],\n",
       "      dtype='object')"
      ]
     },
     "execution_count": 6,
     "metadata": {},
     "output_type": "execute_result"
    }
   ],
   "source": [
    "df.columns\n"
   ]
  },
  {
   "cell_type": "code",
   "execution_count": 7,
   "metadata": {
    "execution": {
     "iopub.execute_input": "2022-02-04T14:11:19.486551Z",
     "iopub.status.busy": "2022-02-04T14:11:19.485850Z",
     "iopub.status.idle": "2022-02-04T14:11:19.499039Z",
     "shell.execute_reply": "2022-02-04T14:11:19.498358Z",
     "shell.execute_reply.started": "2022-02-04T13:56:07.919460Z"
    },
    "papermill": {
     "duration": 0.078595,
     "end_time": "2022-02-04T14:11:19.499139",
     "exception": false,
     "start_time": "2022-02-04T14:11:19.420544",
     "status": "completed"
    },
    "tags": []
   },
   "outputs": [
    {
     "data": {
      "text/html": [
       "<div>\n",
       "<style scoped>\n",
       "    .dataframe tbody tr th:only-of-type {\n",
       "        vertical-align: middle;\n",
       "    }\n",
       "\n",
       "    .dataframe tbody tr th {\n",
       "        vertical-align: top;\n",
       "    }\n",
       "\n",
       "    .dataframe thead th {\n",
       "        text-align: right;\n",
       "    }\n",
       "</style>\n",
       "<table border=\"1\" class=\"dataframe\">\n",
       "  <thead>\n",
       "    <tr style=\"text-align: right;\">\n",
       "      <th></th>\n",
       "      <th>systolic BP (mmHg) V1</th>\n",
       "      <th>diastolic BP (mmHg) V1</th>\n",
       "      <th>Pulse (bpm) V1</th>\n",
       "      <th>Weight (kg) V1</th>\n",
       "      <th>Height (cm) V1</th>\n",
       "      <th>BMI (kg/m2) V1</th>\n",
       "      <th>HighRisk 10</th>\n",
       "      <th>Smoking 123</th>\n",
       "      <th>Alcohol Intake V1</th>\n",
       "      <th>White 10 V1</th>\n",
       "      <th>...</th>\n",
       "      <th>V1 CRP</th>\n",
       "      <th>V1 U protein</th>\n",
       "      <th>V1 U creatinine</th>\n",
       "      <th>V1 PCR</th>\n",
       "      <th>GCT OGTT high 10</th>\n",
       "      <th>1h glucose</th>\n",
       "      <th>OGTT 0h value</th>\n",
       "      <th>OGTT 1h value</th>\n",
       "      <th>OGTT 2h value</th>\n",
       "      <th>GDM</th>\n",
       "    </tr>\n",
       "  </thead>\n",
       "  <tbody>\n",
       "    <tr>\n",
       "      <th>0</th>\n",
       "      <td>114</td>\n",
       "      <td>58</td>\n",
       "      <td>73</td>\n",
       "      <td>59.4</td>\n",
       "      <td>169.6</td>\n",
       "      <td>20.650699</td>\n",
       "      <td>0</td>\n",
       "      <td>3</td>\n",
       "      <td>0</td>\n",
       "      <td>1</td>\n",
       "      <td>...</td>\n",
       "      <td>0.45</td>\n",
       "      <td>0.02</td>\n",
       "      <td>4.84</td>\n",
       "      <td>0.004132</td>\n",
       "      <td>0.0</td>\n",
       "      <td>NaN</td>\n",
       "      <td>4.1</td>\n",
       "      <td>7.39</td>\n",
       "      <td>3.70</td>\n",
       "      <td>0</td>\n",
       "    </tr>\n",
       "    <tr>\n",
       "      <th>1</th>\n",
       "      <td>178</td>\n",
       "      <td>78</td>\n",
       "      <td>84</td>\n",
       "      <td>70.1</td>\n",
       "      <td>154.9</td>\n",
       "      <td>29.215625</td>\n",
       "      <td>0</td>\n",
       "      <td>3</td>\n",
       "      <td>0</td>\n",
       "      <td>1</td>\n",
       "      <td>...</td>\n",
       "      <td>0.10</td>\n",
       "      <td>0.09</td>\n",
       "      <td>14.37</td>\n",
       "      <td>0.006263</td>\n",
       "      <td>1.0</td>\n",
       "      <td>9.66</td>\n",
       "      <td>NaN</td>\n",
       "      <td>NaN</td>\n",
       "      <td>NaN</td>\n",
       "      <td>1</td>\n",
       "    </tr>\n",
       "    <tr>\n",
       "      <th>2</th>\n",
       "      <td>123</td>\n",
       "      <td>62</td>\n",
       "      <td>79</td>\n",
       "      <td>64.9</td>\n",
       "      <td>157.8</td>\n",
       "      <td>26.063378</td>\n",
       "      <td>0</td>\n",
       "      <td>3</td>\n",
       "      <td>0</td>\n",
       "      <td>1</td>\n",
       "      <td>...</td>\n",
       "      <td>1.15</td>\n",
       "      <td>0.10</td>\n",
       "      <td>15.89</td>\n",
       "      <td>0.006293</td>\n",
       "      <td>0.0</td>\n",
       "      <td>5.34</td>\n",
       "      <td>NaN</td>\n",
       "      <td>NaN</td>\n",
       "      <td>NaN</td>\n",
       "      <td>0</td>\n",
       "    </tr>\n",
       "    <tr>\n",
       "      <th>3</th>\n",
       "      <td>115</td>\n",
       "      <td>68</td>\n",
       "      <td>82</td>\n",
       "      <td>67.1</td>\n",
       "      <td>164.7</td>\n",
       "      <td>24.736333</td>\n",
       "      <td>0</td>\n",
       "      <td>3</td>\n",
       "      <td>0</td>\n",
       "      <td>1</td>\n",
       "      <td>...</td>\n",
       "      <td>0.22</td>\n",
       "      <td>0.03</td>\n",
       "      <td>2.78</td>\n",
       "      <td>0.010791</td>\n",
       "      <td>0.0</td>\n",
       "      <td>NaN</td>\n",
       "      <td>4.5</td>\n",
       "      <td>5.84</td>\n",
       "      <td>6.66</td>\n",
       "      <td>0</td>\n",
       "    </tr>\n",
       "    <tr>\n",
       "      <th>4</th>\n",
       "      <td>116</td>\n",
       "      <td>61</td>\n",
       "      <td>92</td>\n",
       "      <td>67.5</td>\n",
       "      <td>169.9</td>\n",
       "      <td>23.383904</td>\n",
       "      <td>0</td>\n",
       "      <td>3</td>\n",
       "      <td>0</td>\n",
       "      <td>1</td>\n",
       "      <td>...</td>\n",
       "      <td>0.41</td>\n",
       "      <td>0.05</td>\n",
       "      <td>9.52</td>\n",
       "      <td>0.005252</td>\n",
       "      <td>0.0</td>\n",
       "      <td>NaN</td>\n",
       "      <td>4.6</td>\n",
       "      <td>4.43</td>\n",
       "      <td>3.97</td>\n",
       "      <td>0</td>\n",
       "    </tr>\n",
       "  </tbody>\n",
       "</table>\n",
       "<p>5 rows × 32 columns</p>\n",
       "</div>"
      ],
      "text/plain": [
       "   systolic BP (mmHg) V1  diastolic BP (mmHg) V1  Pulse (bpm) V1  \\\n",
       "0                    114                      58              73   \n",
       "1                    178                      78              84   \n",
       "2                    123                      62              79   \n",
       "3                    115                      68              82   \n",
       "4                    116                      61              92   \n",
       "\n",
       "   Weight (kg) V1  Height (cm) V1  BMI (kg/m2) V1  HighRisk 10  Smoking 123  \\\n",
       "0            59.4           169.6       20.650699            0            3   \n",
       "1            70.1           154.9       29.215625            0            3   \n",
       "2            64.9           157.8       26.063378            0            3   \n",
       "3            67.1           164.7       24.736333            0            3   \n",
       "4            67.5           169.9       23.383904            0            3   \n",
       "\n",
       "   Alcohol Intake V1  White 10 V1  ...  V1 CRP  V1 U protein  V1 U creatinine  \\\n",
       "0                  0            1  ...    0.45          0.02             4.84   \n",
       "1                  0            1  ...    0.10          0.09            14.37   \n",
       "2                  0            1  ...    1.15          0.10            15.89   \n",
       "3                  0            1  ...    0.22          0.03             2.78   \n",
       "4                  0            1  ...    0.41          0.05             9.52   \n",
       "\n",
       "     V1 PCR  GCT OGTT high 10  1h glucose  OGTT 0h value  OGTT 1h value  \\\n",
       "0  0.004132               0.0         NaN            4.1           7.39   \n",
       "1  0.006263               1.0        9.66            NaN            NaN   \n",
       "2  0.006293               0.0        5.34            NaN            NaN   \n",
       "3  0.010791               0.0         NaN            4.5           5.84   \n",
       "4  0.005252               0.0         NaN            4.6           4.43   \n",
       "\n",
       "   OGTT 2h value  GDM  \n",
       "0           3.70    0  \n",
       "1            NaN    1  \n",
       "2            NaN    0  \n",
       "3           6.66    0  \n",
       "4           3.97    0  \n",
       "\n",
       "[5 rows x 32 columns]"
      ]
     },
     "execution_count": 7,
     "metadata": {},
     "output_type": "execute_result"
    }
   ],
   "source": [
    "df.head()"
   ]
  },
  {
   "cell_type": "code",
   "execution_count": 8,
   "metadata": {
    "execution": {
     "iopub.execute_input": "2022-02-04T14:11:19.608370Z",
     "iopub.status.busy": "2022-02-04T14:11:19.607590Z",
     "iopub.status.idle": "2022-02-04T14:11:19.619288Z",
     "shell.execute_reply": "2022-02-04T14:11:19.619728Z",
     "shell.execute_reply.started": "2022-02-04T13:56:07.951658Z"
    },
    "papermill": {
     "duration": 0.068079,
     "end_time": "2022-02-04T14:11:19.619853",
     "exception": false,
     "start_time": "2022-02-04T14:11:19.551774",
     "status": "completed"
    },
    "tags": []
   },
   "outputs": [
    {
     "name": "stdout",
     "output_type": "stream",
     "text": [
      "<class 'pandas.core.frame.DataFrame'>\n",
      "Int64Index: 516 entries, 0 to 599\n",
      "Data columns (total 32 columns):\n",
      " #   Column                  Non-Null Count  Dtype  \n",
      "---  ------                  --------------  -----  \n",
      " 0   systolic BP (mmHg) V1   516 non-null    int64  \n",
      " 1   diastolic BP (mmHg) V1  516 non-null    int64  \n",
      " 2   Pulse (bpm) V1          516 non-null    int64  \n",
      " 3   Weight (kg) V1          516 non-null    float64\n",
      " 4   Height (cm) V1          516 non-null    float64\n",
      " 5   BMI (kg/m2) V1          516 non-null    float64\n",
      " 6   HighRisk 10             516 non-null    int64  \n",
      " 7   Smoking 123             516 non-null    int64  \n",
      " 8   Alcohol Intake V1       516 non-null    int64  \n",
      " 9   White 10 V1             516 non-null    int64  \n",
      " 10  PreviousGDM10 V1        516 non-null    int64  \n",
      " 11  Meds 10 V1              516 non-null    int64  \n",
      " 12  Age >30 10              516 non-null    int64  \n",
      " 13  BMI (kg/m2) V1 2        516 non-null    float64\n",
      " 14  Obese 10                516 non-null    int64  \n",
      " 15  Overweight 123          516 non-null    int64  \n",
      " 16  V1 HbA1c (mmol/mol)     514 non-null    float64\n",
      " 17  WCC                     515 non-null    float64\n",
      " 18  V1 Hb                   515 non-null    float64\n",
      " 19  V1 Platelet             515 non-null    float64\n",
      " 20  V1 Creatinine           513 non-null    float64\n",
      " 21  V1 ALT                  514 non-null    float64\n",
      " 22  V1 CRP                  515 non-null    float64\n",
      " 23  V1 U protein            513 non-null    float64\n",
      " 24  V1 U creatinine         513 non-null    float64\n",
      " 25  V1 PCR                  513 non-null    float64\n",
      " 26  GCT OGTT high 10        516 non-null    float64\n",
      " 27  1h glucose              273 non-null    float64\n",
      " 28  OGTT 0h value           243 non-null    float64\n",
      " 29  OGTT 1h value           241 non-null    float64\n",
      " 30  OGTT 2h value           240 non-null    float64\n",
      " 31  GDM                     516 non-null    object \n",
      "dtypes: float64(19), int64(12), object(1)\n",
      "memory usage: 133.0+ KB\n"
     ]
    }
   ],
   "source": [
    "df.info()"
   ]
  },
  {
   "cell_type": "code",
   "execution_count": 9,
   "metadata": {
    "execution": {
     "iopub.execute_input": "2022-02-04T14:11:19.728908Z",
     "iopub.status.busy": "2022-02-04T14:11:19.728267Z",
     "iopub.status.idle": "2022-02-04T14:11:19.730811Z",
     "shell.execute_reply": "2022-02-04T14:11:19.731189Z",
     "shell.execute_reply.started": "2022-02-04T13:56:07.969177Z"
    },
    "papermill": {
     "duration": 0.059439,
     "end_time": "2022-02-04T14:11:19.731290",
     "exception": false,
     "start_time": "2022-02-04T14:11:19.671851",
     "status": "completed"
    },
    "tags": []
   },
   "outputs": [],
   "source": [
    "df1=df.dropna()"
   ]
  },
  {
   "cell_type": "code",
   "execution_count": 10,
   "metadata": {
    "execution": {
     "iopub.execute_input": "2022-02-04T14:11:19.846388Z",
     "iopub.status.busy": "2022-02-04T14:11:19.845489Z",
     "iopub.status.idle": "2022-02-04T14:11:19.849345Z",
     "shell.execute_reply": "2022-02-04T14:11:19.848935Z",
     "shell.execute_reply.started": "2022-02-04T13:56:07.977474Z"
    },
    "papermill": {
     "duration": 0.066906,
     "end_time": "2022-02-04T14:11:19.849432",
     "exception": false,
     "start_time": "2022-02-04T14:11:19.782526",
     "status": "completed"
    },
    "tags": []
   },
   "outputs": [
    {
     "data": {
      "text/html": [
       "<div>\n",
       "<style scoped>\n",
       "    .dataframe tbody tr th:only-of-type {\n",
       "        vertical-align: middle;\n",
       "    }\n",
       "\n",
       "    .dataframe tbody tr th {\n",
       "        vertical-align: top;\n",
       "    }\n",
       "\n",
       "    .dataframe thead th {\n",
       "        text-align: right;\n",
       "    }\n",
       "</style>\n",
       "<table border=\"1\" class=\"dataframe\">\n",
       "  <thead>\n",
       "    <tr style=\"text-align: right;\">\n",
       "      <th></th>\n",
       "      <th>systolic BP (mmHg) V1</th>\n",
       "      <th>diastolic BP (mmHg) V1</th>\n",
       "      <th>Pulse (bpm) V1</th>\n",
       "      <th>Weight (kg) V1</th>\n",
       "      <th>Height (cm) V1</th>\n",
       "      <th>BMI (kg/m2) V1</th>\n",
       "      <th>HighRisk 10</th>\n",
       "      <th>Smoking 123</th>\n",
       "      <th>Alcohol Intake V1</th>\n",
       "      <th>White 10 V1</th>\n",
       "      <th>...</th>\n",
       "      <th>V1 CRP</th>\n",
       "      <th>V1 U protein</th>\n",
       "      <th>V1 U creatinine</th>\n",
       "      <th>V1 PCR</th>\n",
       "      <th>GCT OGTT high 10</th>\n",
       "      <th>1h glucose</th>\n",
       "      <th>OGTT 0h value</th>\n",
       "      <th>OGTT 1h value</th>\n",
       "      <th>OGTT 2h value</th>\n",
       "      <th>GDM</th>\n",
       "    </tr>\n",
       "  </thead>\n",
       "  <tbody>\n",
       "  </tbody>\n",
       "</table>\n",
       "<p>0 rows × 32 columns</p>\n",
       "</div>"
      ],
      "text/plain": [
       "Empty DataFrame\n",
       "Columns: [systolic BP (mmHg) V1, diastolic BP (mmHg) V1, Pulse (bpm) V1, Weight (kg) V1, Height (cm) V1, BMI (kg/m2) V1, HighRisk 10, Smoking 123, Alcohol Intake V1, White 10 V1, PreviousGDM10 V1, Meds 10 V1, Age >30 10, BMI (kg/m2) V1 2, Obese 10, Overweight 123, V1 HbA1c (mmol/mol), WCC, V1 Hb, V1 Platelet, V1 Creatinine, V1 ALT, V1 CRP, V1 U protein, V1 U creatinine, V1 PCR, GCT OGTT high 10, 1h glucose, OGTT 0h value, OGTT 1h value, OGTT 2h value, GDM]\n",
       "Index: []\n",
       "\n",
       "[0 rows x 32 columns]"
      ]
     },
     "execution_count": 10,
     "metadata": {},
     "output_type": "execute_result"
    }
   ],
   "source": [
    "df1.head()"
   ]
  },
  {
   "cell_type": "code",
   "execution_count": 11,
   "metadata": {
    "execution": {
     "iopub.execute_input": "2022-02-04T14:11:19.964034Z",
     "iopub.status.busy": "2022-02-04T14:11:19.963334Z",
     "iopub.status.idle": "2022-02-04T14:11:19.967567Z",
     "shell.execute_reply": "2022-02-04T14:11:19.967954Z",
     "shell.execute_reply.started": "2022-02-04T13:56:07.996420Z"
    },
    "papermill": {
     "duration": 0.066469,
     "end_time": "2022-02-04T14:11:19.968077",
     "exception": false,
     "start_time": "2022-02-04T14:11:19.901608",
     "status": "completed"
    },
    "tags": []
   },
   "outputs": [
    {
     "name": "stdout",
     "output_type": "stream",
     "text": [
      "<class 'pandas.core.frame.DataFrame'>\n",
      "Int64Index: 0 entries\n",
      "Data columns (total 32 columns):\n",
      " #   Column                  Non-Null Count  Dtype  \n",
      "---  ------                  --------------  -----  \n",
      " 0   systolic BP (mmHg) V1   0 non-null      int64  \n",
      " 1   diastolic BP (mmHg) V1  0 non-null      int64  \n",
      " 2   Pulse (bpm) V1          0 non-null      int64  \n",
      " 3   Weight (kg) V1          0 non-null      float64\n",
      " 4   Height (cm) V1          0 non-null      float64\n",
      " 5   BMI (kg/m2) V1          0 non-null      float64\n",
      " 6   HighRisk 10             0 non-null      int64  \n",
      " 7   Smoking 123             0 non-null      int64  \n",
      " 8   Alcohol Intake V1       0 non-null      int64  \n",
      " 9   White 10 V1             0 non-null      int64  \n",
      " 10  PreviousGDM10 V1        0 non-null      int64  \n",
      " 11  Meds 10 V1              0 non-null      int64  \n",
      " 12  Age >30 10              0 non-null      int64  \n",
      " 13  BMI (kg/m2) V1 2        0 non-null      float64\n",
      " 14  Obese 10                0 non-null      int64  \n",
      " 15  Overweight 123          0 non-null      int64  \n",
      " 16  V1 HbA1c (mmol/mol)     0 non-null      float64\n",
      " 17  WCC                     0 non-null      float64\n",
      " 18  V1 Hb                   0 non-null      float64\n",
      " 19  V1 Platelet             0 non-null      float64\n",
      " 20  V1 Creatinine           0 non-null      float64\n",
      " 21  V1 ALT                  0 non-null      float64\n",
      " 22  V1 CRP                  0 non-null      float64\n",
      " 23  V1 U protein            0 non-null      float64\n",
      " 24  V1 U creatinine         0 non-null      float64\n",
      " 25  V1 PCR                  0 non-null      float64\n",
      " 26  GCT OGTT high 10        0 non-null      float64\n",
      " 27  1h glucose              0 non-null      float64\n",
      " 28  OGTT 0h value           0 non-null      float64\n",
      " 29  OGTT 1h value           0 non-null      float64\n",
      " 30  OGTT 2h value           0 non-null      float64\n",
      " 31  GDM                     0 non-null      object \n",
      "dtypes: float64(19), int64(12), object(1)\n",
      "memory usage: 0.0+ bytes\n"
     ]
    }
   ],
   "source": [
    "df1.info()"
   ]
  },
  {
   "cell_type": "code",
   "execution_count": 12,
   "metadata": {
    "execution": {
     "iopub.execute_input": "2022-02-04T14:11:20.094445Z",
     "iopub.status.busy": "2022-02-04T14:11:20.093577Z",
     "iopub.status.idle": "2022-02-04T14:11:20.104060Z",
     "shell.execute_reply": "2022-02-04T14:11:20.105084Z",
     "shell.execute_reply.started": "2022-02-04T13:56:08.011881Z"
    },
    "papermill": {
     "duration": 0.084167,
     "end_time": "2022-02-04T14:11:20.105247",
     "exception": false,
     "start_time": "2022-02-04T14:11:20.021080",
     "status": "completed"
    },
    "tags": []
   },
   "outputs": [
    {
     "data": {
      "text/plain": [
       "systolic BP (mmHg) V1       0\n",
       "diastolic BP (mmHg) V1      0\n",
       "Pulse (bpm) V1              0\n",
       "Weight (kg) V1              0\n",
       "Height (cm) V1              0\n",
       "BMI (kg/m2) V1              0\n",
       "HighRisk 10                 0\n",
       "Smoking 123                 0\n",
       "Alcohol Intake V1           0\n",
       "White 10 V1                 0\n",
       "PreviousGDM10 V1            0\n",
       "Meds 10 V1                  0\n",
       "Age >30 10                  0\n",
       "BMI (kg/m2) V1 2            0\n",
       "Obese 10                    0\n",
       "Overweight 123              0\n",
       "V1 HbA1c (mmol/mol)         2\n",
       "WCC                         1\n",
       "V1 Hb                       1\n",
       "V1 Platelet                 1\n",
       "V1 Creatinine               3\n",
       "V1 ALT                      2\n",
       "V1 CRP                      1\n",
       "V1 U protein                3\n",
       "V1 U creatinine             3\n",
       "V1 PCR                      3\n",
       "GCT OGTT high 10            0\n",
       "1h glucose                243\n",
       "OGTT 0h value             273\n",
       "OGTT 1h value             275\n",
       "OGTT 2h value             276\n",
       "GDM                         0\n",
       "dtype: int64"
      ]
     },
     "execution_count": 12,
     "metadata": {},
     "output_type": "execute_result"
    }
   ],
   "source": [
    "df.isnull().sum()"
   ]
  },
  {
   "cell_type": "code",
   "execution_count": 13,
   "metadata": {
    "execution": {
     "iopub.execute_input": "2022-02-04T14:11:20.227401Z",
     "iopub.status.busy": "2022-02-04T14:11:20.226680Z",
     "iopub.status.idle": "2022-02-04T14:11:20.230070Z",
     "shell.execute_reply": "2022-02-04T14:11:20.229536Z",
     "shell.execute_reply.started": "2022-02-04T13:56:08.022999Z"
    },
    "papermill": {
     "duration": 0.059034,
     "end_time": "2022-02-04T14:11:20.230158",
     "exception": false,
     "start_time": "2022-02-04T14:11:20.171124",
     "status": "completed"
    },
    "tags": []
   },
   "outputs": [],
   "source": [
    "df2=df.fillna(0)"
   ]
  },
  {
   "cell_type": "code",
   "execution_count": 14,
   "metadata": {
    "execution": {
     "iopub.execute_input": "2022-02-04T14:11:20.377117Z",
     "iopub.status.busy": "2022-02-04T14:11:20.376355Z",
     "iopub.status.idle": "2022-02-04T14:11:20.379210Z",
     "shell.execute_reply": "2022-02-04T14:11:20.378661Z",
     "shell.execute_reply.started": "2022-02-04T13:56:08.031262Z"
    },
    "papermill": {
     "duration": 0.072854,
     "end_time": "2022-02-04T14:11:20.379301",
     "exception": false,
     "start_time": "2022-02-04T14:11:20.306447",
     "status": "completed"
    },
    "tags": []
   },
   "outputs": [],
   "source": [
    "ALTmean=df['V1 ALT'].mean()"
   ]
  },
  {
   "cell_type": "code",
   "execution_count": 15,
   "metadata": {
    "execution": {
     "iopub.execute_input": "2022-02-04T14:11:20.517393Z",
     "iopub.status.busy": "2022-02-04T14:11:20.516478Z",
     "iopub.status.idle": "2022-02-04T14:11:20.520278Z",
     "shell.execute_reply": "2022-02-04T14:11:20.520830Z"
    },
    "papermill": {
     "duration": 0.089049,
     "end_time": "2022-02-04T14:11:20.520953",
     "exception": false,
     "start_time": "2022-02-04T14:11:20.431904",
     "status": "completed"
    },
    "tags": []
   },
   "outputs": [],
   "source": [
    "df4=df.fillna({'V1 U creatinine': 0,\n",
    "              'V1 ALT':ALTmean})"
   ]
  },
  {
   "cell_type": "code",
   "execution_count": 16,
   "metadata": {
    "execution": {
     "iopub.execute_input": "2022-02-04T14:11:20.631151Z",
     "iopub.status.busy": "2022-02-04T14:11:20.630357Z",
     "iopub.status.idle": "2022-02-04T14:11:20.642137Z",
     "shell.execute_reply": "2022-02-04T14:11:20.641019Z",
     "shell.execute_reply.started": "2022-02-04T13:58:19.369086Z"
    },
    "papermill": {
     "duration": 0.068662,
     "end_time": "2022-02-04T14:11:20.642280",
     "exception": false,
     "start_time": "2022-02-04T14:11:20.573618",
     "status": "completed"
    },
    "tags": []
   },
   "outputs": [
    {
     "name": "stdout",
     "output_type": "stream",
     "text": [
      "<class 'pandas.core.frame.DataFrame'>\n",
      "Int64Index: 516 entries, 0 to 599\n",
      "Data columns (total 32 columns):\n",
      " #   Column                  Non-Null Count  Dtype  \n",
      "---  ------                  --------------  -----  \n",
      " 0   systolic BP (mmHg) V1   516 non-null    int64  \n",
      " 1   diastolic BP (mmHg) V1  516 non-null    int64  \n",
      " 2   Pulse (bpm) V1          516 non-null    int64  \n",
      " 3   Weight (kg) V1          516 non-null    float64\n",
      " 4   Height (cm) V1          516 non-null    float64\n",
      " 5   BMI (kg/m2) V1          516 non-null    float64\n",
      " 6   HighRisk 10             516 non-null    int64  \n",
      " 7   Smoking 123             516 non-null    int64  \n",
      " 8   Alcohol Intake V1       516 non-null    int64  \n",
      " 9   White 10 V1             516 non-null    int64  \n",
      " 10  PreviousGDM10 V1        516 non-null    int64  \n",
      " 11  Meds 10 V1              516 non-null    int64  \n",
      " 12  Age >30 10              516 non-null    int64  \n",
      " 13  BMI (kg/m2) V1 2        516 non-null    float64\n",
      " 14  Obese 10                516 non-null    int64  \n",
      " 15  Overweight 123          516 non-null    int64  \n",
      " 16  V1 HbA1c (mmol/mol)     514 non-null    float64\n",
      " 17  WCC                     515 non-null    float64\n",
      " 18  V1 Hb                   515 non-null    float64\n",
      " 19  V1 Platelet             515 non-null    float64\n",
      " 20  V1 Creatinine           513 non-null    float64\n",
      " 21  V1 ALT                  516 non-null    float64\n",
      " 22  V1 CRP                  515 non-null    float64\n",
      " 23  V1 U protein            513 non-null    float64\n",
      " 24  V1 U creatinine         516 non-null    float64\n",
      " 25  V1 PCR                  513 non-null    float64\n",
      " 26  GCT OGTT high 10        516 non-null    float64\n",
      " 27  1h glucose              273 non-null    float64\n",
      " 28  OGTT 0h value           243 non-null    float64\n",
      " 29  OGTT 1h value           241 non-null    float64\n",
      " 30  OGTT 2h value           240 non-null    float64\n",
      " 31  GDM                     516 non-null    object \n",
      "dtypes: float64(19), int64(12), object(1)\n",
      "memory usage: 133.0+ KB\n"
     ]
    }
   ],
   "source": [
    "df4.info()"
   ]
  },
  {
   "cell_type": "code",
   "execution_count": 17,
   "metadata": {
    "execution": {
     "iopub.execute_input": "2022-02-04T14:11:20.832464Z",
     "iopub.status.busy": "2022-02-04T14:11:20.831634Z",
     "iopub.status.idle": "2022-02-04T14:11:20.842926Z",
     "shell.execute_reply": "2022-02-04T14:11:20.843420Z",
     "shell.execute_reply.started": "2022-02-04T13:56:08.047742Z"
    },
    "papermill": {
     "duration": 0.105612,
     "end_time": "2022-02-04T14:11:20.843532",
     "exception": false,
     "start_time": "2022-02-04T14:11:20.737920",
     "status": "completed"
    },
    "tags": []
   },
   "outputs": [
    {
     "name": "stdout",
     "output_type": "stream",
     "text": [
      "<class 'pandas.core.frame.DataFrame'>\n",
      "Int64Index: 516 entries, 0 to 599\n",
      "Data columns (total 32 columns):\n",
      " #   Column                  Non-Null Count  Dtype  \n",
      "---  ------                  --------------  -----  \n",
      " 0   systolic BP (mmHg) V1   516 non-null    int64  \n",
      " 1   diastolic BP (mmHg) V1  516 non-null    int64  \n",
      " 2   Pulse (bpm) V1          516 non-null    int64  \n",
      " 3   Weight (kg) V1          516 non-null    float64\n",
      " 4   Height (cm) V1          516 non-null    float64\n",
      " 5   BMI (kg/m2) V1          516 non-null    float64\n",
      " 6   HighRisk 10             516 non-null    int64  \n",
      " 7   Smoking 123             516 non-null    int64  \n",
      " 8   Alcohol Intake V1       516 non-null    int64  \n",
      " 9   White 10 V1             516 non-null    int64  \n",
      " 10  PreviousGDM10 V1        516 non-null    int64  \n",
      " 11  Meds 10 V1              516 non-null    int64  \n",
      " 12  Age >30 10              516 non-null    int64  \n",
      " 13  BMI (kg/m2) V1 2        516 non-null    float64\n",
      " 14  Obese 10                516 non-null    int64  \n",
      " 15  Overweight 123          516 non-null    int64  \n",
      " 16  V1 HbA1c (mmol/mol)     516 non-null    float64\n",
      " 17  WCC                     516 non-null    float64\n",
      " 18  V1 Hb                   516 non-null    float64\n",
      " 19  V1 Platelet             516 non-null    float64\n",
      " 20  V1 Creatinine           516 non-null    float64\n",
      " 21  V1 ALT                  516 non-null    float64\n",
      " 22  V1 CRP                  516 non-null    float64\n",
      " 23  V1 U protein            516 non-null    float64\n",
      " 24  V1 U creatinine         516 non-null    float64\n",
      " 25  V1 PCR                  516 non-null    float64\n",
      " 26  GCT OGTT high 10        516 non-null    float64\n",
      " 27  1h glucose              516 non-null    float64\n",
      " 28  OGTT 0h value           516 non-null    float64\n",
      " 29  OGTT 1h value           516 non-null    float64\n",
      " 30  OGTT 2h value           516 non-null    float64\n",
      " 31  GDM                     516 non-null    object \n",
      "dtypes: float64(19), int64(12), object(1)\n",
      "memory usage: 133.0+ KB\n"
     ]
    }
   ],
   "source": [
    "df2.info()"
   ]
  },
  {
   "cell_type": "markdown",
   "metadata": {
    "papermill": {
     "duration": 0.090626,
     "end_time": "2022-02-04T14:11:21.017214",
     "exception": false,
     "start_time": "2022-02-04T14:11:20.926588",
     "status": "completed"
    },
    "tags": []
   },
   "source": [
    "* 17  WCC                     515 non-null    float64\n",
    "*  18  V1 Hb                   515 non-null    float64\n",
    "*  19  V1 Platelet             515 non-null    float64\n",
    "*  20  V1 Creatinine           513 non-null    float64\n",
    "*  21  V1 ALT                  514 non-null    float64\n",
    "*  22  V1 CRP                  515 non-null    float64\n",
    "*  23  V1 U protein            513 non-null    float64\n",
    "*  24  V1 U creatinine         513 non-null    float64\n",
    "*  25  V1 PCR                  513 non-null    float64\n",
    "*  27  1h glucose              273 non-null    float64\n",
    "*  28  OGTT 0h value           243 non-null    float64\n",
    "*  29  OGTT 1h value           241 non-null    float64\n",
    "*  30  OGTT 2h value "
   ]
  },
  {
   "cell_type": "code",
   "execution_count": 18,
   "metadata": {
    "execution": {
     "iopub.execute_input": "2022-02-04T14:11:21.188306Z",
     "iopub.status.busy": "2022-02-04T14:11:21.187466Z",
     "iopub.status.idle": "2022-02-04T14:11:21.201058Z",
     "shell.execute_reply": "2022-02-04T14:11:21.200327Z",
     "shell.execute_reply.started": "2022-02-04T13:56:08.063482Z"
    },
    "papermill": {
     "duration": 0.100202,
     "end_time": "2022-02-04T14:11:21.201208",
     "exception": false,
     "start_time": "2022-02-04T14:11:21.101006",
     "status": "completed"
    },
    "tags": []
   },
   "outputs": [
    {
     "data": {
      "text/plain": [
       "6.153846153846155"
      ]
     },
     "execution_count": 18,
     "metadata": {},
     "output_type": "execute_result"
    }
   ],
   "source": [
    "Meangl=df['1h glucose'].mean()\n",
    "Meangl"
   ]
  },
  {
   "cell_type": "code",
   "execution_count": 19,
   "metadata": {
    "execution": {
     "iopub.execute_input": "2022-02-04T14:11:21.396043Z",
     "iopub.status.busy": "2022-02-04T14:11:21.394624Z",
     "iopub.status.idle": "2022-02-04T14:11:21.396782Z",
     "shell.execute_reply": "2022-02-04T14:11:21.395305Z",
     "shell.execute_reply.started": "2022-02-04T13:56:08.071694Z"
    },
    "papermill": {
     "duration": 0.102414,
     "end_time": "2022-02-04T14:11:21.396904",
     "exception": false,
     "start_time": "2022-02-04T14:11:21.294490",
     "status": "completed"
    },
    "tags": []
   },
   "outputs": [],
   "source": [
    "df3=df['1h glucose'].fillna(Meangl)"
   ]
  },
  {
   "cell_type": "code",
   "execution_count": 20,
   "metadata": {
    "execution": {
     "iopub.execute_input": "2022-02-04T14:11:21.595517Z",
     "iopub.status.busy": "2022-02-04T14:11:21.594624Z",
     "iopub.status.idle": "2022-02-04T14:11:21.599801Z",
     "shell.execute_reply": "2022-02-04T14:11:21.600483Z",
     "shell.execute_reply.started": "2022-02-04T13:56:08.078588Z"
    },
    "papermill": {
     "duration": 0.111254,
     "end_time": "2022-02-04T14:11:21.600652",
     "exception": false,
     "start_time": "2022-02-04T14:11:21.489398",
     "status": "completed"
    },
    "tags": []
   },
   "outputs": [
    {
     "data": {
      "text/plain": [
       "0      6.153846\n",
       "1      9.660000\n",
       "2      5.340000\n",
       "3      6.153846\n",
       "4      6.153846\n",
       "         ...   \n",
       "595    6.153846\n",
       "596    6.153846\n",
       "597    4.230000\n",
       "598    8.100000\n",
       "599    6.153846\n",
       "Name: 1h glucose, Length: 516, dtype: float64"
      ]
     },
     "execution_count": 20,
     "metadata": {},
     "output_type": "execute_result"
    }
   ],
   "source": [
    "df3"
   ]
  },
  {
   "cell_type": "code",
   "execution_count": 21,
   "metadata": {
    "execution": {
     "iopub.execute_input": "2022-02-04T14:11:21.799985Z",
     "iopub.status.busy": "2022-02-04T14:11:21.798575Z",
     "iopub.status.idle": "2022-02-04T14:11:23.742977Z",
     "shell.execute_reply": "2022-02-04T14:11:23.743436Z",
     "shell.execute_reply.started": "2022-02-04T13:56:08.089701Z"
    },
    "papermill": {
     "duration": 2.042401,
     "end_time": "2022-02-04T14:11:23.743579",
     "exception": false,
     "start_time": "2022-02-04T14:11:21.701178",
     "status": "completed"
    },
    "tags": []
   },
   "outputs": [
    {
     "data": {
      "text/plain": [
       "<matplotlib.axes._subplots.AxesSubplot at 0x7f8c6c5c5e50>"
      ]
     },
     "execution_count": 21,
     "metadata": {},
     "output_type": "execute_result"
    },
    {
     "data": {
      "image/png": "[encoded data removed]",
      "text/plain": [
       "<Figure size 432x288 with 1 Axes>"
      ]
     },
     "metadata": {
      "needs_background": "light"
     },
     "output_type": "display_data"
    }
   ],
   "source": [
    "df['1h glucose'].value_counts().plot.bar()"
   ]
  },
  {
   "cell_type": "code",
   "execution_count": 22,
   "metadata": {
    "execution": {
     "iopub.execute_input": "2022-02-04T14:11:23.885636Z",
     "iopub.status.busy": "2022-02-04T14:11:23.884268Z",
     "iopub.status.idle": "2022-02-04T14:11:25.453398Z",
     "shell.execute_reply": "2022-02-04T14:11:25.452955Z",
     "shell.execute_reply.started": "2022-02-04T13:56:09.950137Z"
    },
    "papermill": {
     "duration": 1.645723,
     "end_time": "2022-02-04T14:11:25.453503",
     "exception": false,
     "start_time": "2022-02-04T14:11:23.807780",
     "status": "completed"
    },
    "tags": []
   },
   "outputs": [
    {
     "data": {
      "text/plain": [
       "<matplotlib.axes._subplots.AxesSubplot at 0x7f8c676df550>"
      ]
     },
     "execution_count": 22,
     "metadata": {},
     "output_type": "execute_result"
    },
    {
     "data": {
      "image/png": "[encoded data removed]",
      "text/plain": [
       "<Figure size 432x288 with 1 Axes>"
      ]
     },
     "metadata": {
      "needs_background": "light"
     },
     "output_type": "display_data"
    }
   ],
   "source": [
    "df3.value_counts().plot.bar()"
   ]
  },
  {
   "cell_type": "code",
   "execution_count": 23,
   "metadata": {
    "execution": {
     "iopub.execute_input": "2022-02-04T14:11:25.573862Z",
     "iopub.status.busy": "2022-02-04T14:11:25.573296Z",
     "iopub.status.idle": "2022-02-04T14:11:25.577254Z",
     "shell.execute_reply": "2022-02-04T14:11:25.576837Z",
     "shell.execute_reply.started": "2022-02-04T14:03:28.689842Z"
    },
    "papermill": {
     "duration": 0.065596,
     "end_time": "2022-02-04T14:11:25.577348",
     "exception": false,
     "start_time": "2022-02-04T14:11:25.511752",
     "status": "completed"
    },
    "tags": []
   },
   "outputs": [],
   "source": [
    "df5=df['1h glucose'].fillna(method=\"ffill\")"
   ]
  },
  {
   "cell_type": "code",
   "execution_count": 24,
   "metadata": {
    "execution": {
     "iopub.execute_input": "2022-02-04T14:11:25.696051Z",
     "iopub.status.busy": "2022-02-04T14:11:25.695274Z",
     "iopub.status.idle": "2022-02-04T14:11:25.698382Z",
     "shell.execute_reply": "2022-02-04T14:11:25.698801Z",
     "shell.execute_reply.started": "2022-02-04T14:10:19.801694Z"
    },
    "papermill": {
     "duration": 0.065306,
     "end_time": "2022-02-04T14:11:25.698910",
     "exception": false,
     "start_time": "2022-02-04T14:11:25.633604",
     "status": "completed"
    },
    "tags": []
   },
   "outputs": [
    {
     "data": {
      "text/plain": [
       "0      NaN\n",
       "1     9.66\n",
       "2     5.34\n",
       "3      NaN\n",
       "4      NaN\n",
       "5      NaN\n",
       "6     7.15\n",
       "7     7.92\n",
       "9      NaN\n",
       "10     NaN\n",
       "Name: 1h glucose, dtype: float64"
      ]
     },
     "execution_count": 24,
     "metadata": {},
     "output_type": "execute_result"
    }
   ],
   "source": [
    "df['1h glucose'].head(10)"
   ]
  },
  {
   "cell_type": "code",
   "execution_count": 25,
   "metadata": {
    "execution": {
     "iopub.execute_input": "2022-02-04T14:11:25.817498Z",
     "iopub.status.busy": "2022-02-04T14:11:25.816753Z",
     "iopub.status.idle": "2022-02-04T14:11:25.820453Z",
     "shell.execute_reply": "2022-02-04T14:11:25.820029Z",
     "shell.execute_reply.started": "2022-02-04T14:10:42.190890Z"
    },
    "papermill": {
     "duration": 0.065174,
     "end_time": "2022-02-04T14:11:25.820548",
     "exception": false,
     "start_time": "2022-02-04T14:11:25.755374",
     "status": "completed"
    },
    "tags": []
   },
   "outputs": [
    {
     "data": {
      "text/plain": [
       "0      NaN\n",
       "1     9.66\n",
       "2     5.34\n",
       "3     5.34\n",
       "4     5.34\n",
       "5     5.34\n",
       "6     7.15\n",
       "7     7.92\n",
       "9     7.92\n",
       "10    7.92\n",
       "Name: 1h glucose, dtype: float64"
      ]
     },
     "execution_count": 25,
     "metadata": {},
     "output_type": "execute_result"
    }
   ],
   "source": [
    "df5.head(10)"
   ]
  },
  {
   "cell_type": "code",
   "execution_count": 26,
   "metadata": {
    "execution": {
     "iopub.execute_input": "2022-02-04T14:11:25.938589Z",
     "iopub.status.busy": "2022-02-04T14:11:25.938040Z",
     "iopub.status.idle": "2022-02-04T14:11:25.940976Z",
     "shell.execute_reply": "2022-02-04T14:11:25.940537Z",
     "shell.execute_reply.started": "2022-02-04T14:06:42.040333Z"
    },
    "papermill": {
     "duration": 0.064168,
     "end_time": "2022-02-04T14:11:25.941076",
     "exception": false,
     "start_time": "2022-02-04T14:11:25.876908",
     "status": "completed"
    },
    "tags": []
   },
   "outputs": [],
   "source": [
    "df6=df['1h glucose'].fillna(method=\"bfill\")"
   ]
  },
  {
   "cell_type": "code",
   "execution_count": 27,
   "metadata": {
    "execution": {
     "iopub.execute_input": "2022-02-04T14:11:26.061707Z",
     "iopub.status.busy": "2022-02-04T14:11:26.061088Z",
     "iopub.status.idle": "2022-02-04T14:11:26.066509Z",
     "shell.execute_reply": "2022-02-04T14:11:26.066058Z",
     "shell.execute_reply.started": "2022-02-04T14:07:50.771176Z"
    },
    "papermill": {
     "duration": 0.069099,
     "end_time": "2022-02-04T14:11:26.066607",
     "exception": false,
     "start_time": "2022-02-04T14:11:25.997508",
     "status": "completed"
    },
    "tags": []
   },
   "outputs": [
    {
     "data": {
      "text/plain": [
       "0      NaN\n",
       "1     9.66\n",
       "2     5.34\n",
       "3      NaN\n",
       "4      NaN\n",
       "5      NaN\n",
       "6     7.15\n",
       "7     7.92\n",
       "9      NaN\n",
       "10     NaN\n",
       "Name: 1h glucose, dtype: float64"
      ]
     },
     "execution_count": 27,
     "metadata": {},
     "output_type": "execute_result"
    }
   ],
   "source": [
    "df['1h glucose'].head(10)"
   ]
  },
  {
   "cell_type": "code",
   "execution_count": 28,
   "metadata": {
    "execution": {
     "iopub.execute_input": "2022-02-04T14:11:26.196186Z",
     "iopub.status.busy": "2022-02-04T14:11:26.195366Z",
     "iopub.status.idle": "2022-02-04T14:11:26.200452Z",
     "shell.execute_reply": "2022-02-04T14:11:26.199985Z",
     "shell.execute_reply.started": "2022-02-04T14:08:04.621308Z"
    },
    "papermill": {
     "duration": 0.070192,
     "end_time": "2022-02-04T14:11:26.200567",
     "exception": false,
     "start_time": "2022-02-04T14:11:26.130375",
     "status": "completed"
    },
    "tags": []
   },
   "outputs": [
    {
     "data": {
      "text/plain": [
       "0     9.66\n",
       "1     9.66\n",
       "2     5.34\n",
       "3     7.15\n",
       "4     7.15\n",
       "5     7.15\n",
       "6     7.15\n",
       "7     7.92\n",
       "9     4.20\n",
       "10    4.20\n",
       "Name: 1h glucose, dtype: float64"
      ]
     },
     "execution_count": 28,
     "metadata": {},
     "output_type": "execute_result"
    }
   ],
   "source": [
    "df6.head(10)"
   ]
  },
  {
   "cell_type": "code",
   "execution_count": 29,
   "metadata": {
    "execution": {
     "iopub.execute_input": "2022-02-04T14:11:26.336772Z",
     "iopub.status.busy": "2022-02-04T14:11:26.336064Z",
     "iopub.status.idle": "2022-02-04T14:11:26.339328Z",
     "shell.execute_reply": "2022-02-04T14:11:26.338812Z",
     "shell.execute_reply.started": "2022-02-04T13:56:11.711124Z"
    },
    "papermill": {
     "duration": 0.073256,
     "end_time": "2022-02-04T14:11:26.339419",
     "exception": false,
     "start_time": "2022-02-04T14:11:26.266163",
     "status": "completed"
    },
    "tags": []
   },
   "outputs": [],
   "source": [
    "import matplotlib.pyplot as plt\n",
    "%matplotlib inline"
   ]
  },
  {
   "cell_type": "code",
   "execution_count": null,
   "metadata": {
    "papermill": {
     "duration": 0.058869,
     "end_time": "2022-02-04T14:11:26.463018",
     "exception": false,
     "start_time": "2022-02-04T14:11:26.404149",
     "status": "completed"
    },
    "tags": []
   },
   "outputs": [],
   "source": []
  },
  {
   "cell_type": "code",
   "execution_count": 30,
   "metadata": {
    "execution": {
     "iopub.execute_input": "2022-02-04T14:11:26.597031Z",
     "iopub.status.busy": "2022-02-04T14:11:26.596293Z",
     "iopub.status.idle": "2022-02-04T14:11:26.598901Z",
     "shell.execute_reply": "2022-02-04T14:11:26.599427Z",
     "shell.execute_reply.started": "2022-02-04T13:56:11.718792Z"
    },
    "papermill": {
     "duration": 0.075882,
     "end_time": "2022-02-04T14:11:26.599529",
     "exception": false,
     "start_time": "2022-02-04T14:11:26.523647",
     "status": "completed"
    },
    "tags": []
   },
   "outputs": [],
   "source": [
    "X= df.iloc[:,:25]"
   ]
  },
  {
   "cell_type": "code",
   "execution_count": 31,
   "metadata": {
    "execution": {
     "iopub.execute_input": "2022-02-04T14:11:26.723608Z",
     "iopub.status.busy": "2022-02-04T14:11:26.723065Z",
     "iopub.status.idle": "2022-02-04T14:11:26.727116Z",
     "shell.execute_reply": "2022-02-04T14:11:26.726589Z",
     "shell.execute_reply.started": "2022-02-04T13:56:11.728748Z"
    },
    "papermill": {
     "duration": 0.06758,
     "end_time": "2022-02-04T14:11:26.727223",
     "exception": false,
     "start_time": "2022-02-04T14:11:26.659643",
     "status": "completed"
    },
    "tags": []
   },
   "outputs": [],
   "source": [
    "y=df['GDM']"
   ]
  },
  {
   "cell_type": "code",
   "execution_count": 32,
   "metadata": {
    "execution": {
     "iopub.execute_input": "2022-02-04T14:11:26.888238Z",
     "iopub.status.busy": "2022-02-04T14:11:26.887406Z",
     "iopub.status.idle": "2022-02-04T14:11:26.890743Z",
     "shell.execute_reply": "2022-02-04T14:11:26.890135Z",
     "shell.execute_reply.started": "2022-02-04T13:56:11.739624Z"
    },
    "papermill": {
     "duration": 0.104116,
     "end_time": "2022-02-04T14:11:26.890839",
     "exception": false,
     "start_time": "2022-02-04T14:11:26.786723",
     "status": "completed"
    },
    "tags": []
   },
   "outputs": [],
   "source": [
    "#X=X.drop(['Alcohol Intake V1','White 10 V1'], axis=1)"
   ]
  },
  {
   "cell_type": "code",
   "execution_count": 33,
   "metadata": {
    "execution": {
     "iopub.execute_input": "2022-02-04T14:11:27.012056Z",
     "iopub.status.busy": "2022-02-04T14:11:27.011384Z",
     "iopub.status.idle": "2022-02-04T14:11:29.646463Z",
     "shell.execute_reply": "2022-02-04T14:11:29.645990Z",
     "shell.execute_reply.started": "2022-02-04T13:56:11.755335Z"
    },
    "papermill": {
     "duration": 2.696118,
     "end_time": "2022-02-04T14:11:29.646573",
     "exception": false,
     "start_time": "2022-02-04T14:11:26.950455",
     "status": "completed"
    },
    "tags": []
   },
   "outputs": [],
   "source": [
    "import xgboost as xgb\n",
    "from sklearn.metrics import mean_squared_error\n",
    "import pandas as pd\n",
    "import numpy as np"
   ]
  },
  {
   "cell_type": "code",
   "execution_count": 34,
   "metadata": {
    "execution": {
     "iopub.execute_input": "2022-02-04T14:11:29.772940Z",
     "iopub.status.busy": "2022-02-04T14:11:29.772225Z",
     "iopub.status.idle": "2022-02-04T14:11:29.775040Z",
     "shell.execute_reply": "2022-02-04T14:11:29.774447Z",
     "shell.execute_reply.started": "2022-02-04T13:56:14.650361Z"
    },
    "papermill": {
     "duration": 0.070245,
     "end_time": "2022-02-04T14:11:29.775140",
     "exception": false,
     "start_time": "2022-02-04T14:11:29.704895",
     "status": "completed"
    },
    "tags": []
   },
   "outputs": [],
   "source": [
    "\n",
    "## Hyper Parameter Optimization\n",
    "\n",
    "params={\n",
    " \"learning_rate\"    : [0.05, 0.10, 0.15, 0.20, 0.25, 0.30 ] ,\n",
    " \"max_depth\"        : [ 3, 4, 5, 6, 8, 10, 12, 15],\n",
    " \"min_child_weight\" : [ 1, 3, 5, 7 ],\n",
    " \"gamma\"            : [ 0.0, 0.1, 0.2 , 0.3, 0.4 ],\n",
    " \"colsample_bytree\" : [ 0.3, 0.4, 0.5 , 0.7 ]\n",
    "    \n",
    "}"
   ]
  },
  {
   "cell_type": "code",
   "execution_count": 35,
   "metadata": {
    "execution": {
     "iopub.execute_input": "2022-02-04T14:11:29.893903Z",
     "iopub.status.busy": "2022-02-04T14:11:29.893085Z",
     "iopub.status.idle": "2022-02-04T14:11:29.896008Z",
     "shell.execute_reply": "2022-02-04T14:11:29.895557Z",
     "shell.execute_reply.started": "2022-02-04T13:56:14.663384Z"
    },
    "papermill": {
     "duration": 0.063528,
     "end_time": "2022-02-04T14:11:29.896100",
     "exception": false,
     "start_time": "2022-02-04T14:11:29.832572",
     "status": "completed"
    },
    "tags": []
   },
   "outputs": [],
   "source": [
    "## Hyperparameter optimization using RandomizedSearchCV\n",
    "from sklearn.model_selection import RandomizedSearchCV, GridSearchCV"
   ]
  },
  {
   "cell_type": "code",
   "execution_count": 36,
   "metadata": {
    "execution": {
     "iopub.execute_input": "2022-02-04T14:11:30.018454Z",
     "iopub.status.busy": "2022-02-04T14:11:30.017734Z",
     "iopub.status.idle": "2022-02-04T14:11:30.020522Z",
     "shell.execute_reply": "2022-02-04T14:11:30.020120Z",
     "shell.execute_reply.started": "2022-02-04T13:56:14.677793Z"
    },
    "papermill": {
     "duration": 0.066725,
     "end_time": "2022-02-04T14:11:30.020611",
     "exception": false,
     "start_time": "2022-02-04T14:11:29.953886",
     "status": "completed"
    },
    "tags": []
   },
   "outputs": [],
   "source": [
    "from sklearn.model_selection import train_test_split\n",
    "X_train, X_test, y_train, y_test = train_test_split(X, y, test_size=0.2, random_state=123)"
   ]
  },
  {
   "cell_type": "code",
   "execution_count": 37,
   "metadata": {
    "execution": {
     "iopub.execute_input": "2022-02-04T14:11:30.152212Z",
     "iopub.status.busy": "2022-02-04T14:11:30.151430Z",
     "iopub.status.idle": "2022-02-04T14:11:30.158267Z",
     "shell.execute_reply": "2022-02-04T14:11:30.157689Z",
     "shell.execute_reply.started": "2022-02-04T13:56:14.686739Z"
    },
    "papermill": {
     "duration": 0.069095,
     "end_time": "2022-02-04T14:11:30.158389",
     "exception": false,
     "start_time": "2022-02-04T14:11:30.089294",
     "status": "completed"
    },
    "tags": []
   },
   "outputs": [
    {
     "name": "stdout",
     "output_type": "stream",
     "text": [
      "XGBClassifier(base_score=None, booster=None, colsample_bylevel=None,\n",
      "              colsample_bynode=None, colsample_bytree=None, gamma=None,\n",
      "              gpu_id=None, importance_type='gain', interaction_constraints=None,\n",
      "              learning_rate=None, max_delta_step=None, max_depth=None,\n",
      "              min_child_weight=None, missing=nan, monotone_constraints=None,\n",
      "              n_estimators=100, n_jobs=None, num_parallel_tree=None,\n",
      "              random_state=None, reg_alpha=None, reg_lambda=None,\n",
      "              scale_pos_weight=None, subsample=None, tree_method=None,\n",
      "              validate_parameters=None, verbosity=None)\n"
     ]
    }
   ],
   "source": [
    "# Loading the XGBClassifier class from xgboost library\n",
    "xgb_classifier = xgb.XGBClassifier()\n",
    "print(xgb_classifier)"
   ]
  },
  {
   "cell_type": "code",
   "execution_count": 38,
   "metadata": {
    "execution": {
     "iopub.execute_input": "2022-02-04T14:11:30.279213Z",
     "iopub.status.busy": "2022-02-04T14:11:30.278561Z",
     "iopub.status.idle": "2022-02-04T14:11:30.280986Z",
     "shell.execute_reply": "2022-02-04T14:11:30.281489Z",
     "shell.execute_reply.started": "2022-02-04T13:56:14.698102Z"
    },
    "papermill": {
     "duration": 0.065034,
     "end_time": "2022-02-04T14:11:30.281593",
     "exception": false,
     "start_time": "2022-02-04T14:11:30.216559",
     "status": "completed"
    },
    "tags": []
   },
   "outputs": [],
   "source": [
    "random_search=RandomizedSearchCV(xgb_classifier,param_distributions=params,n_iter=5,scoring='roc_auc',n_jobs=-1,cv=5,verbose=3)"
   ]
  },
  {
   "cell_type": "code",
   "execution_count": 39,
   "metadata": {
    "execution": {
     "iopub.execute_input": "2022-02-04T14:11:30.406811Z",
     "iopub.status.busy": "2022-02-04T14:11:30.406221Z",
     "iopub.status.idle": "2022-02-04T14:11:35.829648Z",
     "shell.execute_reply": "2022-02-04T14:11:35.830444Z",
     "shell.execute_reply.started": "2022-02-04T13:56:14.706139Z"
    },
    "papermill": {
     "duration": 5.488759,
     "end_time": "2022-02-04T14:11:35.830626",
     "exception": false,
     "start_time": "2022-02-04T14:11:30.341867",
     "status": "completed"
    },
    "tags": []
   },
   "outputs": [
    {
     "name": "stdout",
     "output_type": "stream",
     "text": [
      "Fitting 5 folds for each of 5 candidates, totalling 25 fits\n"
     ]
    },
    {
     "name": "stderr",
     "output_type": "stream",
     "text": [
      "[Parallel(n_jobs=-1)]: Using backend LokyBackend with 2 concurrent workers.\n",
      "[Parallel(n_jobs=-1)]: Done  25 out of  25 | elapsed:    5.3s finished\n"
     ]
    },
    {
     "data": {
      "text/plain": [
       "RandomizedSearchCV(cv=5,\n",
       "                   estimator=XGBClassifier(base_score=None, booster=None,\n",
       "                                           colsample_bylevel=None,\n",
       "                                           colsample_bynode=None,\n",
       "                                           colsample_bytree=None, gamma=None,\n",
       "                                           gpu_id=None, importance_type='gain',\n",
       "                                           interaction_constraints=None,\n",
       "                                           learning_rate=None,\n",
       "                                           max_delta_step=None, max_depth=None,\n",
       "                                           min_child_weight=None, missing=nan,\n",
       "                                           monotone_constraints=None,\n",
       "                                           n_estimators=100,...\n",
       "                                           reg_lambda=None,\n",
       "                                           scale_pos_weight=None,\n",
       "                                           subsample=None, tree_method=None,\n",
       "                                           validate_parameters=None,\n",
       "                                           verbosity=None),\n",
       "                   n_iter=5, n_jobs=-1,\n",
       "                   param_distributions={'colsample_bytree': [0.3, 0.4, 0.5,\n",
       "                                                             0.7],\n",
       "                                        'gamma': [0.0, 0.1, 0.2, 0.3, 0.4],\n",
       "                                        'learning_rate': [0.05, 0.1, 0.15, 0.2,\n",
       "                                                          0.25, 0.3],\n",
       "                                        'max_depth': [3, 4, 5, 6, 8, 10, 12,\n",
       "                                                      15],\n",
       "                                        'min_child_weight': [1, 3, 5, 7]},\n",
       "                   scoring='roc_auc', verbose=3)"
      ]
     },
     "execution_count": 39,
     "metadata": {},
     "output_type": "execute_result"
    }
   ],
   "source": [
    "random_search.fit(X,y)"
   ]
  },
  {
   "cell_type": "code",
   "execution_count": 40,
   "metadata": {
    "execution": {
     "iopub.execute_input": "2022-02-04T14:11:35.993081Z",
     "iopub.status.busy": "2022-02-04T14:11:35.992360Z",
     "iopub.status.idle": "2022-02-04T14:11:35.995314Z",
     "shell.execute_reply": "2022-02-04T14:11:35.995895Z",
     "shell.execute_reply.started": "2022-02-04T13:56:19.966259Z"
    },
    "papermill": {
     "duration": 0.087766,
     "end_time": "2022-02-04T14:11:35.996081",
     "exception": false,
     "start_time": "2022-02-04T14:11:35.908315",
     "status": "completed"
    },
    "tags": []
   },
   "outputs": [
    {
     "data": {
      "text/plain": [
       "XGBClassifier(base_score=0.5, booster='gbtree', colsample_bylevel=1,\n",
       "              colsample_bynode=1, colsample_bytree=0.3, gamma=0.3, gpu_id=-1,\n",
       "              importance_type='gain', interaction_constraints='',\n",
       "              learning_rate=0.05, max_delta_step=0, max_depth=3,\n",
       "              min_child_weight=5, missing=nan, monotone_constraints='()',\n",
       "              n_estimators=100, n_jobs=0, num_parallel_tree=1, random_state=0,\n",
       "              reg_alpha=0, reg_lambda=1, scale_pos_weight=1, subsample=1,\n",
       "              tree_method='exact', validate_parameters=1, verbosity=None)"
      ]
     },
     "execution_count": 40,
     "metadata": {},
     "output_type": "execute_result"
    }
   ],
   "source": [
    "random_search.best_estimator_"
   ]
  },
  {
   "cell_type": "code",
   "execution_count": 41,
   "metadata": {
    "execution": {
     "iopub.execute_input": "2022-02-04T14:11:36.124962Z",
     "iopub.status.busy": "2022-02-04T14:11:36.124190Z",
     "iopub.status.idle": "2022-02-04T14:11:36.127804Z",
     "shell.execute_reply": "2022-02-04T14:11:36.127381Z",
     "shell.execute_reply.started": "2022-02-04T13:56:19.986062Z"
    },
    "papermill": {
     "duration": 0.067843,
     "end_time": "2022-02-04T14:11:36.127897",
     "exception": false,
     "start_time": "2022-02-04T14:11:36.060054",
     "status": "completed"
    },
    "tags": []
   },
   "outputs": [
    {
     "data": {
      "text/plain": [
       "{'min_child_weight': 5,\n",
       " 'max_depth': 3,\n",
       " 'learning_rate': 0.05,\n",
       " 'gamma': 0.3,\n",
       " 'colsample_bytree': 0.3}"
      ]
     },
     "execution_count": 41,
     "metadata": {},
     "output_type": "execute_result"
    }
   ],
   "source": [
    "random_search.best_params_"
   ]
  },
  {
   "cell_type": "code",
   "execution_count": 42,
   "metadata": {
    "execution": {
     "iopub.execute_input": "2022-02-04T14:11:36.254283Z",
     "iopub.status.busy": "2022-02-04T14:11:36.253548Z",
     "iopub.status.idle": "2022-02-04T14:11:36.256395Z",
     "shell.execute_reply": "2022-02-04T14:11:36.255977Z",
     "shell.execute_reply.started": "2022-02-04T13:56:20.002097Z"
    },
    "papermill": {
     "duration": 0.068537,
     "end_time": "2022-02-04T14:11:36.256485",
     "exception": false,
     "start_time": "2022-02-04T14:11:36.187948",
     "status": "completed"
    },
    "tags": []
   },
   "outputs": [],
   "source": [
    "\n",
    "xgb_classifier=xgb.XGBClassifier(base_score=0.5, booster='gbtree', colsample_bylevel=1,\n",
    "              colsample_bynode=1, colsample_bytree=0.7, gamma=0.3, gpu_id=-1,\n",
    "              importance_type='gain', interaction_constraints='',\n",
    "              learning_rate=0.3, max_delta_step=0, max_depth=5,\n",
    "              min_child_weight=7, missing=np.nan, monotone_constraints='()',\n",
    "              n_estimators=100, n_jobs=0, num_parallel_tree=1, random_state=0,\n",
    "              reg_alpha=0, reg_lambda=1, scale_pos_weight=1, subsample=1,\n",
    "              tree_method='exact', validate_parameters=1, verbosity=None)"
   ]
  },
  {
   "cell_type": "code",
   "execution_count": 43,
   "metadata": {
    "execution": {
     "iopub.execute_input": "2022-02-04T14:11:36.381587Z",
     "iopub.status.busy": "2022-02-04T14:11:36.380829Z",
     "iopub.status.idle": "2022-02-04T14:11:37.024183Z",
     "shell.execute_reply": "2022-02-04T14:11:37.024813Z",
     "shell.execute_reply.started": "2022-02-04T13:56:20.018348Z"
    },
    "papermill": {
     "duration": 0.708558,
     "end_time": "2022-02-04T14:11:37.024986",
     "exception": false,
     "start_time": "2022-02-04T14:11:36.316428",
     "status": "completed"
    },
    "tags": []
   },
   "outputs": [],
   "source": [
    "from sklearn.model_selection import cross_val_score\n",
    "score=cross_val_score(xgb_classifier,X,y,cv=10)"
   ]
  },
  {
   "cell_type": "code",
   "execution_count": 44,
   "metadata": {
    "execution": {
     "iopub.execute_input": "2022-02-04T14:11:37.189635Z",
     "iopub.status.busy": "2022-02-04T14:11:37.188809Z",
     "iopub.status.idle": "2022-02-04T14:11:37.192131Z",
     "shell.execute_reply": "2022-02-04T14:11:37.192846Z",
     "shell.execute_reply.started": "2022-02-04T13:56:20.700235Z"
    },
    "papermill": {
     "duration": 0.089039,
     "end_time": "2022-02-04T14:11:37.192979",
     "exception": false,
     "start_time": "2022-02-04T14:11:37.103940",
     "status": "completed"
    },
    "tags": []
   },
   "outputs": [
    {
     "data": {
      "text/plain": [
       "array([0.71153846, 0.75      , 0.78846154, 0.78846154, 0.67307692,\n",
       "       0.73076923, 0.70588235, 0.76470588, 0.68627451, 0.78431373])"
      ]
     },
     "execution_count": 44,
     "metadata": {},
     "output_type": "execute_result"
    }
   ],
   "source": [
    "score"
   ]
  },
  {
   "cell_type": "code",
   "execution_count": 45,
   "metadata": {
    "execution": {
     "iopub.execute_input": "2022-02-04T14:11:37.352642Z",
     "iopub.status.busy": "2022-02-04T14:11:37.351759Z",
     "iopub.status.idle": "2022-02-04T14:11:37.355569Z",
     "shell.execute_reply": "2022-02-04T14:11:37.356050Z",
     "shell.execute_reply.started": "2022-02-04T13:56:20.714648Z"
    },
    "papermill": {
     "duration": 0.086906,
     "end_time": "2022-02-04T14:11:37.356181",
     "exception": false,
     "start_time": "2022-02-04T14:11:37.269275",
     "status": "completed"
    },
    "tags": []
   },
   "outputs": [
    {
     "data": {
      "text/plain": [
       "0.7383484162895927"
      ]
     },
     "execution_count": 45,
     "metadata": {},
     "output_type": "execute_result"
    }
   ],
   "source": [
    "score.mean()"
   ]
  },
  {
   "cell_type": "code",
   "execution_count": 46,
   "metadata": {
    "execution": {
     "iopub.execute_input": "2022-02-04T14:11:37.502855Z",
     "iopub.status.busy": "2022-02-04T14:11:37.502067Z",
     "iopub.status.idle": "2022-02-04T14:11:37.570621Z",
     "shell.execute_reply": "2022-02-04T14:11:37.571650Z",
     "shell.execute_reply.started": "2022-02-04T13:56:20.728446Z"
    },
    "papermill": {
     "duration": 0.146908,
     "end_time": "2022-02-04T14:11:37.571828",
     "exception": false,
     "start_time": "2022-02-04T14:11:37.424920",
     "status": "completed"
    },
    "tags": []
   },
   "outputs": [
    {
     "name": "stdout",
     "output_type": "stream",
     "text": [
      "['0' '0' '0' '0' '0' '1' '0' '1' '0' '0' '0' '1' '0' '0' '0' '0' '0' '0'\n",
      " '0' '0' '0' '0' '0' '0' '1' '0' '0' '1' '0' '0' '0' '0' '1' '0' '0' '0'\n",
      " '0' '0' '0' '0' '0' '0' '0' '0' '0' '0' '0' '0' '0' '0' '1' '0' '0' '1'\n",
      " '0' '0' '0' '0' '0' '0' '0' '1' '0' '1' '0' '0' '0' '0' '0' '0' '0' '0'\n",
      " '0' '0' '0' '0' '0' '0' '0' '0' '0' '0' '1' '0' '0' '1' '0' '0' '0' '0'\n",
      " '0' '0' '0' '0' '0' '1' '0' '0' '0' '0' '0' '1' '0' '0']\n",
      "Accuracy: 75.00%\n",
      "XGBClassifier RMSE:    0.500000\n"
     ]
    }
   ],
   "source": [
    "\n",
    "\n",
    "# Fitting the model with train data.\n",
    "xgb_classifier.fit(X_train, y_train)\n",
    "\n",
    "\n",
    "# Predicting the test data\n",
    "y_pred = xgb_classifier.predict(X_test)\n",
    "print(y_pred)\n",
    "\n",
    "# Evaluate predictions\n",
    "from sklearn.metrics import accuracy_score\n",
    "\n",
    "accuracy = accuracy_score(y_test, y_pred)\n",
    "print(\"Accuracy: %.2f%%\" % (accuracy * 100.0))\n",
    "\n",
    "\n",
    "rmse = np.sqrt(mean_squared_error(y_test, y_pred))\n",
    "print(\"XGBClassifier RMSE:    %f\" % (rmse))"
   ]
  },
  {
   "cell_type": "code",
   "execution_count": 47,
   "metadata": {
    "execution": {
     "iopub.execute_input": "2022-02-04T14:11:37.750189Z",
     "iopub.status.busy": "2022-02-04T14:11:37.749551Z",
     "iopub.status.idle": "2022-02-04T14:11:38.407734Z",
     "shell.execute_reply": "2022-02-04T14:11:38.408200Z",
     "shell.execute_reply.started": "2022-02-04T13:56:20.800431Z"
    },
    "papermill": {
     "duration": 0.748682,
     "end_time": "2022-02-04T14:11:38.408343",
     "exception": false,
     "start_time": "2022-02-04T14:11:37.659661",
     "status": "completed"
    },
    "tags": []
   },
   "outputs": [
    {
     "data": {
      "image/png": "[encoded data removed]",
      "text/plain": [
       "<Figure size 432x288 with 1 Axes>"
      ]
     },
     "metadata": {
      "needs_background": "light"
     },
     "output_type": "display_data"
    }
   ],
   "source": [
    "import matplotlib.pyplot as plt\n",
    "xgb.plot_tree(xgb_classifier,num_trees=0)\n",
    "plt.rcParams['figure.figsize'] = [55, 100]\n",
    "plt.show()"
   ]
  },
  {
   "cell_type": "code",
   "execution_count": 48,
   "metadata": {
    "execution": {
     "iopub.execute_input": "2022-02-04T14:11:38.537516Z",
     "iopub.status.busy": "2022-02-04T14:11:38.536756Z",
     "iopub.status.idle": "2022-02-04T14:11:39.871248Z",
     "shell.execute_reply": "2022-02-04T14:11:39.870803Z",
     "shell.execute_reply.started": "2022-02-04T13:56:21.438010Z"
    },
    "papermill": {
     "duration": 1.400948,
     "end_time": "2022-02-04T14:11:39.871344",
     "exception": false,
     "start_time": "2022-02-04T14:11:38.470396",
     "status": "completed"
    },
    "tags": []
   },
   "outputs": [
    {
     "data": {
      "image/png": "[encoded data removed]",
      "text/plain": [
       "<Figure size 3960x7200 with 1 Axes>"
      ]
     },
     "metadata": {
      "needs_background": "light"
     },
     "output_type": "display_data"
    }
   ],
   "source": [
    "import matplotlib.pyplot as plt\n",
    "xgb.plot_importance(xgb_classifier)\n",
    "plt.rcParams['figure.figsize']=[150,15]\n",
    "plt.show()"
   ]
  },
  {
   "cell_type": "code",
   "execution_count": 49,
   "metadata": {
    "execution": {
     "iopub.execute_input": "2022-02-04T14:11:40.006014Z",
     "iopub.status.busy": "2022-02-04T14:11:40.005283Z",
     "iopub.status.idle": "2022-02-04T14:11:40.017278Z",
     "shell.execute_reply": "2022-02-04T14:11:40.016816Z",
     "shell.execute_reply.started": "2022-02-04T13:56:22.739400Z"
    },
    "papermill": {
     "duration": 0.080373,
     "end_time": "2022-02-04T14:11:40.017364",
     "exception": false,
     "start_time": "2022-02-04T14:11:39.936991",
     "status": "completed"
    },
    "tags": []
   },
   "outputs": [],
   "source": [
    "from sklearn.experimental import enable_iterative_imputer"
   ]
  },
  {
   "cell_type": "code",
   "execution_count": 50,
   "metadata": {
    "execution": {
     "iopub.execute_input": "2022-02-04T14:11:40.197446Z",
     "iopub.status.busy": "2022-02-04T14:11:40.196597Z",
     "iopub.status.idle": "2022-02-04T14:11:40.199753Z",
     "shell.execute_reply": "2022-02-04T14:11:40.199231Z",
     "shell.execute_reply.started": "2022-02-04T13:56:22.753881Z"
    },
    "papermill": {
     "duration": 0.088188,
     "end_time": "2022-02-04T14:11:40.199845",
     "exception": false,
     "start_time": "2022-02-04T14:11:40.111657",
     "status": "completed"
    },
    "tags": []
   },
   "outputs": [],
   "source": [
    "\n",
    "from sklearn.impute import IterativeImputer"
   ]
  },
  {
   "cell_type": "code",
   "execution_count": 51,
   "metadata": {
    "execution": {
     "iopub.execute_input": "2022-02-04T14:11:40.387610Z",
     "iopub.status.busy": "2022-02-04T14:11:40.386886Z",
     "iopub.status.idle": "2022-02-04T14:11:40.392928Z",
     "shell.execute_reply": "2022-02-04T14:11:40.393690Z",
     "shell.execute_reply.started": "2022-02-04T13:56:22.760600Z"
    },
    "papermill": {
     "duration": 0.128534,
     "end_time": "2022-02-04T14:11:40.393892",
     "exception": false,
     "start_time": "2022-02-04T14:11:40.265358",
     "status": "completed"
    },
    "tags": []
   },
   "outputs": [
    {
     "name": "stdout",
     "output_type": "stream",
     "text": [
      "<class 'pandas.core.frame.DataFrame'>\n",
      "Int64Index: 516 entries, 0 to 599\n",
      "Data columns (total 25 columns):\n",
      " #   Column                  Non-Null Count  Dtype  \n",
      "---  ------                  --------------  -----  \n",
      " 0   systolic BP (mmHg) V1   516 non-null    int64  \n",
      " 1   diastolic BP (mmHg) V1  516 non-null    int64  \n",
      " 2   Pulse (bpm) V1          516 non-null    int64  \n",
      " 3   Weight (kg) V1          516 non-null    float64\n",
      " 4   Height (cm) V1          516 non-null    float64\n",
      " 5   BMI (kg/m2) V1          516 non-null    float64\n",
      " 6   HighRisk 10             516 non-null    int64  \n",
      " 7   Smoking 123             516 non-null    int64  \n",
      " 8   Alcohol Intake V1       516 non-null    int64  \n",
      " 9   White 10 V1             516 non-null    int64  \n",
      " 10  PreviousGDM10 V1        516 non-null    int64  \n",
      " 11  Meds 10 V1              516 non-null    int64  \n",
      " 12  Age >30 10              516 non-null    int64  \n",
      " 13  BMI (kg/m2) V1 2        516 non-null    float64\n",
      " 14  Obese 10                516 non-null    int64  \n",
      " 15  Overweight 123          516 non-null    int64  \n",
      " 16  V1 HbA1c (mmol/mol)     514 non-null    float64\n",
      " 17  WCC                     515 non-null    float64\n",
      " 18  V1 Hb                   515 non-null    float64\n",
      " 19  V1 Platelet             515 non-null    float64\n",
      " 20  V1 Creatinine           513 non-null    float64\n",
      " 21  V1 ALT                  514 non-null    float64\n",
      " 22  V1 CRP                  515 non-null    float64\n",
      " 23  V1 U protein            513 non-null    float64\n",
      " 24  V1 U creatinine         513 non-null    float64\n",
      "dtypes: float64(13), int64(12)\n",
      "memory usage: 104.8 KB\n"
     ]
    }
   ],
   "source": [
    "X.info()"
   ]
  },
  {
   "cell_type": "code",
   "execution_count": 52,
   "metadata": {
    "execution": {
     "iopub.execute_input": "2022-02-04T14:11:40.577393Z",
     "iopub.status.busy": "2022-02-04T14:11:40.575041Z",
     "iopub.status.idle": "2022-02-04T14:11:40.906852Z",
     "shell.execute_reply": "2022-02-04T14:11:40.906116Z",
     "shell.execute_reply.started": "2022-02-04T13:56:22.778324Z"
    },
    "papermill": {
     "duration": 0.444023,
     "end_time": "2022-02-04T14:11:40.906961",
     "exception": false,
     "start_time": "2022-02-04T14:11:40.462938",
     "status": "completed"
    },
    "tags": []
   },
   "outputs": [
    {
     "name": "stdout",
     "output_type": "stream",
     "text": [
      "[IterativeImputer] Completing matrix with shape (516, 25)\n",
      "[IterativeImputer] Ending imputation round 1/100, elapsed time 0.07\n",
      "[IterativeImputer] Change: 25.058036059686707, scaled tolerance: 1.017e-07 \n",
      "[IterativeImputer] Ending imputation round 2/100, elapsed time 0.10\n",
      "[IterativeImputer] Change: 2.9709066581884436, scaled tolerance: 1.017e-07 \n",
      "[IterativeImputer] Ending imputation round 3/100, elapsed time 0.13\n",
      "[IterativeImputer] Change: 0.3348964890637216, scaled tolerance: 1.017e-07 \n",
      "[IterativeImputer] Ending imputation round 4/100, elapsed time 0.15\n",
      "[IterativeImputer] Change: 0.035668912026892485, scaled tolerance: 1.017e-07 \n",
      "[IterativeImputer] Ending imputation round 5/100, elapsed time 0.18\n",
      "[IterativeImputer] Change: 0.0037191368300319994, scaled tolerance: 1.017e-07 \n",
      "[IterativeImputer] Ending imputation round 6/100, elapsed time 0.21\n",
      "[IterativeImputer] Change: 0.00038486574749363456, scaled tolerance: 1.017e-07 \n",
      "[IterativeImputer] Ending imputation round 7/100, elapsed time 0.24\n",
      "[IterativeImputer] Change: 3.972330977397576e-05, scaled tolerance: 1.017e-07 \n",
      "[IterativeImputer] Ending imputation round 8/100, elapsed time 0.26\n",
      "[IterativeImputer] Change: 4.096279250020984e-06, scaled tolerance: 1.017e-07 \n",
      "[IterativeImputer] Ending imputation round 9/100, elapsed time 0.30\n",
      "[IterativeImputer] Change: 4.222773082318554e-07, scaled tolerance: 1.017e-07 \n",
      "[IterativeImputer] Ending imputation round 10/100, elapsed time 0.32\n",
      "[IterativeImputer] Change: 4.3527023763090256e-08, scaled tolerance: 1.017e-07 \n",
      "[IterativeImputer] Early stopping criterion reached.\n"
     ]
    },
    {
     "data": {
      "text/plain": [
       "array([[1.140e+02, 5.800e+01, 7.300e+01, ..., 4.500e-01, 2.000e-02,\n",
       "        4.840e+00],\n",
       "       [1.780e+02, 7.800e+01, 8.400e+01, ..., 1.000e-01, 9.000e-02,\n",
       "        1.437e+01],\n",
       "       [1.230e+02, 6.200e+01, 7.900e+01, ..., 1.150e+00, 1.000e-01,\n",
       "        1.589e+01],\n",
       "       ...,\n",
       "       [1.150e+02, 6.900e+01, 8.100e+01, ..., 1.800e+01, 6.000e-02,\n",
       "        6.200e+00],\n",
       "       [1.290e+02, 6.900e+01, 8.400e+01, ..., 7.500e+00, 3.000e-02,\n",
       "        3.400e+00],\n",
       "       [1.100e+02, 5.300e+01, 6.400e+01, ..., 4.400e+00, 5.000e-02,\n",
       "        6.200e+00]])"
      ]
     },
     "execution_count": 52,
     "metadata": {},
     "output_type": "execute_result"
    }
   ],
   "source": [
    "import numpy as np\n",
    "from sklearn.linear_model import LinearRegression\n",
    "\n",
    "lr = LinearRegression()\n",
    "imp = IterativeImputer(estimator=lr,missing_values=np.nan, tol=1e-10, max_iter=100, verbose=2, imputation_order='roman')\n",
    "imp.fit_transform(X)"
   ]
  },
  {
   "cell_type": "code",
   "execution_count": 53,
   "metadata": {
    "execution": {
     "iopub.execute_input": "2022-02-04T14:11:41.048460Z",
     "iopub.status.busy": "2022-02-04T14:11:41.047693Z",
     "iopub.status.idle": "2022-02-04T14:11:41.052206Z",
     "shell.execute_reply": "2022-02-04T14:11:41.051771Z",
     "shell.execute_reply.started": "2022-02-04T13:56:23.093570Z"
    },
    "papermill": {
     "duration": 0.078202,
     "end_time": "2022-02-04T14:11:41.052293",
     "exception": false,
     "start_time": "2022-02-04T14:11:40.974091",
     "status": "completed"
    },
    "tags": []
   },
   "outputs": [],
   "source": [
    "from sklearn.model_selection import train_test_split\n",
    "X_train, X_test, y_train, y_test = train_test_split(X, y, test_size=0.2, random_state=123)"
   ]
  },
  {
   "cell_type": "code",
   "execution_count": 54,
   "metadata": {
    "execution": {
     "iopub.execute_input": "2022-02-04T14:11:41.192659Z",
     "iopub.status.busy": "2022-02-04T14:11:41.191838Z",
     "iopub.status.idle": "2022-02-04T14:11:41.345792Z",
     "shell.execute_reply": "2022-02-04T14:11:41.346441Z",
     "shell.execute_reply.started": "2022-02-04T13:56:23.102976Z"
    },
    "papermill": {
     "duration": 0.227618,
     "end_time": "2022-02-04T14:11:41.346601",
     "exception": false,
     "start_time": "2022-02-04T14:11:41.118983",
     "status": "completed"
    },
    "tags": []
   },
   "outputs": [
    {
     "name": "stdout",
     "output_type": "stream",
     "text": [
      "[IterativeImputer] Completing matrix with shape (412, 25)\n",
      "[IterativeImputer] Ending imputation round 1/10, elapsed time 0.00\n",
      "[IterativeImputer] Ending imputation round 2/10, elapsed time 0.00\n",
      "[IterativeImputer] Ending imputation round 3/10, elapsed time 0.01\n",
      "[IterativeImputer] Ending imputation round 4/10, elapsed time 0.01\n",
      "[IterativeImputer] Ending imputation round 5/10, elapsed time 0.01\n",
      "[IterativeImputer] Ending imputation round 6/10, elapsed time 0.01\n",
      "[IterativeImputer] Ending imputation round 7/10, elapsed time 0.01\n",
      "[IterativeImputer] Ending imputation round 8/10, elapsed time 0.02\n",
      "[IterativeImputer] Ending imputation round 9/10, elapsed time 0.02\n",
      "[IterativeImputer] Ending imputation round 10/10, elapsed time 0.02\n",
      "[IterativeImputer] Completing matrix with shape (104, 25)\n",
      "[IterativeImputer] Ending imputation round 1/10, elapsed time 0.00\n",
      "[IterativeImputer] Ending imputation round 2/10, elapsed time 0.00\n",
      "[IterativeImputer] Ending imputation round 3/10, elapsed time 0.00\n",
      "[IterativeImputer] Ending imputation round 4/10, elapsed time 0.00\n",
      "[IterativeImputer] Ending imputation round 5/10, elapsed time 0.01\n",
      "[IterativeImputer] Ending imputation round 6/10, elapsed time 0.01\n",
      "[IterativeImputer] Ending imputation round 7/10, elapsed time 0.01\n",
      "[IterativeImputer] Ending imputation round 8/10, elapsed time 0.01\n",
      "[IterativeImputer] Ending imputation round 9/10, elapsed time 0.01\n",
      "[IterativeImputer] Ending imputation round 10/10, elapsed time 0.01\n"
     ]
    }
   ],
   "source": [
    "from sklearn.ensemble import RandomForestClassifier \n",
    "from sklearn.metrics import accuracy_score  \n",
    "# Create and fit model \n",
    "clf = RandomForestClassifier(n_estimators = 50, random_state = 11850) \n",
    "clf = clf.fit(imp.transform(X_train), y_train)  \n",
    "preds = clf.predict(imp.transform(X_test))  # Get predictions  "
   ]
  },
  {
   "cell_type": "code",
   "execution_count": 55,
   "metadata": {
    "execution": {
     "iopub.execute_input": "2022-02-04T14:11:41.488155Z",
     "iopub.status.busy": "2022-02-04T14:11:41.487431Z",
     "iopub.status.idle": "2022-02-04T14:11:41.492060Z",
     "shell.execute_reply": "2022-02-04T14:11:41.491600Z",
     "shell.execute_reply.started": "2022-02-04T13:56:23.267965Z"
    },
    "papermill": {
     "duration": 0.075525,
     "end_time": "2022-02-04T14:11:41.492148",
     "exception": false,
     "start_time": "2022-02-04T14:11:41.416623",
     "status": "completed"
    },
    "tags": []
   },
   "outputs": [
    {
     "data": {
      "text/plain": [
       "0.769"
      ]
     },
     "execution_count": 55,
     "metadata": {},
     "output_type": "execute_result"
    }
   ],
   "source": [
    "round(accuracy_score(y_true = y_test, y_pred = preds), 3)"
   ]
  },
  {
   "cell_type": "code",
   "execution_count": 56,
   "metadata": {
    "execution": {
     "iopub.execute_input": "2022-02-04T14:11:41.634773Z",
     "iopub.status.busy": "2022-02-04T14:11:41.633757Z",
     "iopub.status.idle": "2022-02-04T14:11:41.746305Z",
     "shell.execute_reply": "2022-02-04T14:11:41.745708Z",
     "shell.execute_reply.started": "2022-02-04T13:56:23.277101Z"
    },
    "papermill": {
     "duration": 0.186883,
     "end_time": "2022-02-04T14:11:41.746436",
     "exception": false,
     "start_time": "2022-02-04T14:11:41.559553",
     "status": "completed"
    },
    "tags": []
   },
   "outputs": [
    {
     "name": "stdout",
     "output_type": "stream",
     "text": [
      "[IterativeImputer] Completing matrix with shape (412, 25)\n",
      "[IterativeImputer] Ending imputation round 1/10, elapsed time 0.00\n",
      "[IterativeImputer] Ending imputation round 2/10, elapsed time 0.01\n",
      "[IterativeImputer] Ending imputation round 3/10, elapsed time 0.01\n",
      "[IterativeImputer] Ending imputation round 4/10, elapsed time 0.01\n",
      "[IterativeImputer] Ending imputation round 5/10, elapsed time 0.01\n",
      "[IterativeImputer] Ending imputation round 6/10, elapsed time 0.01\n",
      "[IterativeImputer] Ending imputation round 7/10, elapsed time 0.02\n",
      "[IterativeImputer] Ending imputation round 8/10, elapsed time 0.02\n",
      "[IterativeImputer] Ending imputation round 9/10, elapsed time 0.02\n",
      "[IterativeImputer] Ending imputation round 10/10, elapsed time 0.02\n",
      "[IterativeImputer] Completing matrix with shape (104, 25)\n",
      "[IterativeImputer] Ending imputation round 1/10, elapsed time 0.00\n",
      "[IterativeImputer] Ending imputation round 2/10, elapsed time 0.00\n",
      "[IterativeImputer] Ending imputation round 3/10, elapsed time 0.00\n",
      "[IterativeImputer] Ending imputation round 4/10, elapsed time 0.00\n",
      "[IterativeImputer] Ending imputation round 5/10, elapsed time 0.01\n",
      "[IterativeImputer] Ending imputation round 6/10, elapsed time 0.01\n",
      "[IterativeImputer] Ending imputation round 7/10, elapsed time 0.01\n",
      "[IterativeImputer] Ending imputation round 8/10, elapsed time 0.01\n",
      "[IterativeImputer] Ending imputation round 9/10, elapsed time 0.01\n",
      "[IterativeImputer] Ending imputation round 10/10, elapsed time 0.01\n"
     ]
    }
   ],
   "source": [
    "clf = RandomForestClassifier(n_estimators = 30, random_state = 2298)\n",
    "clf = clf.fit(imp.transform(X_train), y_train)  \n",
    "preds = clf.predict(imp.transform(X_test))  # Get predictions"
   ]
  },
  {
   "cell_type": "code",
   "execution_count": 57,
   "metadata": {
    "execution": {
     "iopub.execute_input": "2022-02-04T14:11:41.887266Z",
     "iopub.status.busy": "2022-02-04T14:11:41.886426Z",
     "iopub.status.idle": "2022-02-04T14:11:41.890386Z",
     "shell.execute_reply": "2022-02-04T14:11:41.889949Z",
     "shell.execute_reply.started": "2022-02-04T13:56:23.395675Z"
    },
    "papermill": {
     "duration": 0.075936,
     "end_time": "2022-02-04T14:11:41.890473",
     "exception": false,
     "start_time": "2022-02-04T14:11:41.814537",
     "status": "completed"
    },
    "tags": []
   },
   "outputs": [
    {
     "data": {
      "text/plain": [
       "0.769"
      ]
     },
     "execution_count": 57,
     "metadata": {},
     "output_type": "execute_result"
    }
   ],
   "source": [
    "round(accuracy_score(y_true = y_test, y_pred = preds), 3)"
   ]
  },
  {
   "cell_type": "code",
   "execution_count": 58,
   "metadata": {
    "execution": {
     "iopub.execute_input": "2022-02-04T14:11:42.028870Z",
     "iopub.status.busy": "2022-02-04T14:11:42.028068Z",
     "iopub.status.idle": "2022-02-04T14:11:42.031157Z",
     "shell.execute_reply": "2022-02-04T14:11:42.030688Z",
     "shell.execute_reply.started": "2022-02-04T13:56:23.404526Z"
    },
    "papermill": {
     "duration": 0.0737,
     "end_time": "2022-02-04T14:11:42.031242",
     "exception": false,
     "start_time": "2022-02-04T14:11:41.957542",
     "status": "completed"
    },
    "tags": []
   },
   "outputs": [],
   "source": [
    "from sklearn.impute import KNNImputer"
   ]
  },
  {
   "cell_type": "code",
   "execution_count": 59,
   "metadata": {
    "execution": {
     "iopub.execute_input": "2022-02-04T14:11:42.169588Z",
     "iopub.status.busy": "2022-02-04T14:11:42.168897Z",
     "iopub.status.idle": "2022-02-04T14:11:42.171395Z",
     "shell.execute_reply": "2022-02-04T14:11:42.171880Z",
     "shell.execute_reply.started": "2022-02-04T13:56:23.412577Z"
    },
    "papermill": {
     "duration": 0.073541,
     "end_time": "2022-02-04T14:11:42.172014",
     "exception": false,
     "start_time": "2022-02-04T14:11:42.098473",
     "status": "completed"
    },
    "tags": []
   },
   "outputs": [],
   "source": [
    "knn = KNNImputer(n_neighbors=5, add_indicator=True)"
   ]
  },
  {
   "cell_type": "code",
   "execution_count": 60,
   "metadata": {
    "execution": {
     "iopub.execute_input": "2022-02-04T14:11:42.317498Z",
     "iopub.status.busy": "2022-02-04T14:11:42.316628Z",
     "iopub.status.idle": "2022-02-04T14:11:42.321976Z",
     "shell.execute_reply": "2022-02-04T14:11:42.321533Z",
     "shell.execute_reply.started": "2022-02-04T13:56:23.419668Z"
    },
    "papermill": {
     "duration": 0.079158,
     "end_time": "2022-02-04T14:11:42.322077",
     "exception": false,
     "start_time": "2022-02-04T14:11:42.242919",
     "status": "completed"
    },
    "tags": []
   },
   "outputs": [
    {
     "data": {
      "text/plain": [
       "KNNImputer(add_indicator=True)"
      ]
     },
     "execution_count": 60,
     "metadata": {},
     "output_type": "execute_result"
    }
   ],
   "source": [
    "knn.fit(X)"
   ]
  },
  {
   "cell_type": "code",
   "execution_count": 61,
   "metadata": {
    "execution": {
     "iopub.execute_input": "2022-02-04T14:11:42.465879Z",
     "iopub.status.busy": "2022-02-04T14:11:42.465070Z",
     "iopub.status.idle": "2022-02-04T14:11:42.475175Z",
     "shell.execute_reply": "2022-02-04T14:11:42.474745Z",
     "shell.execute_reply.started": "2022-02-04T13:56:23.431813Z"
    },
    "papermill": {
     "duration": 0.082897,
     "end_time": "2022-02-04T14:11:42.475265",
     "exception": false,
     "start_time": "2022-02-04T14:11:42.392368",
     "status": "completed"
    },
    "tags": []
   },
   "outputs": [
    {
     "data": {
      "text/plain": [
       "array([[114.,  58.,  73., ...,   0.,   0.,   0.],\n",
       "       [178.,  78.,  84., ...,   0.,   0.,   0.],\n",
       "       [123.,  62.,  79., ...,   0.,   0.,   0.],\n",
       "       ...,\n",
       "       [115.,  69.,  81., ...,   0.,   0.,   0.],\n",
       "       [129.,  69.,  84., ...,   0.,   0.,   0.],\n",
       "       [110.,  53.,  64., ...,   0.,   0.,   0.]])"
      ]
     },
     "execution_count": 61,
     "metadata": {},
     "output_type": "execute_result"
    }
   ],
   "source": [
    "\n",
    "knn.transform(X)"
   ]
  },
  {
   "cell_type": "code",
   "execution_count": 62,
   "metadata": {
    "execution": {
     "iopub.execute_input": "2022-02-04T14:11:42.618136Z",
     "iopub.status.busy": "2022-02-04T14:11:42.617192Z",
     "iopub.status.idle": "2022-02-04T14:11:42.735458Z",
     "shell.execute_reply": "2022-02-04T14:11:42.735016Z",
     "shell.execute_reply.started": "2022-02-04T13:56:23.449756Z"
    },
    "papermill": {
     "duration": 0.191569,
     "end_time": "2022-02-04T14:11:42.735546",
     "exception": false,
     "start_time": "2022-02-04T14:11:42.543977",
     "status": "completed"
    },
    "tags": []
   },
   "outputs": [],
   "source": [
    "clf = RandomForestClassifier(n_estimators = 50, random_state = 11850) \n",
    "clf = clf.fit(knn.transform(X_train), y_train)  \n",
    "preds = clf.predict(knn.transform(X_test))  # Get predictions  "
   ]
  },
  {
   "cell_type": "code",
   "execution_count": 63,
   "metadata": {
    "execution": {
     "iopub.execute_input": "2022-02-04T14:11:42.876184Z",
     "iopub.status.busy": "2022-02-04T14:11:42.875438Z",
     "iopub.status.idle": "2022-02-04T14:11:42.879117Z",
     "shell.execute_reply": "2022-02-04T14:11:42.878687Z",
     "shell.execute_reply.started": "2022-02-04T13:56:23.578361Z"
    },
    "papermill": {
     "duration": 0.075881,
     "end_time": "2022-02-04T14:11:42.879206",
     "exception": false,
     "start_time": "2022-02-04T14:11:42.803325",
     "status": "completed"
    },
    "tags": []
   },
   "outputs": [
    {
     "data": {
      "text/plain": [
       "0.76"
      ]
     },
     "execution_count": 63,
     "metadata": {},
     "output_type": "execute_result"
    }
   ],
   "source": [
    "round(accuracy_score(y_true = y_test, y_pred = preds), 3)"
   ]
  },
  {
   "cell_type": "code",
   "execution_count": 64,
   "metadata": {
    "execution": {
     "iopub.execute_input": "2022-02-04T14:11:43.022632Z",
     "iopub.status.busy": "2022-02-04T14:11:43.021730Z",
     "iopub.status.idle": "2022-02-04T14:11:43.098731Z",
     "shell.execute_reply": "2022-02-04T14:11:43.098124Z",
     "shell.execute_reply.started": "2022-02-04T13:56:23.589471Z"
    },
    "papermill": {
     "duration": 0.151562,
     "end_time": "2022-02-04T14:11:43.098824",
     "exception": false,
     "start_time": "2022-02-04T14:11:42.947262",
     "status": "completed"
    },
    "tags": []
   },
   "outputs": [],
   "source": [
    "clf = RandomForestClassifier(n_estimators = 30, random_state = 2298)\n",
    "clf = clf.fit(knn.transform(X_train), y_train)  \n",
    "preds = clf.predict(knn.transform(X_test))  # Get predictions "
   ]
  },
  {
   "cell_type": "code",
   "execution_count": 65,
   "metadata": {
    "execution": {
     "iopub.execute_input": "2022-02-04T14:11:43.240543Z",
     "iopub.status.busy": "2022-02-04T14:11:43.239617Z",
     "iopub.status.idle": "2022-02-04T14:11:43.243891Z",
     "shell.execute_reply": "2022-02-04T14:11:43.243445Z",
     "shell.execute_reply.started": "2022-02-04T13:56:23.679917Z"
    },
    "papermill": {
     "duration": 0.077215,
     "end_time": "2022-02-04T14:11:43.243986",
     "exception": false,
     "start_time": "2022-02-04T14:11:43.166771",
     "status": "completed"
    },
    "tags": []
   },
   "outputs": [
    {
     "data": {
      "text/plain": [
       "0.808"
      ]
     },
     "execution_count": 65,
     "metadata": {},
     "output_type": "execute_result"
    }
   ],
   "source": [
    "round(accuracy_score(y_true = y_test, y_pred = preds), 3)"
   ]
  },
  {
   "cell_type": "code",
   "execution_count": 66,
   "metadata": {
    "execution": {
     "iopub.execute_input": "2022-02-04T14:11:43.383526Z",
     "iopub.status.busy": "2022-02-04T14:11:43.382842Z",
     "iopub.status.idle": "2022-02-04T14:11:43.385634Z",
     "shell.execute_reply": "2022-02-04T14:11:43.385221Z",
     "shell.execute_reply.started": "2022-02-04T13:56:23.689420Z"
    },
    "papermill": {
     "duration": 0.073871,
     "end_time": "2022-02-04T14:11:43.385737",
     "exception": false,
     "start_time": "2022-02-04T14:11:43.311866",
     "status": "completed"
    },
    "tags": []
   },
   "outputs": [],
   "source": [
    "from sklearn.pipeline import FeatureUnion, make_pipeline"
   ]
  },
  {
   "cell_type": "code",
   "execution_count": 67,
   "metadata": {
    "execution": {
     "iopub.execute_input": "2022-02-04T14:11:43.525965Z",
     "iopub.status.busy": "2022-02-04T14:11:43.525303Z",
     "iopub.status.idle": "2022-02-04T14:11:43.528162Z",
     "shell.execute_reply": "2022-02-04T14:11:43.527641Z",
     "shell.execute_reply.started": "2022-02-04T13:56:23.697495Z"
    },
    "papermill": {
     "duration": 0.073858,
     "end_time": "2022-02-04T14:11:43.528244",
     "exception": false,
     "start_time": "2022-02-04T14:11:43.454386",
     "status": "completed"
    },
    "tags": []
   },
   "outputs": [],
   "source": [
    "impknn = make_pipeline(imp, knn)"
   ]
  },
  {
   "cell_type": "code",
   "execution_count": 68,
   "metadata": {
    "execution": {
     "iopub.execute_input": "2022-02-04T14:11:43.672266Z",
     "iopub.status.busy": "2022-02-04T14:11:43.671398Z",
     "iopub.status.idle": "2022-02-04T14:11:43.798317Z",
     "shell.execute_reply": "2022-02-04T14:11:43.799470Z",
     "shell.execute_reply.started": "2022-02-04T13:56:23.707431Z"
    },
    "papermill": {
     "duration": 0.20254,
     "end_time": "2022-02-04T14:11:43.799634",
     "exception": false,
     "start_time": "2022-02-04T14:11:43.597094",
     "status": "completed"
    },
    "tags": []
   },
   "outputs": [
    {
     "name": "stdout",
     "output_type": "stream",
     "text": [
      "[IterativeImputer] Completing matrix with shape (412, 25)\n",
      "[IterativeImputer] Ending imputation round 1/10, elapsed time 0.00\n",
      "[IterativeImputer] Ending imputation round 2/10, elapsed time 0.00\n",
      "[IterativeImputer] Ending imputation round 3/10, elapsed time 0.01\n",
      "[IterativeImputer] Ending imputation round 4/10, elapsed time 0.01\n",
      "[IterativeImputer] Ending imputation round 5/10, elapsed time 0.01\n",
      "[IterativeImputer] Ending imputation round 6/10, elapsed time 0.01\n",
      "[IterativeImputer] Ending imputation round 7/10, elapsed time 0.02\n",
      "[IterativeImputer] Ending imputation round 8/10, elapsed time 0.02\n",
      "[IterativeImputer] Ending imputation round 9/10, elapsed time 0.02\n",
      "[IterativeImputer] Ending imputation round 10/10, elapsed time 0.02\n",
      "[IterativeImputer] Completing matrix with shape (104, 25)\n",
      "[IterativeImputer] Ending imputation round 1/10, elapsed time 0.00\n",
      "[IterativeImputer] Ending imputation round 2/10, elapsed time 0.00\n",
      "[IterativeImputer] Ending imputation round 3/10, elapsed time 0.00\n",
      "[IterativeImputer] Ending imputation round 4/10, elapsed time 0.01\n",
      "[IterativeImputer] Ending imputation round 5/10, elapsed time 0.01\n",
      "[IterativeImputer] Ending imputation round 6/10, elapsed time 0.01\n",
      "[IterativeImputer] Ending imputation round 7/10, elapsed time 0.01\n",
      "[IterativeImputer] Ending imputation round 8/10, elapsed time 0.01\n",
      "[IterativeImputer] Ending imputation round 9/10, elapsed time 0.01\n",
      "[IterativeImputer] Ending imputation round 10/10, elapsed time 0.01\n"
     ]
    }
   ],
   "source": [
    "clf = RandomForestClassifier(n_estimators = 30, random_state = 2298)\n",
    "clf = clf.fit(impknn.transform(X_train), y_train)  \n",
    "preds = clf.predict(impknn.transform(X_test))  # Get predictions "
   ]
  },
  {
   "cell_type": "code",
   "execution_count": 69,
   "metadata": {
    "execution": {
     "iopub.execute_input": "2022-02-04T14:11:43.962099Z",
     "iopub.status.busy": "2022-02-04T14:11:43.961221Z",
     "iopub.status.idle": "2022-02-04T14:11:43.965448Z",
     "shell.execute_reply": "2022-02-04T14:11:43.965013Z",
     "shell.execute_reply.started": "2022-02-04T13:56:23.827744Z"
    },
    "papermill": {
     "duration": 0.083518,
     "end_time": "2022-02-04T14:11:43.965549",
     "exception": false,
     "start_time": "2022-02-04T14:11:43.882031",
     "status": "completed"
    },
    "tags": []
   },
   "outputs": [
    {
     "data": {
      "text/plain": [
       "0.769"
      ]
     },
     "execution_count": 69,
     "metadata": {},
     "output_type": "execute_result"
    }
   ],
   "source": [
    "round(accuracy_score(y_true = y_test, y_pred = preds), 3)"
   ]
  },
  {
   "cell_type": "code",
   "execution_count": 70,
   "metadata": {
    "execution": {
     "iopub.execute_input": "2022-02-04T14:11:44.182625Z",
     "iopub.status.busy": "2022-02-04T14:11:44.181877Z",
     "iopub.status.idle": "2022-02-04T14:11:44.190790Z",
     "shell.execute_reply": "2022-02-04T14:11:44.189859Z",
     "shell.execute_reply.started": "2022-02-04T13:56:23.836047Z"
    },
    "papermill": {
     "duration": 0.148838,
     "end_time": "2022-02-04T14:11:44.190963",
     "exception": false,
     "start_time": "2022-02-04T14:11:44.042125",
     "status": "completed"
    },
    "tags": []
   },
   "outputs": [],
   "source": [
    "from sklearn.pipeline import Pipeline\n",
    "pipeline = Pipeline(steps=[('i', IterativeImputer()), ('m', RandomForestClassifier())])"
   ]
  },
  {
   "cell_type": "code",
   "execution_count": 71,
   "metadata": {
    "execution": {
     "iopub.execute_input": "2022-02-04T14:11:44.442565Z",
     "iopub.status.busy": "2022-02-04T14:11:44.441729Z",
     "iopub.status.idle": "2022-02-04T14:11:44.905523Z",
     "shell.execute_reply": "2022-02-04T14:11:44.905087Z",
     "shell.execute_reply.started": "2022-02-04T13:56:23.844044Z"
    },
    "papermill": {
     "duration": 0.590849,
     "end_time": "2022-02-04T14:11:44.905626",
     "exception": false,
     "start_time": "2022-02-04T14:11:44.314777",
     "status": "completed"
    },
    "tags": []
   },
   "outputs": [
    {
     "data": {
      "text/plain": [
       "Pipeline(steps=[('i', IterativeImputer()), ('m', RandomForestClassifier())])"
      ]
     },
     "execution_count": 71,
     "metadata": {},
     "output_type": "execute_result"
    }
   ],
   "source": [
    "pipeline.fit(X_train, y_train)"
   ]
  },
  {
   "cell_type": "code",
   "execution_count": 72,
   "metadata": {
    "execution": {
     "iopub.execute_input": "2022-02-04T14:11:45.052288Z",
     "iopub.status.busy": "2022-02-04T14:11:45.051266Z",
     "iopub.status.idle": "2022-02-04T14:11:45.066606Z",
     "shell.execute_reply": "2022-02-04T14:11:45.066169Z",
     "shell.execute_reply.started": "2022-02-04T13:56:24.220435Z"
    },
    "papermill": {
     "duration": 0.09128,
     "end_time": "2022-02-04T14:11:45.066724",
     "exception": false,
     "start_time": "2022-02-04T14:11:44.975444",
     "status": "completed"
    },
    "tags": []
   },
   "outputs": [],
   "source": [
    "preds = pipeline.predict(X_test)"
   ]
  },
  {
   "cell_type": "code",
   "execution_count": 73,
   "metadata": {
    "execution": {
     "iopub.execute_input": "2022-02-04T14:11:45.214493Z",
     "iopub.status.busy": "2022-02-04T14:11:45.213961Z",
     "iopub.status.idle": "2022-02-04T14:11:45.218676Z",
     "shell.execute_reply": "2022-02-04T14:11:45.218257Z",
     "shell.execute_reply.started": "2022-02-04T13:56:24.248074Z"
    },
    "papermill": {
     "duration": 0.080489,
     "end_time": "2022-02-04T14:11:45.218775",
     "exception": false,
     "start_time": "2022-02-04T14:11:45.138286",
     "status": "completed"
    },
    "tags": []
   },
   "outputs": [
    {
     "data": {
      "text/plain": [
       "0.769"
      ]
     },
     "execution_count": 73,
     "metadata": {},
     "output_type": "execute_result"
    }
   ],
   "source": [
    "round(accuracy_score(y_true = y_test, y_pred = preds), 3)"
   ]
  },
  {
   "cell_type": "code",
   "execution_count": 74,
   "metadata": {
    "execution": {
     "iopub.execute_input": "2022-02-04T14:11:45.366477Z",
     "iopub.status.busy": "2022-02-04T14:11:45.365949Z",
     "iopub.status.idle": "2022-02-04T14:11:45.641552Z",
     "shell.execute_reply": "2022-02-04T14:11:45.642268Z",
     "shell.execute_reply.started": "2022-02-04T13:56:24.259780Z"
    },
    "papermill": {
     "duration": 0.353712,
     "end_time": "2022-02-04T14:11:45.642428",
     "exception": false,
     "start_time": "2022-02-04T14:11:45.288716",
     "status": "completed"
    },
    "tags": []
   },
   "outputs": [
    {
     "name": "stdout",
     "output_type": "stream",
     "text": [
      "[IterativeImputer] Completing matrix with shape (516, 25)\n",
      "[IterativeImputer] Ending imputation round 1/100, elapsed time 0.03\n",
      "[IterativeImputer] Change: 25.058036059686707, scaled tolerance: 1.017e-07 \n",
      "[IterativeImputer] Ending imputation round 2/100, elapsed time 0.05\n",
      "[IterativeImputer] Change: 2.9709066581884436, scaled tolerance: 1.017e-07 \n",
      "[IterativeImputer] Ending imputation round 3/100, elapsed time 0.08\n",
      "[IterativeImputer] Change: 0.3348964890637216, scaled tolerance: 1.017e-07 \n",
      "[IterativeImputer] Ending imputation round 4/100, elapsed time 0.11\n",
      "[IterativeImputer] Change: 0.035668912026892485, scaled tolerance: 1.017e-07 \n",
      "[IterativeImputer] Ending imputation round 5/100, elapsed time 0.13\n",
      "[IterativeImputer] Change: 0.0037191368300319994, scaled tolerance: 1.017e-07 \n",
      "[IterativeImputer] Ending imputation round 6/100, elapsed time 0.16\n",
      "[IterativeImputer] Change: 0.00038486574749363456, scaled tolerance: 1.017e-07 \n",
      "[IterativeImputer] Ending imputation round 7/100, elapsed time 0.19\n",
      "[IterativeImputer] Change: 3.972330977397576e-05, scaled tolerance: 1.017e-07 \n",
      "[IterativeImputer] Ending imputation round 8/100, elapsed time 0.21\n",
      "[IterativeImputer] Change: 4.096279250020984e-06, scaled tolerance: 1.017e-07 \n",
      "[IterativeImputer] Ending imputation round 9/100, elapsed time 0.24\n",
      "[IterativeImputer] Change: 4.222773082318554e-07, scaled tolerance: 1.017e-07 \n",
      "[IterativeImputer] Ending imputation round 10/100, elapsed time 0.27\n",
      "[IterativeImputer] Change: 4.3527023763090256e-08, scaled tolerance: 1.017e-07 \n",
      "[IterativeImputer] Early stopping criterion reached.\n"
     ]
    }
   ],
   "source": [
    "import numpy as np\n",
    "from sklearn.linear_model import LinearRegression\n",
    "\n",
    "lr = LinearRegression()\n",
    "imp = IterativeImputer(estimator=lr,missing_values=np.nan, tol=1e-10, max_iter=100, verbose=2, imputation_order='roman')\n",
    "X=imp.fit_transform(X)"
   ]
  },
  {
   "cell_type": "code",
   "execution_count": 75,
   "metadata": {
    "execution": {
     "iopub.execute_input": "2022-02-04T14:11:45.797322Z",
     "iopub.status.busy": "2022-02-04T14:11:45.796633Z",
     "iopub.status.idle": "2022-02-04T14:11:45.800170Z",
     "shell.execute_reply": "2022-02-04T14:11:45.799367Z",
     "shell.execute_reply.started": "2022-02-04T13:56:24.572527Z"
    },
    "papermill": {
     "duration": 0.079196,
     "end_time": "2022-02-04T14:11:45.800262",
     "exception": false,
     "start_time": "2022-02-04T14:11:45.721066",
     "status": "completed"
    },
    "tags": []
   },
   "outputs": [],
   "source": [
    "from sklearn.model_selection import train_test_split\n",
    "X_train, X_test, y_train, y_test = train_test_split(X, y, test_size=0.2, random_state=123)"
   ]
  },
  {
   "cell_type": "code",
   "execution_count": 76,
   "metadata": {
    "execution": {
     "iopub.execute_input": "2022-02-04T14:11:45.961125Z",
     "iopub.status.busy": "2022-02-04T14:11:45.956486Z",
     "iopub.status.idle": "2022-02-04T14:11:46.058003Z",
     "shell.execute_reply": "2022-02-04T14:11:46.057529Z",
     "shell.execute_reply.started": "2022-02-04T13:56:24.581558Z"
    },
    "papermill": {
     "duration": 0.187881,
     "end_time": "2022-02-04T14:11:46.058097",
     "exception": false,
     "start_time": "2022-02-04T14:11:45.870216",
     "status": "completed"
    },
    "tags": []
   },
   "outputs": [],
   "source": [
    "clf = RandomForestClassifier(n_estimators = 50, random_state = 11850) \n",
    "clf = clf.fit(X_train, y_train)  \n",
    "preds = clf.predict(X_test)  # Get predictions  "
   ]
  },
  {
   "cell_type": "code",
   "execution_count": 77,
   "metadata": {
    "execution": {
     "iopub.execute_input": "2022-02-04T14:11:46.213745Z",
     "iopub.status.busy": "2022-02-04T14:11:46.213066Z",
     "iopub.status.idle": "2022-02-04T14:11:46.217906Z",
     "shell.execute_reply": "2022-02-04T14:11:46.217353Z",
     "shell.execute_reply.started": "2022-02-04T13:56:24.773577Z"
    },
    "papermill": {
     "duration": 0.089248,
     "end_time": "2022-02-04T14:11:46.218022",
     "exception": false,
     "start_time": "2022-02-04T14:11:46.128774",
     "status": "completed"
    },
    "tags": []
   },
   "outputs": [
    {
     "data": {
      "text/plain": [
       "0.769"
      ]
     },
     "execution_count": 77,
     "metadata": {},
     "output_type": "execute_result"
    }
   ],
   "source": [
    "round(accuracy_score(y_true = y_test, y_pred = preds), 3)"
   ]
  },
  {
   "cell_type": "code",
   "execution_count": 78,
   "metadata": {
    "execution": {
     "iopub.execute_input": "2022-02-04T14:11:46.370940Z",
     "iopub.status.busy": "2022-02-04T14:11:46.368424Z",
     "iopub.status.idle": "2022-02-04T14:11:46.375446Z",
     "shell.execute_reply": "2022-02-04T14:11:46.374964Z",
     "shell.execute_reply.started": "2022-02-04T13:56:24.791787Z"
    },
    "papermill": {
     "duration": 0.081389,
     "end_time": "2022-02-04T14:11:46.375537",
     "exception": false,
     "start_time": "2022-02-04T14:11:46.294148",
     "status": "completed"
    },
    "tags": []
   },
   "outputs": [
    {
     "data": {
      "text/plain": [
       "array([[1.140e+02, 5.800e+01, 7.300e+01, ..., 4.500e-01, 2.000e-02,\n",
       "        4.840e+00],\n",
       "       [1.780e+02, 7.800e+01, 8.400e+01, ..., 1.000e-01, 9.000e-02,\n",
       "        1.437e+01],\n",
       "       [1.230e+02, 6.200e+01, 7.900e+01, ..., 1.150e+00, 1.000e-01,\n",
       "        1.589e+01],\n",
       "       ...,\n",
       "       [1.150e+02, 6.900e+01, 8.100e+01, ..., 1.800e+01, 6.000e-02,\n",
       "        6.200e+00],\n",
       "       [1.290e+02, 6.900e+01, 8.400e+01, ..., 7.500e+00, 3.000e-02,\n",
       "        3.400e+00],\n",
       "       [1.100e+02, 5.300e+01, 6.400e+01, ..., 4.400e+00, 5.000e-02,\n",
       "        6.200e+00]])"
      ]
     },
     "execution_count": 78,
     "metadata": {},
     "output_type": "execute_result"
    }
   ],
   "source": [
    "X"
   ]
  },
  {
   "cell_type": "code",
   "execution_count": 79,
   "metadata": {
    "execution": {
     "iopub.execute_input": "2022-02-04T14:11:46.526736Z",
     "iopub.status.busy": "2022-02-04T14:11:46.525926Z",
     "iopub.status.idle": "2022-02-04T14:11:46.554225Z",
     "shell.execute_reply": "2022-02-04T14:11:46.554641Z",
     "shell.execute_reply.started": "2022-02-04T13:56:24.808222Z"
    },
    "papermill": {
     "duration": 0.104992,
     "end_time": "2022-02-04T14:11:46.554777",
     "exception": false,
     "start_time": "2022-02-04T14:11:46.449785",
     "status": "completed"
    },
    "tags": []
   },
   "outputs": [
    {
     "data": {
      "text/html": [
       "<div>\n",
       "<style scoped>\n",
       "    .dataframe tbody tr th:only-of-type {\n",
       "        vertical-align: middle;\n",
       "    }\n",
       "\n",
       "    .dataframe tbody tr th {\n",
       "        vertical-align: top;\n",
       "    }\n",
       "\n",
       "    .dataframe thead th {\n",
       "        text-align: right;\n",
       "    }\n",
       "</style>\n",
       "<table border=\"1\" class=\"dataframe\">\n",
       "  <thead>\n",
       "    <tr style=\"text-align: right;\">\n",
       "      <th></th>\n",
       "      <th>systolic BP (mmHg) V1</th>\n",
       "      <th>diastolic BP (mmHg) V1</th>\n",
       "      <th>Pulse (bpm) V1</th>\n",
       "      <th>Weight (kg) V1</th>\n",
       "      <th>Height (cm) V1</th>\n",
       "      <th>BMI (kg/m2) V1</th>\n",
       "      <th>HighRisk 10</th>\n",
       "      <th>Smoking 123</th>\n",
       "      <th>Alcohol Intake V1</th>\n",
       "      <th>White 10 V1</th>\n",
       "      <th>...</th>\n",
       "      <th>V1 CRP</th>\n",
       "      <th>V1 U protein</th>\n",
       "      <th>V1 U creatinine</th>\n",
       "      <th>V1 PCR</th>\n",
       "      <th>GCT OGTT high 10</th>\n",
       "      <th>1h glucose</th>\n",
       "      <th>OGTT 0h value</th>\n",
       "      <th>OGTT 1h value</th>\n",
       "      <th>OGTT 2h value</th>\n",
       "      <th>GDM</th>\n",
       "    </tr>\n",
       "  </thead>\n",
       "  <tbody>\n",
       "    <tr>\n",
       "      <th>0</th>\n",
       "      <td>114</td>\n",
       "      <td>58</td>\n",
       "      <td>73</td>\n",
       "      <td>59.4</td>\n",
       "      <td>169.6</td>\n",
       "      <td>20.650699</td>\n",
       "      <td>0</td>\n",
       "      <td>3</td>\n",
       "      <td>0</td>\n",
       "      <td>1</td>\n",
       "      <td>...</td>\n",
       "      <td>0.45</td>\n",
       "      <td>0.02</td>\n",
       "      <td>4.84</td>\n",
       "      <td>0.004132</td>\n",
       "      <td>0.0</td>\n",
       "      <td>NaN</td>\n",
       "      <td>4.10</td>\n",
       "      <td>7.39</td>\n",
       "      <td>3.70</td>\n",
       "      <td>0</td>\n",
       "    </tr>\n",
       "    <tr>\n",
       "      <th>1</th>\n",
       "      <td>178</td>\n",
       "      <td>78</td>\n",
       "      <td>84</td>\n",
       "      <td>70.1</td>\n",
       "      <td>154.9</td>\n",
       "      <td>29.215625</td>\n",
       "      <td>0</td>\n",
       "      <td>3</td>\n",
       "      <td>0</td>\n",
       "      <td>1</td>\n",
       "      <td>...</td>\n",
       "      <td>0.10</td>\n",
       "      <td>0.09</td>\n",
       "      <td>14.37</td>\n",
       "      <td>0.006263</td>\n",
       "      <td>1.0</td>\n",
       "      <td>9.66</td>\n",
       "      <td>NaN</td>\n",
       "      <td>NaN</td>\n",
       "      <td>NaN</td>\n",
       "      <td>1</td>\n",
       "    </tr>\n",
       "    <tr>\n",
       "      <th>2</th>\n",
       "      <td>123</td>\n",
       "      <td>62</td>\n",
       "      <td>79</td>\n",
       "      <td>64.9</td>\n",
       "      <td>157.8</td>\n",
       "      <td>26.063378</td>\n",
       "      <td>0</td>\n",
       "      <td>3</td>\n",
       "      <td>0</td>\n",
       "      <td>1</td>\n",
       "      <td>...</td>\n",
       "      <td>1.15</td>\n",
       "      <td>0.10</td>\n",
       "      <td>15.89</td>\n",
       "      <td>0.006293</td>\n",
       "      <td>0.0</td>\n",
       "      <td>5.34</td>\n",
       "      <td>NaN</td>\n",
       "      <td>NaN</td>\n",
       "      <td>NaN</td>\n",
       "      <td>0</td>\n",
       "    </tr>\n",
       "    <tr>\n",
       "      <th>3</th>\n",
       "      <td>115</td>\n",
       "      <td>68</td>\n",
       "      <td>82</td>\n",
       "      <td>67.1</td>\n",
       "      <td>164.7</td>\n",
       "      <td>24.736333</td>\n",
       "      <td>0</td>\n",
       "      <td>3</td>\n",
       "      <td>0</td>\n",
       "      <td>1</td>\n",
       "      <td>...</td>\n",
       "      <td>0.22</td>\n",
       "      <td>0.03</td>\n",
       "      <td>2.78</td>\n",
       "      <td>0.010791</td>\n",
       "      <td>0.0</td>\n",
       "      <td>NaN</td>\n",
       "      <td>4.50</td>\n",
       "      <td>5.84</td>\n",
       "      <td>6.66</td>\n",
       "      <td>0</td>\n",
       "    </tr>\n",
       "    <tr>\n",
       "      <th>4</th>\n",
       "      <td>116</td>\n",
       "      <td>61</td>\n",
       "      <td>92</td>\n",
       "      <td>67.5</td>\n",
       "      <td>169.9</td>\n",
       "      <td>23.383904</td>\n",
       "      <td>0</td>\n",
       "      <td>3</td>\n",
       "      <td>0</td>\n",
       "      <td>1</td>\n",
       "      <td>...</td>\n",
       "      <td>0.41</td>\n",
       "      <td>0.05</td>\n",
       "      <td>9.52</td>\n",
       "      <td>0.005252</td>\n",
       "      <td>0.0</td>\n",
       "      <td>NaN</td>\n",
       "      <td>4.60</td>\n",
       "      <td>4.43</td>\n",
       "      <td>3.97</td>\n",
       "      <td>0</td>\n",
       "    </tr>\n",
       "    <tr>\n",
       "      <th>...</th>\n",
       "      <td>...</td>\n",
       "      <td>...</td>\n",
       "      <td>...</td>\n",
       "      <td>...</td>\n",
       "      <td>...</td>\n",
       "      <td>...</td>\n",
       "      <td>...</td>\n",
       "      <td>...</td>\n",
       "      <td>...</td>\n",
       "      <td>...</td>\n",
       "      <td>...</td>\n",
       "      <td>...</td>\n",
       "      <td>...</td>\n",
       "      <td>...</td>\n",
       "      <td>...</td>\n",
       "      <td>...</td>\n",
       "      <td>...</td>\n",
       "      <td>...</td>\n",
       "      <td>...</td>\n",
       "      <td>...</td>\n",
       "      <td>...</td>\n",
       "    </tr>\n",
       "    <tr>\n",
       "      <th>595</th>\n",
       "      <td>127</td>\n",
       "      <td>72</td>\n",
       "      <td>89</td>\n",
       "      <td>57.6</td>\n",
       "      <td>159.7</td>\n",
       "      <td>22.584613</td>\n",
       "      <td>0</td>\n",
       "      <td>3</td>\n",
       "      <td>0</td>\n",
       "      <td>1</td>\n",
       "      <td>...</td>\n",
       "      <td>2.60</td>\n",
       "      <td>0.12</td>\n",
       "      <td>10.70</td>\n",
       "      <td>0.011215</td>\n",
       "      <td>0.0</td>\n",
       "      <td>NaN</td>\n",
       "      <td>3.95</td>\n",
       "      <td>6.83</td>\n",
       "      <td>4.82</td>\n",
       "      <td>0</td>\n",
       "    </tr>\n",
       "    <tr>\n",
       "      <th>596</th>\n",
       "      <td>138</td>\n",
       "      <td>63</td>\n",
       "      <td>98</td>\n",
       "      <td>94.5</td>\n",
       "      <td>156.9</td>\n",
       "      <td>38.387155</td>\n",
       "      <td>0</td>\n",
       "      <td>1</td>\n",
       "      <td>0</td>\n",
       "      <td>1</td>\n",
       "      <td>...</td>\n",
       "      <td>15.40</td>\n",
       "      <td>0.12</td>\n",
       "      <td>9.70</td>\n",
       "      <td>0.012371</td>\n",
       "      <td>1.0</td>\n",
       "      <td>NaN</td>\n",
       "      <td>6.19</td>\n",
       "      <td>11.01</td>\n",
       "      <td>7.17</td>\n",
       "      <td>1</td>\n",
       "    </tr>\n",
       "    <tr>\n",
       "      <th>597</th>\n",
       "      <td>115</td>\n",
       "      <td>69</td>\n",
       "      <td>81</td>\n",
       "      <td>93.1</td>\n",
       "      <td>162.6</td>\n",
       "      <td>35.213452</td>\n",
       "      <td>0</td>\n",
       "      <td>2</td>\n",
       "      <td>0</td>\n",
       "      <td>1</td>\n",
       "      <td>...</td>\n",
       "      <td>18.00</td>\n",
       "      <td>0.06</td>\n",
       "      <td>6.20</td>\n",
       "      <td>0.009677</td>\n",
       "      <td>0.0</td>\n",
       "      <td>4.23</td>\n",
       "      <td>NaN</td>\n",
       "      <td>NaN</td>\n",
       "      <td>NaN</td>\n",
       "      <td>0</td>\n",
       "    </tr>\n",
       "    <tr>\n",
       "      <th>598</th>\n",
       "      <td>129</td>\n",
       "      <td>69</td>\n",
       "      <td>84</td>\n",
       "      <td>78.4</td>\n",
       "      <td>177.4</td>\n",
       "      <td>24.912014</td>\n",
       "      <td>0</td>\n",
       "      <td>3</td>\n",
       "      <td>0</td>\n",
       "      <td>1</td>\n",
       "      <td>...</td>\n",
       "      <td>7.50</td>\n",
       "      <td>0.03</td>\n",
       "      <td>3.40</td>\n",
       "      <td>0.008824</td>\n",
       "      <td>1.0</td>\n",
       "      <td>8.10</td>\n",
       "      <td>NaN</td>\n",
       "      <td>NaN</td>\n",
       "      <td>NaN</td>\n",
       "      <td>1</td>\n",
       "    </tr>\n",
       "    <tr>\n",
       "      <th>599</th>\n",
       "      <td>110</td>\n",
       "      <td>53</td>\n",
       "      <td>64</td>\n",
       "      <td>64.2</td>\n",
       "      <td>155.0</td>\n",
       "      <td>26.722164</td>\n",
       "      <td>0</td>\n",
       "      <td>3</td>\n",
       "      <td>0</td>\n",
       "      <td>1</td>\n",
       "      <td>...</td>\n",
       "      <td>4.40</td>\n",
       "      <td>0.05</td>\n",
       "      <td>6.20</td>\n",
       "      <td>0.008065</td>\n",
       "      <td>0.0</td>\n",
       "      <td>NaN</td>\n",
       "      <td>4.24</td>\n",
       "      <td>7.43</td>\n",
       "      <td>4.55</td>\n",
       "      <td>0</td>\n",
       "    </tr>\n",
       "  </tbody>\n",
       "</table>\n",
       "<p>516 rows × 32 columns</p>\n",
       "</div>"
      ],
      "text/plain": [
       "     systolic BP (mmHg) V1  diastolic BP (mmHg) V1  Pulse (bpm) V1  \\\n",
       "0                      114                      58              73   \n",
       "1                      178                      78              84   \n",
       "2                      123                      62              79   \n",
       "3                      115                      68              82   \n",
       "4                      116                      61              92   \n",
       "..                     ...                     ...             ...   \n",
       "595                    127                      72              89   \n",
       "596                    138                      63              98   \n",
       "597                    115                      69              81   \n",
       "598                    129                      69              84   \n",
       "599                    110                      53              64   \n",
       "\n",
       "     Weight (kg) V1  Height (cm) V1  BMI (kg/m2) V1  HighRisk 10  Smoking 123  \\\n",
       "0              59.4           169.6       20.650699            0            3   \n",
       "1              70.1           154.9       29.215625            0            3   \n",
       "2              64.9           157.8       26.063378            0            3   \n",
       "3              67.1           164.7       24.736333            0            3   \n",
       "4              67.5           169.9       23.383904            0            3   \n",
       "..              ...             ...             ...          ...          ...   \n",
       "595            57.6           159.7       22.584613            0            3   \n",
       "596            94.5           156.9       38.387155            0            1   \n",
       "597            93.1           162.6       35.213452            0            2   \n",
       "598            78.4           177.4       24.912014            0            3   \n",
       "599            64.2           155.0       26.722164            0            3   \n",
       "\n",
       "     Alcohol Intake V1  White 10 V1  ...  V1 CRP  V1 U protein  \\\n",
       "0                    0            1  ...    0.45          0.02   \n",
       "1                    0            1  ...    0.10          0.09   \n",
       "2                    0            1  ...    1.15          0.10   \n",
       "3                    0            1  ...    0.22          0.03   \n",
       "4                    0            1  ...    0.41          0.05   \n",
       "..                 ...          ...  ...     ...           ...   \n",
       "595                  0            1  ...    2.60          0.12   \n",
       "596                  0            1  ...   15.40          0.12   \n",
       "597                  0            1  ...   18.00          0.06   \n",
       "598                  0            1  ...    7.50          0.03   \n",
       "599                  0            1  ...    4.40          0.05   \n",
       "\n",
       "     V1 U creatinine    V1 PCR  GCT OGTT high 10  1h glucose  OGTT 0h value  \\\n",
       "0               4.84  0.004132               0.0         NaN           4.10   \n",
       "1              14.37  0.006263               1.0        9.66            NaN   \n",
       "2              15.89  0.006293               0.0        5.34            NaN   \n",
       "3               2.78  0.010791               0.0         NaN           4.50   \n",
       "4               9.52  0.005252               0.0         NaN           4.60   \n",
       "..               ...       ...               ...         ...            ...   \n",
       "595            10.70  0.011215               0.0         NaN           3.95   \n",
       "596             9.70  0.012371               1.0         NaN           6.19   \n",
       "597             6.20  0.009677               0.0        4.23            NaN   \n",
       "598             3.40  0.008824               1.0        8.10            NaN   \n",
       "599             6.20  0.008065               0.0         NaN           4.24   \n",
       "\n",
       "     OGTT 1h value  OGTT 2h value  GDM  \n",
       "0             7.39           3.70    0  \n",
       "1              NaN            NaN    1  \n",
       "2              NaN            NaN    0  \n",
       "3             5.84           6.66    0  \n",
       "4             4.43           3.97    0  \n",
       "..             ...            ...  ...  \n",
       "595           6.83           4.82    0  \n",
       "596          11.01           7.17    1  \n",
       "597            NaN            NaN    0  \n",
       "598            NaN            NaN    1  \n",
       "599           7.43           4.55    0  \n",
       "\n",
       "[516 rows x 32 columns]"
      ]
     },
     "execution_count": 79,
     "metadata": {},
     "output_type": "execute_result"
    }
   ],
   "source": [
    "df"
   ]
  }
 ],
 "metadata": {
  "kernelspec": {
   "display_name": "Python 3",
   "language": "python",
   "name": "python3"
  },
  "language_info": {
   "codemirror_mode": {
    "name": "ipython",
    "version": 3
   },
   "file_extension": ".py",
   "mimetype": "text/x-python",
   "name": "python",
   "nbconvert_exporter": "python",
   "pygments_lexer": "ipython3",
   "version": "3.7.6"
  },
  "papermill": {
   "duration": 34.013665,
   "end_time": "2022-02-04T14:11:46.741536",
   "environment_variables": {},
   "exception": null,
   "input_path": "__notebook__.ipynb",
   "output_path": "__notebook__.ipynb",
   "parameters": {},
   "start_time": "2022-02-04T14:11:12.727871",
   "version": "2.1.0"
  }
 },
 "nbformat": 4,
 "nbformat_minor": 4
}
